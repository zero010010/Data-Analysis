{
 "cells": [
  {
   "cell_type": "markdown",
   "metadata": {},
   "source": [
    "![imagen](./img/python.jpg)\n",
    "\n",
    "# SQL en Python\n",
    "Podrás atacar a una base de datos SQL desde muchas plataformas/lenguajes. Por supuesto, Python es uno de ellos. Para ello **utilizaremos el módulo `sqlite3`**, que viene incluido en la suite de paquetes de Anaconda.\n",
    "\n",
    "\n",
    "1. [Configuración del entorno](#1.-Configuración-del-entorno)\n",
    "2. [Modelo de datos](#2.-Modelo-de-datos)\n",
    "3. [Queries](#3.-Queries)\n",
    "\n",
    "    3.1 [Primera query](#3.1-Primera-query)\n",
    "    \n",
    "    3.2 [SELECT](#3.2-SELECT)\n",
    "    \n",
    "    3.3 [LIMIT](#3.3-LIMIT)\n",
    "    \n",
    "    3.4 [DISTINCT](#3.4-DISTINCT)\n",
    "    \n",
    "    3.5 [WHERE](#3.5-WHERE)\n",
    "    \n",
    "    3.6 [ORDER BY](#3.6-ORDER-BY)\n",
    "    \n",
    "    3.7 [Agregaciones](#3.7-Agregaciones)\n",
    "    \n",
    "    3.8 [GROUP BY](#3.8-GROUP-BY)\n",
    "    \n",
    "    3.9 [JOIN](#3.9-JOIN)\n",
    "    \n",
    "    3.10 [VIEW y DROP](#3.10-VIEW-y-DROP)\n",
    "    \n",
    "4. [Errores](#4.-Errores)\n",
    "\n",
    "5. [Resumen](#5.-Resumen)\n"
   ]
  },
  {
   "cell_type": "markdown",
   "metadata": {},
   "source": [
    "## 1. Configuración del entorno\n",
    "En este taller usaremos también *Pandas*, que es el módulo para tratamiento de datos tabular que más se usa en Python.\n",
    "\n",
    "Importamos ambos paquetes"
   ]
  },
  {
   "cell_type": "code",
   "execution_count": 41,
   "metadata": {},
   "outputs": [
    {
     "name": "stdout",
     "output_type": "stream",
     "text": [
      "Requirement already satisfied: mysql-connector-python in /Library/Frameworks/Python.framework/Versions/3.11/lib/python3.11/site-packages (8.2.0)\n",
      "Requirement already satisfied: protobuf<=4.21.12,>=4.21.1 in /Library/Frameworks/Python.framework/Versions/3.11/lib/python3.11/site-packages (from mysql-connector-python) (4.21.12)\n",
      "Note: you may need to restart the kernel to use updated packages.\n"
     ]
    }
   ],
   "source": [
    "pip install mysql-connector-python"
   ]
  },
  {
   "cell_type": "code",
   "execution_count": 3,
   "metadata": {},
   "outputs": [],
   "source": [
    "import pandas as pd\n",
    "import sqlite3 "
   ]
  },
  {
   "cell_type": "markdown",
   "metadata": {},
   "source": [
    "Lo primero que hacemos es **establecer conexión con la base de datos**. En este taller simplemente leeremos la base de datos de un archivo, pero lo normal es que tengamos que configurar la conexión a una base de datos de la empresa. Para ello existen otras librerías como `pyodbc` en el caso de un SQLServer o `cx_Oracle`, si el servidor es Oracle.\n",
    "\n",
    "**¡Asegurate que tienes el archivo chinook.db en la ruta donde se encuentra este Notebook!**"
   ]
  },
  {
   "cell_type": "code",
   "execution_count": 39,
   "metadata": {},
   "outputs": [
    {
     "data": {
      "text/plain": [
       "'/Users/miguelopez/Desktop/Juanmi_Bootcamp_repo/repository /2-Data Analytics/6-SQL/SQL_en_python'"
      ]
     },
     "execution_count": 39,
     "metadata": {},
     "output_type": "execute_result"
    }
   ],
   "source": [
    "import os\n",
    "os.getcwd()"
   ]
  },
  {
   "cell_type": "code",
   "execution_count": 4,
   "metadata": {},
   "outputs": [],
   "source": [
    "# Conectamos con la base de datos chinook.db\n",
    "connection = sqlite3.connect('/Users/miguelopez/Desktop/Juanmi_Bootcamp_repo/repository /2-Data Analytics/6-SQL/SQL_en_python/chinook.db')\n",
    "\n",
    "# Obtenemos un cursor que utilizaremos para hacer las queries\n",
    "crsr = connection.cursor()"
   ]
  },
  {
   "cell_type": "code",
   "execution_count": 5,
   "metadata": {},
   "outputs": [],
   "source": [
    "# Con esta función leemos los datos y lo pasamos a un DataFrame de Pandas\n",
    "def sql_query(query):\n",
    "\n",
    "    # Ejecuta la query\n",
    "    crsr.execute(query)\n",
    "\n",
    "    # Almacena los datos de la query \n",
    "    ans = crsr.fetchall()\n",
    "\n",
    "    # Obtenemos los nombres de las columnas de la tabla\n",
    "    names = [description[0] for description in crsr.description]\n",
    "\n",
    "    return pd.DataFrame(ans,columns=names)"
   ]
  },
  {
   "cell_type": "markdown",
   "metadata": {},
   "source": [
    "## 2. Modelo de datos\n",
    "Antes de empezar a atacar una base de datos, tendremos que saber qué hay dentro, y para ello lo mejor es ver cómo es su **modelo de datos**\n",
    "\n",
    "![imagen](./img/chinook_data_model.png)"
   ]
  },
  {
   "cell_type": "markdown",
   "metadata": {},
   "source": [
    "Puedes ver todas las tablas que hay en la base de datos con la siguiente sentencia"
   ]
  },
  {
   "cell_type": "code",
   "execution_count": 6,
   "metadata": {},
   "outputs": [
    {
     "name": "stdout",
     "output_type": "stream",
     "text": [
      "Album\n",
      "Artist\n",
      "Customer\n",
      "Employee\n",
      "Genre\n",
      "Invoice\n",
      "InvoiceLine\n",
      "MediaType\n",
      "Playlist\n",
      "PlaylistTrack\n",
      "Track\n"
     ]
    }
   ],
   "source": [
    "res = crsr.execute(\"SELECT name FROM sqlite_master WHERE type='table'\")\n",
    "for name in res:\n",
    "    print(name[0])"
   ]
  },
  {
   "cell_type": "markdown",
   "metadata": {},
   "source": [
    "## 3. Queries\n",
    "En las *queries* o consultas, escribiremos nuestra sentencia SQL para poder traernos datos de la base de datos. Las queries tienen esta pinta:\n",
    "\n",
    "```SQL\n",
    "SELECT campo1, campo2, campo3...\n",
    "FROM tabla\n",
    "WHERE condiciones\n",
    "```\n",
    "\n",
    "Por supuesto, hay más sentencias propias de SQL que iremos viendo a lo largo del Notebook. Fíjate que las **palabras reservadas en SQL se suelen poner en mayúsculas**, para diferenciarlas del resto. No da error si se pone de otra manera, ya que SQL **no es *case sensitive***, pero sí se suele hacer así."
   ]
  },
  {
   "cell_type": "markdown",
   "metadata": {},
   "source": [
    "### 3.1 Primera query"
   ]
  },
  {
   "cell_type": "code",
   "execution_count": null,
   "metadata": {},
   "outputs": [],
   "source": [
    "query ='''\n",
    "SELECT Name as \"Nombre Cancion\", composer as \"Compositor\"\n",
    "FROM tracks'''\n",
    "\n",
    "\n",
    "sql_query(query)"
   ]
  },
  {
   "cell_type": "code",
   "execution_count": null,
   "metadata": {},
   "outputs": [],
   "source": []
  },
  {
   "cell_type": "markdown",
   "metadata": {},
   "source": [
    "### 3.3 LIMIT (head)\n",
    "Se usa para acotar el número de registros de la query. Va siempre al final. Por ejemplo `LIMIT 10`"
   ]
  },
  {
   "cell_type": "code",
   "execution_count": null,
   "metadata": {},
   "outputs": [],
   "source": [
    "query = '''\n",
    "SELECT Name as \"Nombre Cancion\", composer\n",
    "FROM tracks\n",
    "LIMIT 10\n",
    "'''\n",
    "\n",
    "sql_query(query)"
   ]
  },
  {
   "cell_type": "markdown",
   "metadata": {},
   "source": [
    "### 3.4 DISTINCT / unique\n",
    "Se usa para obtener todos los registros únicos, es decir, sin duplicados. Muy útil tanto para eliminar dupicados, como para ver todas las casuísticas de un campo en concreto.\n",
    "\n",
    "**Mucho cuidado con esta sentencia ya que si la tabla tiene miles o millones de registros, puede ralentizar mucho la query.**"
   ]
  },
  {
   "cell_type": "code",
   "execution_count": null,
   "metadata": {},
   "outputs": [],
   "source": [
    "query = '''\n",
    "SELECT DISTINCT Composer\n",
    "FROM tracks\n",
    "'''\n",
    "\n",
    "sql_query(query)"
   ]
  },
  {
   "cell_type": "markdown",
   "metadata": {},
   "source": [
    "### 3.5 WHERE / conditional . sql no asigna valores como python \n",
    "Se usa para filtrar filas. Ejemplos de uso:\n",
    "* **Un valor numérico**\n",
    "    * UnitPrice = 0.99\n",
    "    * UnitPrice >= 0.99\n",
    "    * UnitPrice < 0.99\n",
    "* **Un valor string**: Name = 'Restless and Wild'\n",
    "* **Varios valores**: GenreId in (1, 5, 12)\n",
    "* **string contenido**:\n",
    "    * strings que empiecen por 'A': Name like 'A%'\n",
    "    * strings que acaben en 'A': Name like '%A'\n",
    "    * strings que lleven 'A' en algun punto: Name like '%A%'\n",
    "* **Distinto de**: UnitPrice <> 0.99\n",
    "\n",
    "Probamos el `WHERE`"
   ]
  },
  {
   "cell_type": "code",
   "execution_count": null,
   "metadata": {},
   "outputs": [],
   "source": [
    "query = '''\n",
    "SELECT * \n",
    "FROM tracks\n",
    "WHERE unitprice > 0.99\n",
    "'''\n",
    "\n",
    "sql_query(query)"
   ]
  },
  {
   "cell_type": "markdown",
   "metadata": {},
   "source": [
    "Veamos qué tal funciona el `LIKE`"
   ]
  },
  {
   "cell_type": "code",
   "execution_count": null,
   "metadata": {},
   "outputs": [],
   "source": [
    "query = '''\n",
    "SELECT * \n",
    "FROM tracks\n",
    "WHERE composer LIKE '%Brian Johnson%'\n",
    "'''\n",
    "\n",
    "sql_query(query)"
   ]
  },
  {
   "cell_type": "markdown",
   "metadata": {},
   "source": [
    "Compliquemos un poco más el `WHERE`"
   ]
  },
  {
   "cell_type": "code",
   "execution_count": null,
   "metadata": {},
   "outputs": [],
   "source": [
    "query = '''\n",
    "SELECT * \n",
    "FROM tracks\n",
    "WHERE (unitprice > 0.99 or bytes > 100000000) and genreid in (21, 22, 23) and Name LIKE '%al%'\n",
    "'''\n",
    "\n",
    "df = sql_query(query)\n",
    "df\n"
   ]
  },
  {
   "cell_type": "markdown",
   "metadata": {},
   "source": [
    "### 3.6 ORDER BY\n",
    "Podemos **ordenar la tabla por el campo/s que queramos**. Por defecto ordena alfabéticamente los strings y de menor a mayor los tipos numéricos. Si quieres que ordene al revés, tienes que poner `DESC` de la forma `ORDER BY campo DESC`"
   ]
  },
  {
   "cell_type": "code",
   "execution_count": null,
   "metadata": {},
   "outputs": [],
   "source": [
    "query = '''\n",
    "SELECT * \n",
    "FROM tracks\n",
    "ORDER BY name DESC;\n",
    "'''\n",
    "\n",
    "sql_query(query)"
   ]
  },
  {
   "cell_type": "markdown",
   "metadata": {},
   "source": [
    "### 3.7 Agregaciones\n",
    "En ocasiones nos interesa obtener algún estadístico como el máximo de un campo, su desviación estándar o simplemente un conteo de registros no nulos. Para ello podemos usar funciones como `MAX`, `COUNT` o `AVG`. En [esta página](https://www.sqlservertutorial.net/sql-server-aggregate-functions/) encontrarás un resumen con las principales funciones."
   ]
  },
  {
   "cell_type": "code",
   "execution_count": null,
   "metadata": {},
   "outputs": [],
   "source": [
    "# Aggregations\n",
    "query = '''\n",
    "SELECT COUNT(*)\n",
    "FROM tracks\n",
    "WHERE name LIKE 'a%';\n",
    "'''\n",
    "\n",
    "sql_query(query)"
   ]
  },
  {
   "cell_type": "code",
   "execution_count": null,
   "metadata": {},
   "outputs": [],
   "source": [
    "query = '''\n",
    "SELECT AVG(unitprice)\n",
    "FROM invoice_items;\n",
    "'''\n",
    "\n",
    "sql_query(query)"
   ]
  },
  {
   "cell_type": "markdown",
   "metadata": {},
   "source": [
    "### 3.8 GROUP BY\n",
    "Es una sentencia muy útil para **calcular agregados en función de otro campo**. Por ejemplo, para calcular el total del precio unitario en función del género\n"
   ]
  },
  {
   "cell_type": "code",
   "execution_count": null,
   "metadata": {},
   "outputs": [],
   "source": [
    "query = '''\n",
    "SELECT GenreId, SUM(unitprice) as TOT_PRICE\n",
    "FROM tracks\n",
    "GROUP BY GenreId\n",
    "ORDER BY TOT_PRICE DESC\n",
    "LIMIT 10;\n",
    "\n",
    "\n",
    "sql_query(query)"
   ]
  },
  {
   "cell_type": "markdown",
   "metadata": {},
   "source": [
    "O calcular cuantas canciones hay por compositor"
   ]
  },
  {
   "cell_type": "code",
   "execution_count": null,
   "metadata": {},
   "outputs": [],
   "source": [
    "query = '''\n",
    "SELECT composer, COUNT(trackid)\n",
    "FROM tracks\n",
    "WHERE Composer IS NOT NULL\n",
    "GROUP BY composer\n",
    "ORDER BY 2 DESC\n",
    "LIMIT 100\n",
    ";\n",
    "'''\n",
    "\n",
    "sql_query(query)"
   ]
  },
  {
   "cell_type": "markdown",
   "metadata": {},
   "source": [
    "### 3.9 JOIN\n",
    "Hasta ahora hemos hecho queries sobre una única tabla, pero **¿y si queremos juntar datos de varias tablas?** Para eso están los `JOIN`s. Para ello **necesitas tener uno o varios campos comunes entre ambas tablas, que denominan CLAVES**.\n",
    "\n",
    "**¿Cuándo usarlos?** Por ejemplo, si tenemos una tabla con un conjunto de clientes y necesitamos añadirles campos nuevos, tendremos que acudir a otras tablas donde esté ese identificador de cliente y aplicar un `JOIN`. Es lo que se conoce como *pegar campos* a otra tabla.\n",
    "\n",
    "O imagina que tienes una tabla con todos tus pedidos, con muchos campos(ciudad, dirección, cliente...) y en otra tabla únicamente los números de pedido que no se llegaron a entregar. Si quieres filtrar dentro de tu tabla total de pedidos los que no se llegaron a entregar, podrías aplicar un `INNER JOIN` de manera que te quedes con lo común en ambas tablas, siendo tu clave el identificativo del pedido..\n",
    "\n",
    "Existen varios tipos de JOINs:\n",
    "\n",
    "![imagen](./img/joins.jpg)"
   ]
  },
  {
   "cell_type": "markdown",
   "metadata": {},
   "source": [
    "![imagen](./img/chinook_data_model.png)"
   ]
  },
  {
   "cell_type": "code",
   "execution_count": null,
   "metadata": {},
   "outputs": [],
   "source": [
    "#INNER JOIN\n",
    "query = '''\n",
    "SELECT a.name as track_name, a.composer, b.name as genre_name\n",
    "FROM tracks AS a\n",
    "INNER JOIN genres AS b\n",
    "ON a.genreid = b.genreid\n",
    ";\n",
    "'''\n",
    "\n",
    "sql_query(query)"
   ]
  },
  {
   "cell_type": "code",
   "execution_count": null,
   "metadata": {},
   "outputs": [],
   "source": [
    "query = '''\n",
    "SELECT b.name as genre_name, SUM(a.unitprice) as TOT_PRICE\n",
    "FROM tracks as a\n",
    "INNER JOIN genres as b\n",
    "on a.GenreId=b.GenreId\n",
    "GROUP BY b.name\n",
    "ORDER BY TOT_PRICE DESC\n",
    "LIMIT 10;\n",
    "'''\n",
    "\n",
    "sql_query(query)"
   ]
  },
  {
   "cell_type": "markdown",
   "metadata": {},
   "source": [
    "![imagen](./img/chinook_data_model.png)"
   ]
  },
  {
   "cell_type": "code",
   "execution_count": null,
   "metadata": {},
   "outputs": [],
   "source": [
    "\n",
    "query = '''\n",
    "SELECT a.trackid, a.name, a.composer, b.invoicelineid, b.invoiceid\n",
    "FROM tracks AS a\n",
    "INNER JOIN invoice_items AS b\n",
    "ON a.trackid = b.trackid\n",
    ";\n",
    "'''\n",
    "\n",
    "sql_query(query)"
   ]
  },
  {
   "cell_type": "code",
   "execution_count": null,
   "metadata": {},
   "outputs": [],
   "source": [
    "\n",
    "query = '''\n",
    "SELECT name as track_title, albumid\n",
    "FROM tracks\n",
    ";\n",
    "'''\n",
    "\n",
    "sql_query(query)"
   ]
  },
  {
   "cell_type": "code",
   "execution_count": null,
   "metadata": {},
   "outputs": [],
   "source": [
    "#LEFT JOIN\n",
    "query = '''\n",
    "SELECT a.name as track_title , b.title as album_title\n",
    "FROM tracks AS a\n",
    "LEFT JOIN albums AS b\n",
    "ON a.albumid = b.albumid\n",
    "'''\n",
    "\n",
    "df_lj = sql_query(query)\n",
    "# df_lj[df_lj['album_title'].isna()]\n",
    "df"
   ]
  },
  {
   "cell_type": "code",
   "execution_count": null,
   "metadata": {},
   "outputs": [],
   "source": [
    "query = '''\n",
    "SELECT * \n",
    "FROM invoice_items AS a\n",
    "LEFT JOIN tracks AS b\n",
    "ON a.trackid = b.trackid\n",
    "LIMIT 5;\n",
    "'''\n",
    "\n",
    "sql_query(query)"
   ]
  },
  {
   "cell_type": "code",
   "execution_count": null,
   "metadata": {},
   "outputs": [],
   "source": [
    "query = '''\n",
    "SELECT * \n",
    "FROM invoice_items AS a\n",
    "LEFT JOIN tracks AS b\n",
    "ON a.trackid = b.trackid\n",
    "UNION\n",
    "SELECT *\n",
    "FROM tracks AS a\n",
    "LEFT JOIN invoice_items AS b\n",
    "ON a.trackid =b.trackid\n",
    "LIMIT 5;\n",
    "'''\n",
    "\n",
    "sql_query(query)"
   ]
  },
  {
   "cell_type": "code",
   "execution_count": null,
   "metadata": {},
   "outputs": [],
   "source": [
    "#FULL JOIN\n",
    "#FULL JOIN isn't supported in sqlite, \n",
    "#so we use a LEFT JOIN + RIGHT JOIN(inverse LEFT JOIN) as a workaround\n",
    "\n",
    "query = '''\n",
    "SELECT * \n",
    "FROM invoice_items AS a\n",
    "LEFT JOIN tracks AS b\n",
    "ON a.trackid = b.trackid\n",
    "UNION\n",
    "SELECT *\n",
    "FROM tracks AS a\n",
    "LEFT JOIN invoice_items AS b\n",
    "ON a.trackid =b.trackid;\n",
    "'''\n",
    "\n",
    "sql_query(query)"
   ]
  },
  {
   "cell_type": "markdown",
   "metadata": {},
   "source": [
    "### 3.10 VIEW y DROP\n",
    "En ocasiones resulta útil **dividir nuestras queries en varios pasos**, y para ello utilizamos la sentencia `VIEW`. Con `VIEW` creamos una *vista* de una tabla, es decir, obtenemos una tabla temporal que usaremos después.\n",
    "\n",
    "Estas vistas se guardarán en el archivo *.db*, por lo que tendrás que tener cuidado de no almacenar muchas tablas poco útiles.\n",
    "\n",
    "Primero, veamos cómo acceder a todas las vistas de la base de datos"
   ]
  },
  {
   "cell_type": "markdown",
   "metadata": {},
   "source": [
    "Creamos dos vistas nuevas"
   ]
  },
  {
   "cell_type": "code",
   "execution_count": null,
   "metadata": {},
   "outputs": [],
   "source": [
    "query1 = '''\n",
    "CREATE VIEW name_composer as\n",
    "SELECT name, composer, genreid\n",
    "FROM tracks\n",
    ";\n",
    "'''\n",
    "\n",
    "query2 = '''\n",
    "CREATE VIEW genre as\n",
    "SELECT name, genreid\n",
    "FROM genres\n",
    "WHERE name LIKE \"b%\";\n",
    "'''\n",
    "\n",
    "crsr.execute(query1)\n",
    "crsr.execute(query2)\n",
    "\n",
    "#sql_query(query)"
   ]
  },
  {
   "cell_type": "markdown",
   "metadata": {},
   "source": [
    "Comprueba que ahora tienes vistas nuevas en tu base de datos"
   ]
  },
  {
   "cell_type": "code",
   "execution_count": 12,
   "metadata": {},
   "outputs": [],
   "source": [
    "res = crsr.execute(\"SELECT name FROM sqlite_master WHERE type='view';\")\n",
    "for name in res:\n",
    "    print(name[0])"
   ]
  },
  {
   "cell_type": "markdown",
   "metadata": {},
   "source": [
    "Puedes borrar las vistas mediante `DROP VIEW`. Prueba a borrarlas, comprueba que ya no existen y vuelve a crearlas.\n",
    "\n",
    "**NOTA**: `DROP` también lo podrás usar como `DROP TABLE`. Nos cargaríamos una tabla entera de la base de datos y ya no sería recuperable, el *ctrl + Z* no te va a salvar. así que mucho cuidado con esta sentencia."
   ]
  },
  {
   "cell_type": "code",
   "execution_count": null,
   "metadata": {},
   "outputs": [],
   "source": [
    "query1_ = '''\n",
    "DROP VIEW IF EXISTS name_composer;\n",
    "'''\n",
    "query2_ = '''\n",
    "DROP VIEW IF EXISTS genre;\n",
    "'''\n",
    "\n",
    "crsr.execute(query1_)\n",
    "crsr.execute(query2_)"
   ]
  },
  {
   "cell_type": "markdown",
   "metadata": {},
   "source": [
    "Ahora que ya tenemos nuestras vistas, vamos a realizar otra operación con ambas tablas. En este caso, aplicamos un `JOIN`\n",
    "\n",
    "Fíjate que la salida de esta query es la misma que la del primer `JOIN` de este Notebook, pero en este caso, hecho en dos pasos."
   ]
  },
  {
   "cell_type": "code",
   "execution_count": null,
   "metadata": {},
   "outputs": [],
   "source": [
    "query = '''\n",
    "SELECT a.name, a.composer, b.name\n",
    "FROM name_composer AS a\n",
    "INNER JOIN genre AS b\n",
    "ON a.genreid = b.genreid\n",
    ";\n",
    "'''\n",
    "\n",
    "df = sql_query(query)"
   ]
  },
  {
   "cell_type": "code",
   "execution_count": null,
   "metadata": {},
   "outputs": [],
   "source": [
    "df.to_csv('my_dataset.csv')"
   ]
  },
  {
   "cell_type": "markdown",
   "metadata": {},
   "source": [
    "## 4. Errores"
   ]
  },
  {
   "cell_type": "markdown",
   "metadata": {},
   "source": [
    "<table align=\"left\">\n",
    " <tr><td width=\"80\"><img src=\"./img/error.png\" style=\"width:auto;height:auto\"></td>\n",
    "     <td style=\"text-align:left\">\n",
    "         <h3>ERRORES Acceso a base de datos que no existe</h3>\n",
    "         \n",
    " </td></tr>\n",
    "</table>"
   ]
  },
  {
   "cell_type": "markdown",
   "metadata": {},
   "source": [
    "¡Cuidado! No da error, sino que crea una base de datos vacía"
   ]
  },
  {
   "cell_type": "code",
   "execution_count": null,
   "metadata": {},
   "outputs": [],
   "source": [
    "# Conectamos con la base de datos chinook.db\n",
    "connection = sqlite3.connect(\"bbbb.db\")\n",
    "\n",
    "crsr = connection.cursor()"
   ]
  },
  {
   "cell_type": "markdown",
   "metadata": {},
   "source": [
    "<table align=\"left\">\n",
    " <tr><td width=\"80\"><img src=\"./img/error.png\" style=\"width:auto;height:auto\"></td>\n",
    "     <td style=\"text-align:left\">\n",
    "         <h3>ERRORES en la query</h3>\n",
    "         \n",
    " </td></tr>\n",
    "</table>"
   ]
  },
  {
   "cell_type": "markdown",
   "metadata": {},
   "source": [
    "Los errores son todos del mismo tipo: `OperationalError`. Esto nos indica que lo da el propio SQL, no es un error del intérprete de Python como tal. Ahora bien, aunque lo de SQL, devuelve un descriptivo con el tipo de error, que está bastante bien para ver por donde van los tiros."
   ]
  },
  {
   "cell_type": "code",
   "execution_count": null,
   "metadata": {},
   "outputs": [],
   "source": [
    "query = '''\n",
    "SELECT * \n",
    "FROM tracks\n",
    "'''\n",
    "\n",
    "sql_query(query)"
   ]
  },
  {
   "cell_type": "code",
   "execution_count": null,
   "metadata": {},
   "outputs": [],
   "source": [
    "query = '''\n",
    "SELECT * \n",
    "FROM tracksssss\n",
    "'''\n",
    "\n",
    "sql_query(query)"
   ]
  },
  {
   "cell_type": "code",
   "execution_count": null,
   "metadata": {},
   "outputs": [],
   "source": [
    "query = '''\n",
    "SELECT campo1, campo2\n",
    "FROM tracks\n",
    "'''\n",
    "\n",
    "sql_query(query)"
   ]
  },
  {
   "cell_type": "markdown",
   "metadata": {},
   "source": [
    "## 5. Resumen\n",
    "**SQL es el estándar que se utiliza en el acceso a las BBDD relacionales**, por lo que en prácticamente cualquier empresa te vas a encontrar una BD de este tipo. La sintaxis es:\n",
    "\n",
    "```SQL\n",
    "SELECT campo1, campo2, campo3...\n",
    "FROM tabla\n",
    "WHERE condicionales\n",
    "```\n",
    "\n",
    "Y podrás realizar las siguientes acciones:\n",
    "1. **Filtrar columnas**: mediante `SELECT`\n",
    "2. **Renombrar campos**: mediante `SELECT campo as nuevo_nombre`\n",
    "3. **Eliminar duplicados**: mediante `DISTINCT`\n",
    "4. **Limitar el número de registros**: `LIMIT`\n",
    "5. **Filtrar filas**: `WHERE`\n",
    "6. **Ordenar una tabla**: `ORDER BY campo1, campo2` y `DESC`\n",
    "7. **Agregar información**: sacar un KPI como un máximo o un conteo: `MAX`,`COUNT`,`AVG`...\n",
    "8. **Agregado a nivel grupo**: con `GROUP BY`. Se calculan las funciones de agregación para cada grupo de una columna.\n",
    "9. **Juntar datos**: mediante `JOIN`. Hay de varios tipos: `LEFT`, `RIGHT`, `FULL`, `INNER` y `OUTER`.\n",
    "10. **Tablas temporales**: con `VIEW`\n",
    "11. **Eliminar tablas o vistas**: con `DROP`\n",
    "\n",
    "Y si te manejas de maravilla con la librería pandas, **siempre puedes obtener tus datos mediante una query con sqlite3, y tratarlos posteriormente en Python, mediante las funciones de pandas.**"
   ]
  }
 ],
 "metadata": {
  "interpreter": {
   "hash": "7c77fdb427e7cbc9bc1367dd530fc2b36aacdbbde1ac83c85833b10dfa8b831c"
  },
  "kernelspec": {
   "display_name": "Python 3 (ipykernel)",
   "language": "python",
   "name": "python3"
  },
  "language_info": {
   "codemirror_mode": {
    "name": "ipython",
    "version": 3
   },
   "file_extension": ".py",
   "mimetype": "text/x-python",
   "name": "python",
   "nbconvert_exporter": "python",
   "pygments_lexer": "ipython3",
   "version": "3.11.4"
  }
 },
 "nbformat": 4,
 "nbformat_minor": 4
}
