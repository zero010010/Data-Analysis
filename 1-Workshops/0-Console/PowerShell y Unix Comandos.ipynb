{
 "cells": [
  {
   "cell_type": "markdown",
   "metadata": {},
   "source": [
    "# Comandos básicos consola, primeros pasos"
   ]
  },
  {
   "cell_type": "markdown",
   "metadata": {},
   "source": [
    "En este Notebook veremos paso a paso todos los comándos básicos necesarios para desemvolvernos adecuadamente con máquinas Windows y máquinas Unix/Linux/MacOs.\n",
    "\n",
    "*Vamos con un pequeño sandbox con ambos sistemas!*"
   ]
  },
  {
   "cell_type": "markdown",
   "metadata": {},
   "source": [
    "- **`pwd` (PS, Un), `Get-Location` (PS)**: current directory, es el comando para indicar en qué directorio estamos actualmente\n",
    "- **`cd`, `cd ..`, `cd ../..` (PS, Un, CP)**: Para poder movernos hacia abajo o hacia arriba una o dos veces en nuestro sistema de archivos\n",
    "- **``ls``**: mostrar el contenido de mi directorio actual. Fíjate en la tabla resultado que tenemos.\n",
    "    - d, a: Qué será lo que sigue?  \n",
    "    - Si le añades un -r podrás en el caso de Un ordenar los archivos en sentido contrario y en el caso de PS mostrar todos los directorios que están por debajo\n",
    "- **``whoami``(PS, Un)**: Muestra por pantalla el usuario que está ejecutando los comandos\n",
    "- **``mkdir [Nombre de directorio a crear]`` (PS, Un, CP)** Crear un directorio en la ruta en la que estemos\n",
    "- **``rmdir [Nombre de directorio a borrar]``(PS, Un, CP)** Eliminar el directorio selecionado\n",
    "- **``man [comando a colsultar]``(PS, Un)**: Nos da información del comando a consultar\n",
    "- **``clear``(PS,Un)**: Limpiar la consola\n",
    "- **``touch`` (Un),`ni, New-Item [nombre del archivo a crear]`(PS)**: Creación de directorios o de archivos en función de la extensión que le proporcionemos\n",
    "- **``rm [nombre del archivo]`` (PS, Un)**: Eliminar el archivo seleccionado\n",
    "- **``mv [nombre del archivo], [nuevo nombre del archivo]`` (PS, Un)**: Renombrar un archivo\n",
    "- **``mv [nombre del archivo], [nombre de directorio a mover]`` (Un), ``mi [nombre del archivo], [nombre de directorio a mover]``(PS)**: Renombrar un archivo\n",
    "- **``cat [nombre de archivo] (PS, Un)``**: Leer el contenido del archivo\n",
    "    - **``cat > [nombre del archivo]`` (Un), ``sc [nombre del archivo]`` (PS)**: Sobreescribir en el archivo\n",
    "    - **``cat >> [nombre del archivo]`` (Un), ``ac [nombre del archivo]`` (PS)**: Añadir al archivo\n",
    "\n",
    " "
   ]
  }
 ],
 "metadata": {
  "language_info": {
   "name": "python"
  }
 },
 "nbformat": 4,
 "nbformat_minor": 2
}
