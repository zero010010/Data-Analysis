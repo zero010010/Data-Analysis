{
 "cells": [
  {
   "attachments": {},
   "cell_type": "markdown",
   "metadata": {
    "colab_type": "text",
    "id": "GLie_cEH_lZm"
   },
   "source": [
    "# Algebra Lineal con Python"
   ]
  },
  {
   "attachments": {},
   "cell_type": "markdown",
   "metadata": {
    "colab_type": "text",
    "id": "9n56-m2h_lZn"
   },
   "source": [
    "<img alt=\"Algebra lineal\" title=\"Algebra lineal\" src=\"http://relopezbriega.github.io/images/lin-alg.jpg\">"
   ]
  },
  {
   "attachments": {},
   "cell_type": "markdown",
   "metadata": {
    "colab_type": "text",
    "id": "sENBeN2i_lZn"
   },
   "source": [
    "## Introducción\n",
    "\n",
    "Una de las herramientas matemáticas más utilizadas en [machine learning](http://es.wikipedia.org/wiki/Machine_learning) y [data mining](http://es.wikipedia.org/wiki/Miner%C3%ADa_de_datos) es el [Álgebra lineal](http://es.wikipedia.org/wiki/%C3%81lgebra_lineal); por tanto, si queremos incursionar en el fascinante mundo del aprendizaje automático y el análisis de datos es importante reforzar los conceptos que forman parte de sus cimientos. \n",
    "\n",
    "El [Álgebra lineal](http://es.wikipedia.org/wiki/%C3%81lgebra_lineal) es una rama de las [matemáticas](http://es.wikipedia.org/wiki/Matem%C3%A1ticas) que es sumamente utilizada en el estudio de una gran variedad de ciencias, como ingeniería, finanzas, investigación operativa, entre otras. Es una extensión del [álgebra](http://es.wikipedia.org/wiki/%C3%81lgebra) que aprendemos en la escuela secundaria, hacia un mayor número de dimensiones; en lugar de trabajar con incógnitas a nivel de <a href=\"http://es.wikipedia.org/wiki/Escalar_(matem%C3%A1tica)\">escalares</a> comenzamos a trabajar con <a href=\"http://es.wikipedia.org/wiki/Matriz_(matem%C3%A1ticas)\">matrices</a> y [vectores](http://es.wikipedia.org/wiki/Vector).  \n",
    "\n",
    "El estudio del [Álgebra lineal](http://es.wikipedia.org/wiki/%C3%81lgebra_lineal) implica trabajar con varios objetos matemáticos, como ser:\n",
    "\n",
    "* **Los <a href=\"http://es.wikipedia.org/wiki/Escalar_(matem%C3%A1tica)\">Escalares</a>**: Un *escalar* es un solo número, en contraste con la mayoría de los otros objetos estudiados en [Álgebra lineal](http://es.wikipedia.org/wiki/%C3%81lgebra_lineal), que son generalmente una colección de múltiples números.\n",
    "\n",
    "* **Los [Vectores](http://es.wikipedia.org/wiki/Vector)**:Un *vector* es una serie de números. Los números tienen una orden preestablecido, y podemos identificar cada número individual por su índice en ese orden. Podemos pensar en los  *vectores* como la identificación de puntos en el espacio, con cada elemento que da la coordenada a lo largo de un eje diferente. Existen dos tipos de *vectores*, los *vectores de fila* y los *vectores de columna*. Podemos representarlos de la siguiente manera, dónde *f* es un vector de fila y *c* es un vector de columna:\n",
    "$$f=\\begin{bmatrix}0&1&-1\\end{bmatrix} ;       c=\\begin{bmatrix}0\\\\1\\\\-1\\end{bmatrix}$$\n",
    "\n",
    "* **Las <a href=\"http://es.wikipedia.org/wiki/Matriz_(matem%C3%A1ticas)\">Matrices</a>**: Una *matriz* es un arreglo bidimensional de números (llamados entradas de la matriz) ordenados en filas (o renglones) y columnas, donde una fila es cada una de las líneas horizontales de la matriz y una columna es cada una de las líneas verticales. En una *matriz* cada elemento puede ser identificado utilizando dos índices, uno para la fila y otro para la columna en que se encuentra. Las podemos representar de la siguiente manera, *A* es una matriz de 3x2.\n",
    "$$A=\\begin{bmatrix}0 & 1& \\\\-1 & 2 \\\\ -2 & 3\\end{bmatrix}$$\n",
    "\n",
    "* **Los [Tensores](http://es.wikipedia.org/wiki/C%C3%A1lculo_tensorial)**:En algunos casos necesitaremos una matriz con más de dos ejes. En general, una serie de números dispuestos en una cuadrícula regular con un número variable de ejes es conocido como un *tensor*.\n",
    "\n",
    "Sobre estos objetos podemos realizar las operaciones matemáticas básicas, como ser [adición](http://es.wikipedia.org/wiki/Adici%C3%B3n), [multiplicación](http://es.wikipedia.org/wiki/Multiplicaci%C3%B3n), [sustracción](http://es.wikipedia.org/wiki/Sustracci%C3%B3n) y <a href=\"http://es.wikipedia.org/wiki/Divisi%C3%B3n_(matem%C3%A1tica)\" >división</a>, es decir que vamos a poder sumar [vectores](http://es.wikipedia.org/wiki/Vector) con <a href=\"http://es.wikipedia.org/wiki/Matriz_(matem%C3%A1ticas)\">matrices</a>, multiplicar <a href=\"http://es.wikipedia.org/wiki/Escalar_(matem%C3%A1tica)\">escalares</a> a [vectores](http://es.wikipedia.org/wiki/Vector) y demás."
   ]
  },
  {
   "attachments": {},
   "cell_type": "markdown",
   "metadata": {
    "colab_type": "text",
    "id": "7YWQ9vG__lZo"
   },
   "source": [
    "## Librerías de Python para álgebra lineal\n",
    "\n",
    "Los principales módulos que [Python](http://python.org/) nos ofrece para realizar operaciones de [Álgebra lineal](http://es.wikipedia.org/wiki/%C3%81lgebra_lineal) son los siguientes:\n",
    "\n",
    "* **[Numpy](http://www.numpy.org/)**: El popular paquete matemático de [Python](http://python.org/), nos va a permitir crear *[vectores](http://es.wikipedia.org/wiki/Vector)*, *<a href=\"http://es.wikipedia.org/wiki/Matriz_(matem%C3%A1ticas)\">matrices</a>* y *[tensores](http://es.wikipedia.org/wiki/C%C3%A1lculo_tensorial)* con suma facilidad.\n",
    "\n",
    "* **[numpy.linalg](http://docs.scipy.org/doc/numpy/reference/routines.linalg.html)**: Este es un submodulo dentro de [Numpy](http://www.numpy.org/) con un gran número de funciones para resolver ecuaciones de [Álgebra lineal](http://es.wikipedia.org/wiki/%C3%81lgebra_lineal).\n",
    "\n",
    "* **[scipy.linalg](http://docs.scipy.org/doc/scipy/reference/tutorial/linalg.html)**: Este submodulo del paquete científico [Scipy](http://docs.scipy.org/doc/scipy/reference/index.html) es muy similar al anterior, pero con algunas más funciones y optimaciones.\n",
    "\n",
    "* **[Sympy](http://www.sympy.org/es/)**: Esta librería nos permite trabajar con matemática simbólica, convierte a [Python](http://python.org/) en un [sistema algebraico computacional](http://es.wikipedia.org/wiki/Sistema_algebraico_computacional). Nos va a permitir trabajar con ecuaciones y fórmulas simbólicamente, en lugar de numéricamente.\n",
    "\n",
    "* **[CVXOPT](http://cvxopt.org/)**: Este módulo nos permite resolver problemas de optimizaciones de [programación lineal](http://es.wikipedia.org/wiki/Programaci%C3%B3n_lineal). \n",
    "\n",
    "* **[PuLP](http://pythonhosted.org//PuLP/)**: Esta librería nos permite crear modelos de [programación lineal](http://es.wikipedia.org/wiki/Programaci%C3%B3n_lineal) en forma muy sencilla con [Python](http://python.org/)."
   ]
  },
  {
   "attachments": {},
   "cell_type": "markdown",
   "metadata": {
    "colab_type": "text",
    "id": "aaD5HprF_lZo"
   },
   "source": [
    "## Operaciones básicas"
   ]
  },
  {
   "attachments": {},
   "cell_type": "markdown",
   "metadata": {
    "colab_type": "text",
    "id": "C5da7Osq_lZp"
   },
   "source": [
    "### Vectores\n",
    "\n",
    "Un *[vector](http://es.wikipedia.org/wiki/Vector)* de largo `n` es una secuencia (o *array*, o *tupla*) de `n` números. La solemos escribir como x=(x1,...,xn) o x=[x1,...,xn]\n",
    "\n",
    "En [Python](http://python.org/), un *[vector](http://es.wikipedia.org/wiki/Vector)* puede ser representado con una simple *lista*, o con un *array* de [Numpy](http://www.numpy.org/); siendo preferible utilizar esta última opción."
   ]
  },
  {
   "cell_type": "code",
   "execution_count": 1,
   "metadata": {
    "colab": {},
    "colab_type": "code",
    "collapsed": false,
    "id": "HZ7H_sTn_lZp",
    "jupyter": {
     "outputs_hidden": false
    },
    "outputId": "ac39aa7c-2a89-4501-c66e-3000f3227a2f"
   },
   "outputs": [
    {
     "data": {
      "text/plain": [
       "[2, 4, 6]"
      ]
     },
     "execution_count": 1,
     "metadata": {},
     "output_type": "execute_result"
    }
   ],
   "source": [
    "# Vector como lista de Python\n",
    "v1 = [2, 4, 6]\n",
    "v1"
   ]
  },
  {
   "cell_type": "code",
   "execution_count": 2,
   "metadata": {},
   "outputs": [
    {
     "data": {
      "text/plain": [
       "list"
      ]
     },
     "execution_count": 2,
     "metadata": {},
     "output_type": "execute_result"
    }
   ],
   "source": [
    "type(v1)"
   ]
  },
  {
   "cell_type": "code",
   "execution_count": 3,
   "metadata": {},
   "outputs": [
    {
     "data": {
      "text/plain": [
       "numpy.ndarray"
      ]
     },
     "execution_count": 3,
     "metadata": {},
     "output_type": "execute_result"
    }
   ],
   "source": [
    "# Vectores con numpy\n",
    "import numpy as np\n",
    "\n",
    "type(np.array(v1))"
   ]
  },
  {
   "cell_type": "code",
   "execution_count": 4,
   "metadata": {},
   "outputs": [
    {
     "data": {
      "text/plain": [
       "array([2, 4, 6])"
      ]
     },
     "execution_count": 4,
     "metadata": {},
     "output_type": "execute_result"
    }
   ],
   "source": [
    "np.array(v1)"
   ]
  },
  {
   "cell_type": "code",
   "execution_count": 5,
   "metadata": {
    "colab": {},
    "colab_type": "code",
    "collapsed": false,
    "id": "6dsVtrVP_lZt",
    "jupyter": {
     "outputs_hidden": false
    },
    "outputId": "fe736923-76c8-455f-c8ce-6f1341b9fd6c"
   },
   "outputs": [
    {
     "data": {
      "text/plain": [
       "array([1., 1., 1.])"
      ]
     },
     "execution_count": 5,
     "metadata": {},
     "output_type": "execute_result"
    }
   ],
   "source": [
    "v2 = np.ones(3) # vector de solo unos.\n",
    "v2"
   ]
  },
  {
   "cell_type": "code",
   "execution_count": 6,
   "metadata": {},
   "outputs": [
    {
     "data": {
      "text/plain": [
       "array([0., 0., 0.])"
      ]
     },
     "execution_count": 6,
     "metadata": {},
     "output_type": "execute_result"
    }
   ],
   "source": [
    "np.zeros(3)"
   ]
  },
  {
   "cell_type": "code",
   "execution_count": 7,
   "metadata": {
    "colab": {},
    "colab_type": "code",
    "collapsed": false,
    "id": "27fz9iqG_lZw",
    "jupyter": {
     "outputs_hidden": false
    },
    "outputId": "bd28923c-bc05-4731-ceb5-d99578cbfd04"
   },
   "outputs": [
    {
     "data": {
      "text/plain": [
       "array([1, 3, 5])"
      ]
     },
     "execution_count": 7,
     "metadata": {},
     "output_type": "execute_result"
    }
   ],
   "source": [
    "v3 = np.array([1, 3, 5]) # pasando una lista a las arrays de numpy\n",
    "v3"
   ]
  },
  {
   "cell_type": "code",
   "execution_count": 8,
   "metadata": {
    "colab": {},
    "colab_type": "code",
    "collapsed": false,
    "id": "RJ_jKS9O_lZy",
    "jupyter": {
     "outputs_hidden": false
    },
    "outputId": "f5bcd9de-7380-4ba4-ecba-17f440ded6c7"
   },
   "outputs": [
    {
     "data": {
      "text/plain": [
       "array([1, 2, 3, 4, 5, 6, 7])"
      ]
     },
     "execution_count": 8,
     "metadata": {},
     "output_type": "execute_result"
    }
   ],
   "source": [
    "v4 = np.arange(1, 8) # utilizando la funcion arange de numpy\n",
    "v4"
   ]
  },
  {
   "attachments": {},
   "cell_type": "markdown",
   "metadata": {
    "colab_type": "text",
    "id": "S1CuAI4S_lZ1"
   },
   "source": [
    "### Representación gráfica\n",
    "\n",
    "Tradicionalmente, los *[vectores](http://es.wikipedia.org/wiki/Vector)* son representados visualmente como flechas que parten desde el origen hacia un punto.\n",
    "\n",
    "Por ejemplo, si quisiéramos representar graficamente a los vectores v1=[2, 4], v2=[-3, 3] y v3=[-4, -3.5], podríamos hacerlo de la siguiente manera."
   ]
  },
  {
   "cell_type": "code",
   "execution_count": 9,
   "metadata": {
    "colab": {},
    "colab_type": "code",
    "id": "2bm2pN4m_lZ1"
   },
   "outputs": [],
   "source": [
    "import matplotlib.pyplot as plt\n",
    "from warnings import filterwarnings\n",
    "\n",
    "%matplotlib inline\n",
    "filterwarnings('ignore') # Ignorar warnings"
   ]
  },
  {
   "cell_type": "code",
   "execution_count": 10,
   "metadata": {
    "colab": {},
    "colab_type": "code",
    "id": "XjhC5zY3_lZ3"
   },
   "outputs": [],
   "source": [
    "def move_spines():\n",
    "    \"\"\"Crea la figura de pyplot y los ejes. Mueve las lineas de la izquierda y de abajo\n",
    "    para que se intersecten con el origen. Elimina las lineas de la derecha y la de arriba.\n",
    "    Devuelve los ejes.\"\"\"\n",
    "    fix, ax = plt.subplots()\n",
    "    for spine in [\"left\", \"bottom\"]:\n",
    "        ax.spines[spine].set_position(\"zero\")\n",
    "    \n",
    "    for spine in [\"right\", \"top\"]:\n",
    "        ax.spines[spine].set_color(\"none\")\n",
    "    \n",
    "    return ax\n",
    "\n",
    "def vect_fig(): \n",
    "    \"\"\"Genera el grafico de los vectores en el plano\"\"\"\n",
    "    ax = move_spines()\n",
    "    \n",
    "    ax.set_xlim(-5, 5)\n",
    "    ax.set_ylim(-5, 5)\n",
    "    ax.grid()\n",
    "    vecs = [[2, 4], [-3, 3], [-4, -3.5]] # lista de vectores\n",
    "    for v in vecs:\n",
    "        ax.annotate(\" \", xy=v, xytext=[0, 0],\n",
    "                   arrowprops=dict(facecolor=\"blue\",\n",
    "                                  shrink=0,\n",
    "                                  alpha=0.7,\n",
    "                                  width=0.5))\n",
    "        ax.text(1.1 * v[0], 1.1 * v[1], v)"
   ]
  },
  {
   "cell_type": "code",
   "execution_count": 11,
   "metadata": {
    "colab": {},
    "colab_type": "code",
    "collapsed": false,
    "id": "LXe-pbHM_lZ7",
    "jupyter": {
     "outputs_hidden": false
    },
    "outputId": "02076cd7-8d9d-4f79-bcfc-4f97492878c3"
   },
   "outputs": [
    {
     "data": {
      "image/png": "[encoded data removed]",
      "text/plain": [
       "<Figure size 640x480 with 1 Axes>"
      ]
     },
     "metadata": {},
     "output_type": "display_data"
    }
   ],
   "source": [
    "vect_fig() # crea el gráfico"
   ]
  },
  {
   "attachments": {},
   "cell_type": "markdown",
   "metadata": {
    "colab_type": "text",
    "id": "dz8UK9fc_lZ9"
   },
   "source": [
    "### Operaciones con vectores\n",
    "\n",
    "Las operaciones más comunes que utilizamos cuando trabajamos con *[vectores](http://es.wikipedia.org/wiki/Vector)* son la *suma*, la *resta* y la *multiplicación por <a href=\"http://es.wikipedia.org/wiki/Escalar_(matem%C3%A1tica)\">escalares</a>*.\n",
    "\n",
    "Cuando *sumamos* dos *[vectores](http://es.wikipedia.org/wiki/Vector)*, vamos sumando elemento por elemento de cada\n",
    "*[vector](http://es.wikipedia.org/wiki/Vector)*.\n",
    "\n",
    "$$ \\begin{split}x + y\n",
    "=\n",
    "\\left[\n",
    "\\begin{array}{c}\n",
    "    x_1 \\\\\n",
    "    x_2 \\\\\n",
    "    \\vdots \\\\\n",
    "    x_n\n",
    "\\end{array}\n",
    "\\right]\n",
    "+\n",
    "\\left[\n",
    "\\begin{array}{c}\n",
    "     y_1 \\\\\n",
    "     y_2 \\\\\n",
    "    \\vdots \\\\\n",
    "     y_n\n",
    "\\end{array}\n",
    "\\right]\n",
    ":=\n",
    "\\left[\n",
    "\\begin{array}{c}\n",
    "    x_1 + y_1 \\\\\n",
    "    x_2 + y_2 \\\\\n",
    "    \\vdots \\\\\n",
    "    x_n + y_n\n",
    "\\end{array}\n",
    "\\right]\\end{split}$$\n",
    "\n",
    "De forma similar funciona la operación de resta.\n",
    "\n",
    "$$ \\begin{split}x - y\n",
    "=\n",
    "\\left[\n",
    "\\begin{array}{c}\n",
    "    x_1 \\\\\n",
    "    x_2 \\\\\n",
    "    \\vdots \\\\\n",
    "    x_n\n",
    "\\end{array}\n",
    "\\right]\n",
    "-\n",
    "\\left[\n",
    "\\begin{array}{c}\n",
    "     y_1 \\\\\n",
    "     y_2 \\\\\n",
    "    \\vdots \\\\\n",
    "     y_n\n",
    "\\end{array}\n",
    "\\right]\n",
    ":=\n",
    "\\left[\n",
    "\\begin{array}{c}\n",
    "    x_1 - y_1 \\\\\n",
    "    x_2 - y_2 \\\\\n",
    "    \\vdots \\\\\n",
    "    x_n - y_n\n",
    "\\end{array}\n",
    "\\right]\\end{split}$$\n",
    "\n",
    "La *multiplicación por <a href=\"http://es.wikipedia.org/wiki/Escalar_(matem%C3%A1tica)\">escalares</a>* es una operación que toma a un número $\\gamma$, y a un *[vector](http://es.wikipedia.org/wiki/Vector)* $x$ y produce un nuevo *[vector](http://es.wikipedia.org/wiki/Vector)* donde cada elemento del vector $x$ es multiplicado por el número $\\gamma$.\n",
    "\n",
    "$$\\begin{split}\\gamma x\n",
    ":=\n",
    "\\left[\n",
    "\\begin{array}{c}\n",
    "    \\gamma x_1 \\\\\n",
    "    \\gamma x_2 \\\\\n",
    "    \\vdots \\\\\n",
    "    \\gamma x_n\n",
    "\\end{array}\n",
    "\\right]\\end{split}$$\n",
    "\n",
    "En [Python](http://python.org/) podríamos realizar estas operaciones en forma muy sencilla:"
   ]
  },
  {
   "cell_type": "code",
   "execution_count": 12,
   "metadata": {
    "colab": {},
    "colab_type": "code",
    "collapsed": false,
    "id": "mJcgEr0Y_lZ-",
    "jupyter": {
     "outputs_hidden": false
    },
    "outputId": "64d60323-318e-4f9e-bad8-44d0a329e81f"
   },
   "outputs": [
    {
     "data": {
      "text/plain": [
       "(array([1, 2, 3, 4]), array([2, 4, 6, 8]))"
      ]
     },
     "execution_count": 12,
     "metadata": {},
     "output_type": "execute_result"
    }
   ],
   "source": [
    "# Ejemplo en Python\n",
    "x = np.arange(1, 5)\n",
    "y = np.array([2, 4, 6, 8])\n",
    "x, y"
   ]
  },
  {
   "cell_type": "code",
   "execution_count": 13,
   "metadata": {
    "colab": {},
    "colab_type": "code",
    "collapsed": false,
    "id": "A-RiJr5m_laA",
    "jupyter": {
     "outputs_hidden": false
    },
    "outputId": "821a10dc-0b63-4e31-8a53-6bde455f6446"
   },
   "outputs": [
    {
     "data": {
      "text/plain": [
       "array([ 3,  6,  9, 12])"
      ]
     },
     "execution_count": 13,
     "metadata": {},
     "output_type": "execute_result"
    }
   ],
   "source": [
    "# sumando dos vectores numpy\n",
    "x + y"
   ]
  },
  {
   "cell_type": "code",
   "execution_count": 14,
   "metadata": {
    "colab": {},
    "colab_type": "code",
    "collapsed": false,
    "id": "77_U5taW_laC",
    "jupyter": {
     "outputs_hidden": false
    },
    "outputId": "5244b5ca-86f6-45a0-a738-cb308e683b54"
   },
   "outputs": [
    {
     "data": {
      "text/plain": [
       "array([-1, -2, -3, -4])"
      ]
     },
     "execution_count": 14,
     "metadata": {},
     "output_type": "execute_result"
    }
   ],
   "source": [
    "# restando dos vectores\n",
    "x - y"
   ]
  },
  {
   "cell_type": "code",
   "execution_count": 15,
   "metadata": {
    "colab": {},
    "colab_type": "code",
    "collapsed": false,
    "id": "GL21Dre0_laF",
    "jupyter": {
     "outputs_hidden": false
    },
    "outputId": "0a2039c0-ecc3-4627-cf84-1715b3191d76"
   },
   "outputs": [
    {
     "data": {
      "text/plain": [
       "array([2, 4, 6, 8])"
      ]
     },
     "execution_count": 15,
     "metadata": {},
     "output_type": "execute_result"
    }
   ],
   "source": [
    "# multiplicando por un escalar\n",
    "x * 2"
   ]
  },
  {
   "cell_type": "code",
   "execution_count": 23,
   "metadata": {},
   "outputs": [
    {
     "data": {
      "text/plain": [
       "array([ 2,  8, 18, 32])"
      ]
     },
     "execution_count": 23,
     "metadata": {},
     "output_type": "execute_result"
    }
   ],
   "source": [
    "x*y"
   ]
  },
  {
   "attachments": {},
   "cell_type": "markdown",
   "metadata": {
    "colab_type": "text",
    "id": "Gr1bhr-R_laJ"
   },
   "source": [
    "#### Producto escalar o interior\n",
    "\n",
    "El [producto escalar](https://es.wikipedia.org/wiki/Producto_escalar) de dos *[vectores](http://es.wikipedia.org/wiki/Vector)* se define como la suma de los productos de sus elementos, suele representarse matemáticamente como < x, y > o x'y, donde x e y son dos vectores.\n",
    "\n",
    "$$< x, y > := \\sum_{i=1}^n x_i y_i$$\n",
    "\n",
    "Dos *[vectores](http://es.wikipedia.org/wiki/Vector)* son <a href=\"https://es.wikipedia.org/wiki/Ortogonalidad_(matem%C3%A1ticas)\">ortogonales</a> o perpendiculares cuando forman ángulo recto entre sí. Si el producto escalar de dos vectores es cero, ambos vectores son <a href=\"https://es.wikipedia.org/wiki/Ortogonalidad_(matem%C3%A1ticas)\">ortogonales</a>.\n",
    "\n",
    "Adicionalmente, todo [producto escalar](https://es.wikipedia.org/wiki/Producto_escalar) induce una [norma](https://es.wikipedia.org/wiki/Norma_vectorial) sobre el espacio en el que está definido, de la siguiente manera:\n",
    "\n",
    "$$\\| x \\| := \\sqrt{< x, x>} := \\left( \\sum_{i=1}^n x_i^2 \\right)^{1/2}$$\n",
    "\n",
    "En [Python](http://python.org/) lo podemos calcular de la siguiente forma:"
   ]
  },
  {
   "cell_type": "code",
   "execution_count": 18,
   "metadata": {},
   "outputs": [
    {
     "data": {
      "text/plain": [
       "(array([1, 2, 3, 4]), array([2, 4, 6, 8]))"
      ]
     },
     "execution_count": 18,
     "metadata": {},
     "output_type": "execute_result"
    }
   ],
   "source": [
    "x, y"
   ]
  },
  {
   "cell_type": "code",
   "execution_count": 19,
   "metadata": {},
   "outputs": [
    {
     "data": {
      "text/plain": [
       "60"
      ]
     },
     "execution_count": 19,
     "metadata": {},
     "output_type": "execute_result"
    }
   ],
   "source": [
    "1*2 +2*4 + 3*6 + 4*8"
   ]
  },
  {
   "cell_type": "code",
   "execution_count": 24,
   "metadata": {
    "colab": {},
    "colab_type": "code",
    "collapsed": false,
    "id": "SCzHGxxE_laK",
    "jupyter": {
     "outputs_hidden": false
    },
    "outputId": "024d8667-cdca-4554-dafe-7ac8daa86c3b"
   },
   "outputs": [
    {
     "data": {
      "text/plain": [
       "60"
      ]
     },
     "execution_count": 24,
     "metadata": {},
     "output_type": "execute_result"
    }
   ],
   "source": [
    "# Calculando el producto escalar de los vectores x e y\n",
    "np.dot(x, y)"
   ]
  },
  {
   "cell_type": "code",
   "execution_count": 25,
   "metadata": {
    "colab": {},
    "colab_type": "code",
    "collapsed": false,
    "id": "41pSfiUV_laM",
    "jupyter": {
     "outputs_hidden": false
    },
    "outputId": "a7502d06-d40c-4ecb-91c1-65d1a3ae2834"
   },
   "outputs": [
    {
     "data": {
      "text/plain": [
       "60"
      ]
     },
     "execution_count": 25,
     "metadata": {},
     "output_type": "execute_result"
    }
   ],
   "source": [
    "# o lo que es lo mismo, que:\n",
    "sum(x * y)"
   ]
  },
  {
   "cell_type": "code",
   "execution_count": 22,
   "metadata": {
    "colab": {},
    "colab_type": "code",
    "collapsed": false,
    "id": "tihUgXuk_laT",
    "jupyter": {
     "outputs_hidden": false
    },
    "outputId": "1d4c98d9-8db3-4944-f786-1bbe6fe436b7"
   },
   "outputs": [
    {
     "data": {
      "text/plain": [
       "0"
      ]
     },
     "execution_count": 22,
     "metadata": {},
     "output_type": "execute_result"
    }
   ],
   "source": [
    "# vectores ortogonales\n",
    "v1 = np.array([3, 4])\n",
    "v2 = np.array([4, -3])\n",
    "\n",
    "np.dot(v1, v2)"
   ]
  },
  {
   "attachments": {},
   "cell_type": "markdown",
   "metadata": {
    "colab_type": "text",
    "id": "6NS_n_g8_laV"
   },
   "source": [
    "### Matrices\n",
    "\n",
    "Las <a href=\"http://es.wikipedia.org/wiki/Matriz_(matem%C3%A1ticas)\">matrices</a> son una forma clara y sencilla de organizar los datos para su uso en operaciones lineales.\n",
    "\n",
    "Una <a href=\"http://es.wikipedia.org/wiki/Matriz_(matem%C3%A1ticas)\">matriz</a> `n × k` es una agrupación rectangular de números con n filas y k columnas; se representa de la siguiente forma:\n",
    "\n",
    "$$\\begin{split}A =\n",
    "\\left[\n",
    "\\begin{array}{cccc}\n",
    "    a_{11} & a_{12} & \\cdots & a_{1k} \\\\\n",
    "    a_{21} & a_{22} & \\cdots & a_{2k} \\\\\n",
    "    \\vdots & \\vdots &  & \\vdots \\\\\n",
    "    a_{n1} & a_{n2} & \\cdots & a_{nk}\n",
    "\\end{array}\n",
    "\\right]\\end{split}$$\n",
    "\n",
    "En la <a href=\"http://es.wikipedia.org/wiki/Matriz_(matem%C3%A1ticas)\">matriz</a> A, el símbolo $a_{nk}$ representa el elemento  n-ésimo de la fila en la k-ésima columna. La <a href=\"http://es.wikipedia.org/wiki/Matriz_(matem%C3%A1ticas)\">matriz</a> A también puede ser llamada un *[vector](http://es.wikipedia.org/wiki/Vector)* si cualquiera de n o k son iguales a 1. En el caso de n=1, A se llama un *[vector](http://es.wikipedia.org/wiki/Vector) fila*, mientras que en el caso de k=1 se denomina un *[vector](http://es.wikipedia.org/wiki/Vector) columna*.\n",
    "\n",
    "Las <a href=\"http://es.wikipedia.org/wiki/Matriz_(matem%C3%A1ticas)\">matrices</a> se utilizan para múltiples aplicaciones y sirven, en particular, para representar los coeficientes de los sistemas de ecuaciones lineales o para representar transformaciones lineales dada una base. Pueden sumarse, multiplicarse y descomponerse de varias formas."
   ]
  },
  {
   "attachments": {},
   "cell_type": "markdown",
   "metadata": {
    "colab_type": "text",
    "id": "ph96Q7dS_laV"
   },
   "source": [
    "### Operaciones con matrices\n",
    "\n",
    "Al igual que con los *[vectores](http://es.wikipedia.org/wiki/Vector)*, que no son más que un caso particular, las <a href=\"http://es.wikipedia.org/wiki/Matriz_(matem%C3%A1ticas)\">matrices</a> se pueden *sumar*, *restar* y la *multiplicar por <a href=\"http://es.wikipedia.org/wiki/Escalar_(matem%C3%A1tica)\">escalares</a>*.\n",
    "\n",
    "Multiplicacion por escalares:\n",
    "$$\\begin{split}\\gamma A\n",
    "\\left[\n",
    "\\begin{array}{ccc}\n",
    "    a_{11} &  \\cdots & a_{1k} \\\\\n",
    "    \\vdots & \\vdots  & \\vdots \\\\\n",
    "    a_{n1} &  \\cdots & a_{nk} \\\\\n",
    "\\end{array}\n",
    "\\right]\n",
    ":=\n",
    "\\left[\n",
    "\\begin{array}{ccc}\n",
    "    \\gamma a_{11} & \\cdots & \\gamma a_{1k} \\\\\n",
    "    \\vdots & \\vdots & \\vdots \\\\\n",
    "    \\gamma a_{n1} & \\cdots & \\gamma a_{nk} \\\\\n",
    "\\end{array}\n",
    "\\right]\\end{split}$$\n",
    "\n",
    "Suma de matrices: \n",
    "$$\\begin{split}A + B =\n",
    "\\left[\n",
    "\\begin{array}{ccc}\n",
    "    a_{11} & \\cdots & a_{1k} \\\\\n",
    "    \\vdots & \\vdots & \\vdots \\\\\n",
    "    a_{n1} & \\cdots & a_{nk} \\\\\n",
    "\\end{array}\n",
    "\\right]\n",
    "+\n",
    "\\left[\n",
    "\\begin{array}{ccc}\n",
    "    b_{11} & \\cdots & b_{1k} \\\\\n",
    "    \\vdots & \\vdots & \\vdots \\\\\n",
    "    b_{n1} & \\cdots & b_{nk} \\\\\n",
    "\\end{array}\n",
    "\\right]\n",
    ":=\n",
    "\\left[\n",
    "\\begin{array}{ccc}\n",
    "    a_{11} + b_{11} &  \\cdots & a_{1k} + b_{1k} \\\\\n",
    "    \\vdots & \\vdots & \\vdots \\\\\n",
    "    a_{n1} + b_{n1} &  \\cdots & a_{nk} + b_{nk} \\\\\n",
    "\\end{array}\n",
    "\\right]\\end{split}$$\n",
    "\n",
    "Resta de matrices: \n",
    "$$\\begin{split}A - B =\n",
    "\\left[\n",
    "\\begin{array}{ccc}\n",
    "    a_{11} & \\cdots & a_{1k} \\\\\n",
    "    \\vdots & \\vdots & \\vdots \\\\\n",
    "    a_{n1} & \\cdots & a_{nk} \\\\\n",
    "\\end{array}\n",
    "\\right]-\n",
    "\\left[\n",
    "\\begin{array}{ccc}\n",
    "    b_{11} & \\cdots & b_{1k} \\\\\n",
    "    \\vdots & \\vdots & \\vdots \\\\\n",
    "    b_{n1} & \\cdots & b_{nk} \\\\\n",
    "\\end{array}\n",
    "\\right]\n",
    ":=\n",
    "\\left[\n",
    "\\begin{array}{ccc}\n",
    "    a_{11} - b_{11} &  \\cdots & a_{1k} - b_{1k} \\\\\n",
    "    \\vdots & \\vdots & \\vdots \\\\\n",
    "    a_{n1} - b_{n1} &  \\cdots & a_{nk} - b_{nk} \\\\\n",
    "\\end{array}\n",
    "\\right]\\end{split}$$\n",
    "\n",
    "Para los casos de suma y resta, hay que tener en cuenta que solo se pueden sumar o restar <a href=\"http://es.wikipedia.org/wiki/Matriz_(matem%C3%A1ticas)\">matrices</a> que tengan las mismas dimensiones, es decir que si tengo una <a href=\"http://es.wikipedia.org/wiki/Matriz_(matem%C3%A1ticas)\">matriz</a> A de dimensión 3x2 (3 filas y 2 columnas) solo voy a poder sumar o restar la <a href=\"http://es.wikipedia.org/wiki/Matriz_(matem%C3%A1ticas)\">matriz</a> B si esta también tiene 3 filas y 2 columnas."
   ]
  },
  {
   "cell_type": "code",
   "execution_count": 26,
   "metadata": {},
   "outputs": [],
   "source": [
    "my_list = [[1, 3, 2],\n",
    "          [1, 0, 0],\n",
    "          [1, 2, 2]]"
   ]
  },
  {
   "cell_type": "code",
   "execution_count": 33,
   "metadata": {},
   "outputs": [
    {
     "ename": "TypeError",
     "evalue": "list indices must be integers or slices, not tuple",
     "output_type": "error",
     "traceback": [
      "\u001b[0;31m---------------------------------------------------------------------------\u001b[0m",
      "\u001b[0;31mTypeError\u001b[0m                                 Traceback (most recent call last)",
      "\u001b[1;32m/home/carlos/2023/DSPT_TBS_SVL_0923/2-Data Analytics/2-Matematicas_DS/3-Algebra_Lineal_min.ipynb Cell 34\u001b[0m line \u001b[0;36m1\n\u001b[0;32m----> <a href='vscode-notebook-cell://wsl%2Bubuntu-20.04/home/carlos/2023/DSPT_TBS_SVL_0923/2-Data%20Analytics/2-Matematicas_DS/3-Algebra_Lineal_min.ipynb#X43sdnNjb2RlLXJlbW90ZQ%3D%3D?line=0'>1</a>\u001b[0m my_list[\u001b[39m0\u001b[39;49m,\u001b[39m0\u001b[39;49m]\n",
      "\u001b[0;31mTypeError\u001b[0m: list indices must be integers or slices, not tuple"
     ]
    }
   ],
   "source": [
    "my_list[0][0]"
   ]
  },
  {
   "cell_type": "code",
   "execution_count": 28,
   "metadata": {
    "colab": {},
    "colab_type": "code",
    "collapsed": false,
    "id": "ebC-pToF_laW",
    "jupyter": {
     "outputs_hidden": false
    }
   },
   "outputs": [],
   "source": [
    "# Ejemplo en Python\n",
    "A = np.array([[1, 3, 2],\n",
    "              [1, 0, 0],\n",
    "              [1, 2, 2]])\n",
    "\n",
    "B = np.array([[1, 0, 5],\n",
    "              [7, 5, 0],\n",
    "              [2, 1, 1]])"
   ]
  },
  {
   "cell_type": "code",
   "execution_count": 29,
   "metadata": {},
   "outputs": [
    {
     "data": {
      "text/plain": [
       "array([[1, 3, 2],\n",
       "       [1, 0, 0],\n",
       "       [1, 2, 2]])"
      ]
     },
     "execution_count": 29,
     "metadata": {},
     "output_type": "execute_result"
    }
   ],
   "source": [
    "A"
   ]
  },
  {
   "cell_type": "code",
   "execution_count": 32,
   "metadata": {},
   "outputs": [
    {
     "data": {
      "text/plain": [
       "2"
      ]
     },
     "execution_count": 32,
     "metadata": {},
     "output_type": "execute_result"
    }
   ],
   "source": [
    "A[0,2]"
   ]
  },
  {
   "cell_type": "code",
   "execution_count": 34,
   "metadata": {},
   "outputs": [],
   "source": [
    "x = np.array([1,2])"
   ]
  },
  {
   "cell_type": "code",
   "execution_count": 37,
   "metadata": {},
   "outputs": [
    {
     "data": {
      "text/plain": [
       "array([1, 2])"
      ]
     },
     "execution_count": 37,
     "metadata": {},
     "output_type": "execute_result"
    }
   ],
   "source": [
    "x"
   ]
  },
  {
   "cell_type": "code",
   "execution_count": 35,
   "metadata": {},
   "outputs": [
    {
     "name": "stdout",
     "output_type": "stream",
     "text": [
      "Dimensiones 1\n",
      "Shape  (2,)\n",
      "Size  2\n"
     ]
    }
   ],
   "source": [
    "print('Dimensiones', x.ndim)\n",
    "print('Shape ', x.shape)\n",
    "print('Size ', x.size)"
   ]
  },
  {
   "cell_type": "code",
   "execution_count": 36,
   "metadata": {},
   "outputs": [
    {
     "name": "stdout",
     "output_type": "stream",
     "text": [
      "Dimensiones 2\n",
      "Shape  (3, 3)\n",
      "Size  9\n"
     ]
    }
   ],
   "source": [
    "print('Dimensiones', B.ndim)\n",
    "print('Shape ', B.shape)\n",
    "print('Size ', B.size)"
   ]
  },
  {
   "cell_type": "code",
   "execution_count": 44,
   "metadata": {},
   "outputs": [
    {
     "data": {
      "text/plain": [
       "array([[[ 0,  1,  2,  3,  4],\n",
       "        [ 5,  6,  7,  8,  9]],\n",
       "\n",
       "       [[10, 11, 12, 13, 14],\n",
       "        [15, 16, 17, 18, 19]],\n",
       "\n",
       "       [[20, 21, 22, 23, 24],\n",
       "        [25, 26, 27, 28, 29]],\n",
       "\n",
       "       [[30, 31, 32, 33, 34],\n",
       "        [35, 36, 37, 38, 39]]])"
      ]
     },
     "execution_count": 44,
     "metadata": {},
     "output_type": "execute_result"
    }
   ],
   "source": [
    "locura = np.arange(40).reshape(-1,2,5)\n",
    "locura"
   ]
  },
  {
   "cell_type": "code",
   "execution_count": 45,
   "metadata": {},
   "outputs": [
    {
     "name": "stdout",
     "output_type": "stream",
     "text": [
      "Dimensiones 3\n",
      "Shape  (4, 2, 5)\n",
      "Size  40\n"
     ]
    }
   ],
   "source": [
    "print('Dimensiones', locura.ndim)\n",
    "print('Shape ', locura.shape)\n",
    "print('Size ', locura.size)"
   ]
  },
  {
   "cell_type": "code",
   "execution_count": 46,
   "metadata": {},
   "outputs": [
    {
     "data": {
      "text/plain": [
       "(array([[1, 3, 2],\n",
       "        [1, 0, 0],\n",
       "        [1, 2, 2]]),\n",
       " array([[1, 0, 5],\n",
       "        [7, 5, 0],\n",
       "        [2, 1, 1]]))"
      ]
     },
     "execution_count": 46,
     "metadata": {},
     "output_type": "execute_result"
    }
   ],
   "source": [
    "A, B"
   ]
  },
  {
   "cell_type": "code",
   "execution_count": 47,
   "metadata": {
    "colab": {},
    "colab_type": "code",
    "collapsed": false,
    "id": "o2NX2cHS_laX",
    "jupyter": {
     "outputs_hidden": false
    },
    "outputId": "8bdc4242-ea27-4e94-a790-b78be371e41b"
   },
   "outputs": [
    {
     "data": {
      "text/plain": [
       "array([[2, 3, 7],\n",
       "       [8, 5, 0],\n",
       "       [3, 3, 3]])"
      ]
     },
     "execution_count": 47,
     "metadata": {},
     "output_type": "execute_result"
    }
   ],
   "source": [
    "# suma de las matrices A y B\n",
    "A + B"
   ]
  },
  {
   "cell_type": "code",
   "execution_count": 48,
   "metadata": {
    "colab": {},
    "colab_type": "code",
    "collapsed": false,
    "id": "gaf6T5aj_laZ",
    "jupyter": {
     "outputs_hidden": false
    },
    "outputId": "e6a16eba-46d8-45b9-9b5a-f3f07ac86f59"
   },
   "outputs": [
    {
     "data": {
      "text/plain": [
       "array([[ 0,  3, -3],\n",
       "       [-6, -5,  0],\n",
       "       [-1,  1,  1]])"
      ]
     },
     "execution_count": 48,
     "metadata": {},
     "output_type": "execute_result"
    }
   ],
   "source": [
    "# resta de matrices\n",
    "A - B"
   ]
  },
  {
   "cell_type": "code",
   "execution_count": 49,
   "metadata": {
    "colab": {},
    "colab_type": "code",
    "collapsed": false,
    "id": "NRIOiz7A_lab",
    "jupyter": {
     "outputs_hidden": false
    },
    "outputId": "c059eb40-d82a-406b-c448-00cb6de77f76"
   },
   "outputs": [
    {
     "data": {
      "text/plain": [
       "array([[2, 6, 4],\n",
       "       [2, 0, 0],\n",
       "       [2, 4, 4]])"
      ]
     },
     "execution_count": 49,
     "metadata": {},
     "output_type": "execute_result"
    }
   ],
   "source": [
    "# multiplicando matrices por escalares\n",
    "A * 2"
   ]
  },
  {
   "cell_type": "code",
   "execution_count": 50,
   "metadata": {
    "colab": {},
    "colab_type": "code",
    "collapsed": false,
    "id": "mn-goILQ_lai",
    "jupyter": {
     "outputs_hidden": false
    },
    "outputId": "5fc7acce-fdfa-4be7-e396-c45647ebb918"
   },
   "outputs": [
    {
     "data": {
      "text/plain": [
       "array([[ 3,  0, 15],\n",
       "       [21, 15,  0],\n",
       "       [ 6,  3,  3]])"
      ]
     },
     "execution_count": 50,
     "metadata": {},
     "output_type": "execute_result"
    }
   ],
   "source": [
    "B * 3"
   ]
  },
  {
   "cell_type": "code",
   "execution_count": 51,
   "metadata": {
    "colab": {},
    "colab_type": "code",
    "collapsed": false,
    "id": "VTIJPRsx_lak",
    "jupyter": {
     "outputs_hidden": false
    },
    "outputId": "55bcf643-e12c-48cf-f580-75750f7f9416"
   },
   "outputs": [
    {
     "data": {
      "text/plain": [
       "(3, 3)"
      ]
     },
     "execution_count": 51,
     "metadata": {},
     "output_type": "execute_result"
    }
   ],
   "source": [
    "# ver la dimension de una matriz\n",
    "A.shape"
   ]
  },
  {
   "cell_type": "code",
   "execution_count": 52,
   "metadata": {
    "colab": {},
    "colab_type": "code",
    "collapsed": false,
    "id": "ijzgWTV9_lan",
    "jupyter": {
     "outputs_hidden": false
    },
    "outputId": "6f2ff593-9630-478e-86b0-d03c599de1f2"
   },
   "outputs": [
    {
     "data": {
      "text/plain": [
       "9"
      ]
     },
     "execution_count": 52,
     "metadata": {},
     "output_type": "execute_result"
    }
   ],
   "source": [
    "# ver cantidad de elementos de una matriz\n",
    "A.size"
   ]
  },
  {
   "attachments": {},
   "cell_type": "markdown",
   "metadata": {
    "colab_type": "text",
    "id": "pN9kyy80_lap"
   },
   "source": [
    "#### Multiplicacion o Producto de matrices\n",
    "\n",
    "La regla para la [multiplicación de matrices](https://es.wikipedia.org/wiki/Multiplicaci%C3%B3n_de_matrices) generaliza la idea del [producto interior](https://es.wikipedia.org/wiki/Producto_escalar) que vimos con los [vectores](http://es.wikipedia.org/wiki/Vector); y esta diseñada para facilitar las operaciones lineales básicas.\n",
    "Cuando [multiplicamos matrices](https://es.wikipedia.org/wiki/Multiplicaci%C3%B3n_de_matrices), el número de columnas de la primera <a href=\"http://es.wikipedia.org/wiki/Matriz_(matem%C3%A1ticas)\">matriz</a> debe ser igual al número de filas de la segunda <a href=\"http://es.wikipedia.org/wiki/Matriz_(matem%C3%A1ticas)\">matriz</a>; y el resultado de esta multiplicación va a tener el mismo número de filas que la primer <a href=\"http://es.wikipedia.org/wiki/Matriz_(matem%C3%A1ticas)\">matriz</a> y el número de la columnas de la segunda <a href=\"http://es.wikipedia.org/wiki/Matriz_(matem%C3%A1ticas)\">matriz</a>. Es decir, que si yo tengo una <a href=\"http://es.wikipedia.org/wiki/Matriz_(matem%C3%A1ticas)\">matriz</a> A de dimensión 3x4 y la multiplico por una <a href=\"http://es.wikipedia.org/wiki/Matriz_(matem%C3%A1ticas)\">matriz</a> B de dimensión 4x2, el resultado va a ser una <a href=\"http://es.wikipedia.org/wiki/Matriz_(matem%C3%A1ticas)\">matriz</a> C de dimensión 3x2.\n",
    "\n",
    "Algo a tener en cuenta a la hora de [multiplicar matrices](https://es.wikipedia.org/wiki/Multiplicaci%C3%B3n_de_matrices) es que la propiedad [connmutativa](https://es.wikipedia.org/wiki/Conmutatividad) no se cumple. AxB no es lo mismo que BxA.\n",
    "\n",
    "Veamos los ejemplos en [Python](http://python.org/)."
   ]
  },
  {
   "cell_type": "markdown",
   "metadata": {},
   "source": [
    "![](https://www.geogebra.org/resource/jyFms9hh/gWfr05GxoKt6c3JS/material-jyFms9hh.png)"
   ]
  },
  {
   "cell_type": "code",
   "execution_count": 53,
   "metadata": {},
   "outputs": [
    {
     "data": {
      "text/plain": [
       "array([ 1,  2,  3,  4,  5,  6,  7,  8,  9, 10, 11, 12])"
      ]
     },
     "execution_count": 53,
     "metadata": {},
     "output_type": "execute_result"
    }
   ],
   "source": [
    "np.arange(1, 13)"
   ]
  },
  {
   "cell_type": "code",
   "execution_count": 54,
   "metadata": {
    "colab": {},
    "colab_type": "code",
    "collapsed": false,
    "id": "QrUMaUGz_lap",
    "jupyter": {
     "outputs_hidden": false
    },
    "outputId": "b732d20f-5611-4908-ef88-c17e0e6cc2ca"
   },
   "outputs": [
    {
     "data": {
      "text/plain": [
       "array([[ 1,  2,  3,  4],\n",
       "       [ 5,  6,  7,  8],\n",
       "       [ 9, 10, 11, 12]])"
      ]
     },
     "execution_count": 54,
     "metadata": {},
     "output_type": "execute_result"
    }
   ],
   "source": [
    "# Ejemplo multiplicación de matrices\n",
    "A = np.arange(1, 13).reshape(3, 4) #matriz de dimension 3x4\n",
    "A"
   ]
  },
  {
   "cell_type": "code",
   "execution_count": 55,
   "metadata": {},
   "outputs": [
    {
     "name": "stdout",
     "output_type": "stream",
     "text": [
      "Dimensiones 2\n",
      "Shape  (3, 4)\n",
      "Size  12\n"
     ]
    }
   ],
   "source": [
    "print('Dimensiones', A.ndim)\n",
    "print('Shape ', A.shape)\n",
    "print('Size ', A.size)"
   ]
  },
  {
   "cell_type": "code",
   "execution_count": 56,
   "metadata": {},
   "outputs": [
    {
     "data": {
      "text/plain": [
       "array([0, 1, 2, 3, 4, 5, 6, 7])"
      ]
     },
     "execution_count": 56,
     "metadata": {},
     "output_type": "execute_result"
    }
   ],
   "source": [
    "np.arange(8)"
   ]
  },
  {
   "cell_type": "code",
   "execution_count": 57,
   "metadata": {
    "colab": {},
    "colab_type": "code",
    "collapsed": false,
    "id": "uNXjexLW_lar",
    "jupyter": {
     "outputs_hidden": false
    },
    "outputId": "e3c1eb74-fb4a-4398-e496-77727984eb76"
   },
   "outputs": [
    {
     "data": {
      "text/plain": [
       "array([[0, 1],\n",
       "       [2, 3],\n",
       "       [4, 5],\n",
       "       [6, 7]])"
      ]
     },
     "execution_count": 57,
     "metadata": {},
     "output_type": "execute_result"
    }
   ],
   "source": [
    "B = np.arange(8).reshape(4,2) #matriz de dimension 4x2\n",
    "B"
   ]
  },
  {
   "cell_type": "code",
   "execution_count": 58,
   "metadata": {},
   "outputs": [
    {
     "data": {
      "text/plain": [
       "(4, 2)"
      ]
     },
     "execution_count": 58,
     "metadata": {},
     "output_type": "execute_result"
    }
   ],
   "source": [
    "B.shape"
   ]
  },
  {
   "cell_type": "code",
   "execution_count": 59,
   "metadata": {},
   "outputs": [
    {
     "data": {
      "text/plain": [
       "(array([[ 1,  2,  3,  4],\n",
       "        [ 5,  6,  7,  8],\n",
       "        [ 9, 10, 11, 12]]),\n",
       " array([[0, 1],\n",
       "        [2, 3],\n",
       "        [4, 5],\n",
       "        [6, 7]]))"
      ]
     },
     "execution_count": 59,
     "metadata": {},
     "output_type": "execute_result"
    }
   ],
   "source": [
    "A, B"
   ]
  },
  {
   "cell_type": "code",
   "execution_count": 60,
   "metadata": {},
   "outputs": [
    {
     "data": {
      "text/plain": [
       "40"
      ]
     },
     "execution_count": 60,
     "metadata": {},
     "output_type": "execute_result"
    }
   ],
   "source": [
    "1 * 0 + 2 * 2 + 3 * 4 + 4*6"
   ]
  },
  {
   "cell_type": "code",
   "execution_count": 61,
   "metadata": {},
   "outputs": [
    {
     "data": {
      "text/plain": [
       "88"
      ]
     },
     "execution_count": 61,
     "metadata": {},
     "output_type": "execute_result"
    }
   ],
   "source": [
    "5 * 0 + 6 * 2 + 7 * 4 + 8 * 6"
   ]
  },
  {
   "cell_type": "code",
   "execution_count": 62,
   "metadata": {
    "colab": {},
    "colab_type": "code",
    "collapsed": false,
    "id": "WQDDLg-G_las",
    "jupyter": {
     "outputs_hidden": false
    },
    "outputId": "f0462713-c592-4025-e09c-3b3cda1157e7"
   },
   "outputs": [
    {
     "data": {
      "text/plain": [
       "array([[ 40,  50],\n",
       "       [ 88, 114],\n",
       "       [136, 178]])"
      ]
     },
     "execution_count": 62,
     "metadata": {},
     "output_type": "execute_result"
    }
   ],
   "source": [
    "# Multiplicando A x B\n",
    "A.dot(B) #resulta en una matriz de dimension 3x2"
   ]
  },
  {
   "cell_type": "code",
   "execution_count": 64,
   "metadata": {},
   "outputs": [
    {
     "data": {
      "text/plain": [
       "(array([[0, 1],\n",
       "        [2, 3],\n",
       "        [4, 5],\n",
       "        [6, 7]]),\n",
       " array([[ 1,  2,  3,  4],\n",
       "        [ 5,  6,  7,  8],\n",
       "        [ 9, 10, 11, 12]]))"
      ]
     },
     "execution_count": 64,
     "metadata": {},
     "output_type": "execute_result"
    }
   ],
   "source": [
    "B, A"
   ]
  },
  {
   "cell_type": "code",
   "execution_count": 65,
   "metadata": {
    "colab": {},
    "colab_type": "code",
    "collapsed": false,
    "id": "FPWPxLIb_lau",
    "jupyter": {
     "outputs_hidden": false
    },
    "outputId": "5ff11851-850e-47a3-b410-290e26325dce"
   },
   "outputs": [
    {
     "ename": "ValueError",
     "evalue": "shapes (4,2) and (3,4) not aligned: 2 (dim 1) != 3 (dim 0)",
     "output_type": "error",
     "traceback": [
      "\u001b[0;31m---------------------------------------------------------------------------\u001b[0m",
      "\u001b[0;31mValueError\u001b[0m                                Traceback (most recent call last)",
      "\u001b[1;32m/home/carlos/2023/DSPT_TBS_SVL_0923/2-Data Analytics/2-Matematicas_DS/3-Algebra_Lineal_min.ipynb Cell 64\u001b[0m line \u001b[0;36m2\n\u001b[1;32m      <a href='vscode-notebook-cell://wsl%2Bubuntu-20.04/home/carlos/2023/DSPT_TBS_SVL_0923/2-Data%20Analytics/2-Matematicas_DS/3-Algebra_Lineal_min.ipynb#Y110sdnNjb2RlLXJlbW90ZQ%3D%3D?line=0'>1</a>\u001b[0m \u001b[39m# Multiplicando B x A\u001b[39;00m\n\u001b[0;32m----> <a href='vscode-notebook-cell://wsl%2Bubuntu-20.04/home/carlos/2023/DSPT_TBS_SVL_0923/2-Data%20Analytics/2-Matematicas_DS/3-Algebra_Lineal_min.ipynb#Y110sdnNjb2RlLXJlbW90ZQ%3D%3D?line=1'>2</a>\u001b[0m B\u001b[39m.\u001b[39;49mdot(A)\n",
      "\u001b[0;31mValueError\u001b[0m: shapes (4,2) and (3,4) not aligned: 2 (dim 1) != 3 (dim 0)"
     ]
    }
   ],
   "source": [
    "# Multiplicando B x A\n",
    "B.dot(A)"
   ]
  },
  {
   "attachments": {},
   "cell_type": "markdown",
   "metadata": {
    "colab_type": "text",
    "id": "zkNjYkh1_law"
   },
   "source": [
    "Este ultimo ejemplo vemos que la propiedad conmutativa no se cumple, es más, [Python](http://python.org/) nos arroja un error, ya que el número de columnas de B no coincide con el número de filas de A, por lo que ni siquiera se puede realizar la multiplicación de B x A.\n",
    "\n",
    "Para una explicación más detallada del proceso de [multiplicación de matrices](https://es.wikipedia.org/wiki/Multiplicaci%C3%B3n_de_matrices), pueden consultar el siguiente [tutorial](http://www.mathsisfun.com/algebra/matrix-multiplying.html)."
   ]
  },
  {
   "attachments": {},
   "cell_type": "markdown",
   "metadata": {
    "colab_type": "text",
    "id": "MJ7kfMWO_lax"
   },
   "source": [
    "#### La matriz identidad,  la matriz inversa,  la matrix transpuesta y el determinante\n",
    "\n",
    "La [matriz identidad](https://es.wikipedia.org/wiki/Matriz_identidad) es el elemento neutro en la [multiplicación de matrices](https://es.wikipedia.org/wiki/Multiplicaci%C3%B3n_de_matrices), es el equivalente al número 1. Cualquier matriz multiplicada por la [matriz identidad](https://es.wikipedia.org/wiki/Matriz_identidad) nos da como resultado la misma matriz. La [matriz identidad](https://es.wikipedia.org/wiki/Matriz_identidad) es una [matriz cuadrada](https://es.wikipedia.org/wiki/Matriz_cuadrada) (tiene siempre el mismo número de filas que de columnas); y su diagonal principal se compone de todos elementos 1 y el resto de los elementos se completan con 0. Suele representase con la letra I\n",
    "\n",
    "Por ejemplo la matriz identidad de 3x3 sería la siguiente:\n",
    "\n",
    "$$I=\\begin{bmatrix}1 & 0 & 0 & \\\\0 & 1 & 0\\\\ 0 & 0 & 1\\end{bmatrix}$$\n",
    "\n",
    "Ahora que conocemos el concepto de la [matriz identidad](https://es.wikipedia.org/wiki/Matriz_identidad), podemos llegar al concepto de la [matriz inversa](https://es.wikipedia.org/wiki/Matriz_invertible). Si tenemos una matriz A, la [matriz inversa](https://es.wikipedia.org/wiki/Matriz_invertible) de A, que se representa como $ A^{-1 } $ es aquella [matriz cuadrada](https://es.wikipedia.org/wiki/Matriz_cuadrada) que hace que la multiplicación $A x A^{-1} $ sea igual a la [matriz identidad](https://es.wikipedia.org/wiki/Matriz_identidad) I. Es decir que es la <a href=\"http://es.wikipedia.org/wiki/Matriz_(matem%C3%A1ticas)\">matriz</a> recíproca de A.\n",
    "\n",
    "$$A × A^{-1} = A^{-1} × A = I$$\n",
    "\n",
    "Tener en cuenta que esta [matriz inversa](https://es.wikipedia.org/wiki/Matriz_invertible) en muchos casos puede no existir.En este caso se dice que la matriz es singular o degenerada. Una matriz es singular si y solo si su <a href=\"https://es.wikipedia.org/wiki/Determinante_(matem%C3%A1tica)\">determinante</a> es nulo.\n",
    "\n",
    "El <a href=\"https://es.wikipedia.org/wiki/Determinante_(matem%C3%A1tica)\">determinante</a> es un número especial que puede calcularse sobre las [matrices cuadradas](https://es.wikipedia.org/wiki/Matriz_cuadrada). Se calcula como la suma de los productos de las diagonales de la matriz en una dirección menos la suma de los productos de las diagonales en la otra dirección. Se represente con el símbolo |A|.\n",
    "\n",
    "$$A=\\begin{bmatrix}a_{11} & a_{12} & a_{13} & \\\\a_{21} & a_{22} & a_{23} & \\\\ a_{31} & a_{32} & a_{33} & \\end{bmatrix}$$\n",
    "\n",
    "$$|A| = \n",
    "     (a_{11} a_{22} a_{33} \n",
    "   + a_{12} a_{23} a_{31} \n",
    "   + a_{13} a_{21} a_{32} )\n",
    "   - (a_{31} a_{22} a_{13} \n",
    "   + a_{32} a_{23} a_{11} \n",
    "   + a_{33} a_{21} a_{12})\n",
    " $$\n",
    "\n",
    "Por último, la [matriz transpuesta](http://es.wikipedia.org/wiki/Matriz_transpuesta) es aquella en que las filas se transforman en columnas y las columnas en filas. Se representa con el símbolo $A^\\intercal$\n",
    "\n",
    "$$\\begin{bmatrix}a & b & \\\\c & d & \\\\ e & f & \\end{bmatrix}^T:=\\begin{bmatrix}a & c & e &\\\\b & d & f & \\end{bmatrix}$$\n",
    "\n",
    "Ejemplos en [Python](http://python.org/):"
   ]
  },
  {
   "cell_type": "code",
   "execution_count": 69,
   "metadata": {
    "colab": {},
    "colab_type": "code",
    "collapsed": false,
    "id": "H6chu8kJ_lax",
    "jupyter": {
     "outputs_hidden": false
    },
    "outputId": "8d597371-2582-4631-f2fb-7505ff9c898b"
   },
   "outputs": [
    {
     "data": {
      "text/plain": [
       "array([[1., 0.],\n",
       "       [0., 1.]])"
      ]
     },
     "execution_count": 69,
     "metadata": {},
     "output_type": "execute_result"
    }
   ],
   "source": [
    "# Creando una matriz identidad de 2x2\n",
    "I = np.eye(2)\n",
    "I"
   ]
  },
  {
   "cell_type": "code",
   "execution_count": 70,
   "metadata": {
    "colab": {},
    "colab_type": "code",
    "collapsed": false,
    "id": "P8nKrQdB_laz",
    "jupyter": {
     "outputs_hidden": false
    },
    "outputId": "97230bc0-11a5-4b8c-8855-d1052f1df5c7"
   },
   "outputs": [
    {
     "data": {
      "text/plain": [
       "array([[4, 7],\n",
       "       [2, 6]])"
      ]
     },
     "execution_count": 70,
     "metadata": {},
     "output_type": "execute_result"
    }
   ],
   "source": [
    "# Multiplicar una matriz por la identidad nos da la misma matriz\n",
    "A = np.array([[4, 7],\n",
    "              [2, 6]])\n",
    "A"
   ]
  },
  {
   "cell_type": "code",
   "execution_count": 71,
   "metadata": {
    "colab": {},
    "colab_type": "code",
    "collapsed": false,
    "id": "TjiAKfqj_la0",
    "jupyter": {
     "outputs_hidden": false
    },
    "outputId": "91dd0009-e5d7-433f-cf68-bc2dfe503ac9"
   },
   "outputs": [
    {
     "data": {
      "text/plain": [
       "array([[4., 7.],\n",
       "       [2., 6.]])"
      ]
     },
     "execution_count": 71,
     "metadata": {},
     "output_type": "execute_result"
    }
   ],
   "source": [
    "A.dot(I) # AxI = A"
   ]
  },
  {
   "cell_type": "code",
   "execution_count": 76,
   "metadata": {
    "colab": {},
    "colab_type": "code",
    "collapsed": false,
    "id": "EAXLUTDv_la2",
    "jupyter": {
     "outputs_hidden": false
    },
    "outputId": "3cb7e295-fc0e-4c28-94a5-60f3e1308768"
   },
   "outputs": [
    {
     "data": {
      "text/plain": [
       "10.000000000000002"
      ]
     },
     "execution_count": 76,
     "metadata": {},
     "output_type": "execute_result"
    }
   ],
   "source": [
    "# Calculando el determinante de la matriz A\n",
    "np.linalg.det(A)"
   ]
  },
  {
   "cell_type": "code",
   "execution_count": 78,
   "metadata": {
    "colab": {},
    "colab_type": "code",
    "collapsed": false,
    "id": "dlXXWPTe_la4",
    "jupyter": {
     "outputs_hidden": false
    },
    "outputId": "56c9635f-b563-4dad-dae3-0ce60c5e5d1e"
   },
   "outputs": [
    {
     "data": {
      "text/plain": [
       "array([[ 0.6, -0.7],\n",
       "       [-0.2,  0.4]])"
      ]
     },
     "execution_count": 78,
     "metadata": {},
     "output_type": "execute_result"
    }
   ],
   "source": [
    "# Calculando la inversa de A.\n",
    "A_inv = np.linalg.inv(A)\n",
    "A_inv"
   ]
  },
  {
   "cell_type": "code",
   "execution_count": 79,
   "metadata": {
    "colab": {},
    "colab_type": "code",
    "collapsed": false,
    "id": "iZRBBMbB_la6",
    "jupyter": {
     "outputs_hidden": false
    },
    "outputId": "904bb2cc-d248-4ad2-aedf-8dd80d426911"
   },
   "outputs": [
    {
     "data": {
      "text/plain": [
       "array([[ 1.00000000e+00, -1.11022302e-16],\n",
       "       [-1.11022302e-16,  1.00000000e+00]])"
      ]
     },
     "execution_count": 79,
     "metadata": {},
     "output_type": "execute_result"
    }
   ],
   "source": [
    "# A x A_inv nos da como resultado I.\n",
    "A.dot(A_inv)"
   ]
  },
  {
   "cell_type": "code",
   "execution_count": null,
   "metadata": {},
   "outputs": [],
   "source": []
  },
  {
   "cell_type": "code",
   "execution_count": 82,
   "metadata": {
    "colab": {},
    "colab_type": "code",
    "collapsed": false,
    "id": "MRY9I8QV_la8",
    "jupyter": {
     "outputs_hidden": false
    },
    "outputId": "50ae6792-407c-4acf-e2c9-e9c9bf10e9e7"
   },
   "outputs": [
    {
     "data": {
      "text/plain": [
       "array([[0, 1],\n",
       "       [2, 3],\n",
       "       [4, 5]])"
      ]
     },
     "execution_count": 82,
     "metadata": {},
     "output_type": "execute_result"
    }
   ],
   "source": [
    "# Trasponiendo una matriz\n",
    "A = np.arange(6).reshape(3, 2)\n",
    "A"
   ]
  },
  {
   "cell_type": "code",
   "execution_count": 83,
   "metadata": {
    "colab": {},
    "colab_type": "code",
    "collapsed": false,
    "id": "NZeH2cbE_la9",
    "jupyter": {
     "outputs_hidden": false
    },
    "outputId": "2f14c0b6-88b5-4c3e-96d3-e62eaf8e650c"
   },
   "outputs": [
    {
     "data": {
      "text/plain": [
       "array([[0, 2, 4],\n",
       "       [1, 3, 5]])"
      ]
     },
     "execution_count": 83,
     "metadata": {},
     "output_type": "execute_result"
    }
   ],
   "source": [
    "np.transpose(A)"
   ]
  },
  {
   "cell_type": "code",
   "execution_count": 84,
   "metadata": {},
   "outputs": [
    {
     "data": {
      "text/plain": [
       "array([[0, 2, 4],\n",
       "       [1, 3, 5]])"
      ]
     },
     "execution_count": 84,
     "metadata": {},
     "output_type": "execute_result"
    }
   ],
   "source": [
    "A.T"
   ]
  }
 ],
 "metadata": {
  "colab": {
   "name": "1-Algebra_Lineal.ipynb",
   "provenance": []
  },
  "kernelspec": {
   "display_name": "Python 3",
   "language": "python",
   "name": "python3"
  },
  "language_info": {
   "codemirror_mode": {
    "name": "ipython",
    "version": 3
   },
   "file_extension": ".py",
   "mimetype": "text/x-python",
   "name": "python",
   "nbconvert_exporter": "python",
   "pygments_lexer": "ipython3",
   "version": "3.8.10"
  },
  "vscode": {
   "interpreter": {
    "hash": "ec2a379ed5c25334a484232182c9d38ef8bd9861e2542d0c517568c4f99a9a7c"
   }
  }
 },
 "nbformat": 4,
 "nbformat_minor": 4
}
