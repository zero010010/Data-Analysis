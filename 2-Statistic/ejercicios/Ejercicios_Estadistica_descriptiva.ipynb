{
 "cells": [
  {
   "cell_type": "markdown",
   "metadata": {},
   "source": [
    "![imagen](./img/ejercicios.png)\n",
    "\n",
    "# Ejercicios estadística descriptiva"
   ]
  },
  {
   "cell_type": "code",
   "execution_count": 2,
   "metadata": {},
   "outputs": [],
   "source": [
    "import numpy as np\n",
    "import matplotlib.pyplot as plt\n",
    "import matplotlib.pyplot as plt"
   ]
  },
  {
   "cell_type": "markdown",
   "metadata": {},
   "source": [
    "## Ejercicio 1\n",
    "Para este ejercicio hay que razonar sin programar la pinta tienen los datos (media, asimetria, valores extremos, outliers...)\n",
    "\n",
    "### Banco\n",
    "La cantidad de dinero que se suele pedir en el banco Atope de Billets sigue la siguiente distribución. ¿Qué podemos sacar en claro de la distribución?"
   ]
  },
  {
   "cell_type": "code",
   "execution_count": 22,
   "metadata": {
    "jupyter": {
     "source_hidden": true
    }
   },
   "outputs": [
    {
     "data": {
      "image/png": "[encoded data removed]",
      "text/plain": [
       "<Figure size 432x288 with 1 Axes>"
      ]
     },
     "metadata": {
      "needs_background": "light"
     },
     "output_type": "display_data"
    }
   ],
   "source": [
    "datos_banco = np.random.normal(250000, 30000, 5000)\n",
    "plt.hist(datos_banco, 70, histtype=\"stepfilled\", alpha=.7);"
   ]
  },
  {
   "cell_type": "markdown",
   "metadata": {},
   "source": [
    "**Responde aquí**"
   ]
  },
  {
   "cell_type": "markdown",
   "metadata": {},
   "source": [
    "### Cirujía\n",
    "Suponiendo que el tiempo de supervivencia tras una operación quirúrgica de cerebro sigue la siguiente distribución. ¿Qué podemos sacar en claro?"
   ]
  },
  {
   "cell_type": "code",
   "execution_count": 21,
   "metadata": {
    "jupyter": {
     "source_hidden": true
    }
   },
   "outputs": [
    {
     "data": {
      "image/png": "[encoded data removed]",
      "text/plain": [
       "<Figure size 432x288 with 1 Axes>"
      ]
     },
     "metadata": {
      "needs_background": "light"
     },
     "output_type": "display_data"
    }
   ],
   "source": [
    "from scipy import stats\n",
    "x = stats.gamma(5).rvs(5000)\n",
    "plt.hist(x, 70, histtype=\"stepfilled\", alpha=.7);"
   ]
  },
  {
   "cell_type": "markdown",
   "metadata": {},
   "source": [
    "**Responde aquí**"
   ]
  },
  {
   "cell_type": "markdown",
   "metadata": {},
   "source": [
    "### Salarios\n",
    "¿Qué podemos afirmar sobre la distribución de salarios, que quedaría representada de la siguiente manera?"
   ]
  },
  {
   "cell_type": "code",
   "execution_count": 32,
   "metadata": {
    "jupyter": {
     "source_hidden": true
    }
   },
   "outputs": [
    {
     "data": {
      "image/png": "[encoded data removed]",
      "text/plain": [
       "<Figure size 432x288 with 1 Axes>"
      ]
     },
     "metadata": {
      "needs_background": "light"
     },
     "output_type": "display_data"
    }
   ],
   "source": [
    "datos_banco = np.random.lognormal(10, 1, 5000)\n",
    "plt.hist(datos_banco, 70, histtype=\"stepfilled\", alpha=.7);"
   ]
  },
  {
   "cell_type": "markdown",
   "metadata": {},
   "source": [
    "## Ejercicio 2\n",
    "Para este ejercicio no se pueden utilizar librerías ni funciones ya predefinidas. Solo las *built-in* de Python (sum, len, sort...). Math valdria si tienes que realizar alguna raiz cuadrada\n",
    "\n",
    "Dados los siguientes datos de retrasos en vuelos de la compañia *Más vale tarde que nunca*:\n",
    "\n",
    "```Python\n",
    "retr = [3, 1, 1, 2, 4, 5, 6, 4, 7, 4, 5, 6, 4, 5, 6, 7, 4]\n",
    "```\n",
    "\n",
    "Se pide\n",
    "* Calcular la media\n",
    "* Calcular la moda\n",
    "* Calcular la mediana\n",
    "* Calcular el mayor retraso, el menor y el rango de la variable\n",
    "* Calcula la varianza\n",
    "* Calcular la desviación típica\n",
    "* Prueba a calcular su histograma\n",
    "* Interpreta los resultados"
   ]
  }
 ],
 "metadata": {
  "kernelspec": {
   "display_name": "Python 3",
   "language": "python",
   "name": "python3"
  },
  "language_info": {
   "codemirror_mode": {
    "name": "ipython",
    "version": 3
   },
   "file_extension": ".py",
   "mimetype": "text/x-python",
   "name": "python",
   "nbconvert_exporter": "python",
   "pygments_lexer": "ipython3",
   "version": "3.8.3"
  }
 },
 "nbformat": 4,
 "nbformat_minor": 4
}
