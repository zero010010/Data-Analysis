{
 "cells": [
  {
   "cell_type": "markdown",
   "metadata": {},
   "source": [
    "# Practica del mundo real.\n",
    "\n",
    "Eres un empleado de __Empresa Energética SA__, y estais preparando los datos de todos los sistemas para pasarlos a un modelo de predicción. Te han encargado una tarea, cargar los datos de los clientes de Pueblo Paleta, un pequeño pueblo en el que hay __740 casas__.\n",
    "\n",
    "Los datos que tienes que cargar son los datos del contador de cada vivienda, que genera un registro de datos cada hora. En este registro se encuentra el consumo acumulado de la última hora de cada vivienda.  \n",
    "El problema es que el concentrador energético de pueblo paleta es muy antiguo y sus sistema informático aún más. Su base de datos es una versión muy prehistórica de las bases de datos actuales y tiene muchas limitaciones, como por ejemplo la forma en la que almacenan los datos. La base de datos es un conjunto de filas y columnas no numeradas, en la que puede haber máximo 16 registros por fila, pero puede haber filas infinitas. En una misma fila no se puede guardar 24 registros, solo guardan 16. Los ingenieros de aquella epoca hicieron un apaño para guardar esa información, y es que cada día se irían guardando los datos de cada vecino de forma consecutiva y ordenada. \n",
    "\n",
    "Primero el vecino1, luego el vecino2, luego el vecino3 y así hasta el vecino740. Además tampoco podemos identificar el a que día corresponde cada conjunto de registros, pero si sabemos que el primer día de datos corresponde al 16 de enero de 2004.\n",
    "Nos han asegurado que no hay ningun registro nulo en todo el histórico de datos del sistema, puesto que aunque es viejísimo es muy eficaz.\n",
    "\n",
    "Tu tarea será:\n",
    "- Organizar esta información de forma lógica, es decir, cada fila corresponde a un día del año, y cada columna corresponde a un cliente. Y en cada celda se encontrará una lista de los registros que marca el contador. \n",
    "- Crear un nuevo dataset de información (otra matriz), en la que en vez de tener los registros, tengamos la media de estos registros por cliente y día. \n",
    "- Sabiendo que la energía cuesta 0.25€ el KW/h, crear una nueva matriz en la que por cada cliente y día, tengamos el coste total de cada cliente, para tener la facturación diaria de estos.\n",
    "\n",
    "Mucho ánimo."
   ]
  },
  {
   "cell_type": "code",
   "execution_count": null,
   "metadata": {},
   "outputs": [],
   "source": [
    "import numpy as np\n",
    "np.random.seed(2023)\n",
    "\n",
    "data = np.random.randint(low=12,high=150,size=(999000,16))"
   ]
  }
 ],
 "metadata": {
  "kernelspec": {
   "display_name": "Python 3",
   "language": "python",
   "name": "python3"
  },
  "language_info": {
   "codemirror_mode": {
    "name": "ipython",
    "version": 3
   },
   "file_extension": ".py",
   "mimetype": "text/x-python",
   "name": "python",
   "nbconvert_exporter": "python",
   "pygments_lexer": "ipython3",
   "version": "3.8.10"
  }
 },
 "nbformat": 4,
 "nbformat_minor": 2
}
