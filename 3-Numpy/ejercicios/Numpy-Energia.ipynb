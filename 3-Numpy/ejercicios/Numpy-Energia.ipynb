{
 "cells": [
  {
   "cell_type": "markdown",
   "metadata": {},
   "source": [
    "# Practica del mundo real.\n",
    "\n",
    "Eres un empleado de __Empresa Energética SA__, y estais preparando los datos de todos los sistemas para pasarlos a un modelo de predicción. Te han encargado una tarea, cargar los datos de los clientes de Pueblo Paleta, un pequeño pueblo en el que hay __740 casas__.\n",
    "\n",
    "Los datos que tienes que cargar son los datos del contador de cada vivienda, que genera un registro de datos cada hora. En este registro se encuentra el consumo acumulado de la última hora de cada vivienda.  \n",
    "El problema es que el concentrador energético de pueblo paleta es muy antiguo y sus sistema informático aún más. Su base de datos es una versión muy prehistórica de las bases de datos actuales y tiene muchas limitaciones, como por ejemplo la forma en la que almacenan los datos. La base de datos es un conjunto de filas y columnas no numeradas, en la que puede haber máximo 16 registros por fila, pero puede haber filas infinitas. En una misma fila no se puede guardar 24 registros, solo guardan 16. Los ingenieros de aquella epoca hicieron un apaño para guardar esa información, y es que cada día se irían guardando los datos de cada vecino de forma consecutiva y ordenada. \n",
    "\n",
    "Primero el vecino1, luego el vecino2, luego el vecino3 y así hasta el vecino740. Además tampoco podemos identificar el a que día corresponde cada conjunto de registros, pero si sabemos que el primer día de datos corresponde al 16 de enero de 2004.\n",
    "Nos han asegurado que no hay ningun registro nulo en todo el histórico de datos del sistema, puesto que aunque es viejísimo es muy eficaz.\n",
    "\n",
    "Tu tarea será:\n",
    "- Organizar esta información de forma lógica, es decir, cada fila corresponde a un día del año, y cada columna corresponde a un cliente. Y en cada celda se encontrará una lista de los registros que marca el contador. \n",
    "- Crear un nuevo dataset de información (otra matriz), en la que en vez de tener los registros, tengamos la media de estos registros por cliente y día. \n",
    "- Sabiendo que la energía cuesta 0.25€ el KW/h, crear una nueva matriz en la que por cada cliente y día, tengamos el coste total de cada cliente, para tener la facturación diaria de estos.\n",
    "\n",
    "Mucho ánimo."
   ]
  },
  {
   "cell_type": "code",
   "execution_count": 2,
   "metadata": {},
   "outputs": [],
   "source": [
    "import numpy as np\n",
    "import pandas as pd"
   ]
  },
  {
   "cell_type": "code",
   "execution_count": 3,
   "metadata": {},
   "outputs": [
    {
     "data": {
      "text/plain": [
       "array([[ 99,  37,  15, ...,  75,  41,  61],\n",
       "       [126, 124,  61, ...,  46,  61,  89],\n",
       "       [127, 127,  99, ..., 145,  19,  95],\n",
       "       ...,\n",
       "       [ 45,  21,  35, ..., 118, 125,  41],\n",
       "       [ 74,  93,  67, ...,  48,  23,  27],\n",
       "       [ 68,  73,  45, ..., 137,  40,  32]])"
      ]
     },
     "execution_count": 3,
     "metadata": {},
     "output_type": "execute_result"
    }
   ],
   "source": [
    "# Generar los datos\n",
    "\n",
    "np.random.seed(2023)\n",
    "data = np.random.randint(low=12,high=150,size=(999000,16))\n",
    "data"
   ]
  },
  {
   "cell_type": "code",
   "execution_count": 44,
   "metadata": {},
   "outputs": [
    {
     "data": {
      "text/plain": [
       "array([[[ 99,  37,  15, ..., 123, 139, 100],\n",
       "        [ 84,  77,  34, ..., 145,  19,  95],\n",
       "        [ 67, 137,  18, ...,  83,  83,  48],\n",
       "        ...,\n",
       "        [ 88,  56,  40, ..., 120, 140,  38],\n",
       "        [144,  80,  79, ..., 133,  94,  40],\n",
       "        [ 65,  56,  92, ...,  13,  32,  15]],\n",
       "\n",
       "       [[ 97, 103, 113, ...,  65,  67,  75],\n",
       "        [140,  56,  91, ...,  82, 121,  77],\n",
       "        [125,  49,  59, ...,  53,  68,  24],\n",
       "        ...,\n",
       "        [ 98, 143,  81, ...,  48,  23, 125],\n",
       "        [ 23,  23,  55, ..., 113,  61, 122],\n",
       "        [ 27,  19,  30, ...,  40,  43,  39]],\n",
       "\n",
       "       [[ 44,  61,  45, ...,  79,  28,  36],\n",
       "        [ 45,  32,  69, ...,  46,  39, 128],\n",
       "        [ 56,  78, 144, ..., 112, 126,  58],\n",
       "        ...,\n",
       "        [114,  81,  29, ..., 144, 102,  77],\n",
       "        [110, 144,  66, ...,  89, 148,  22],\n",
       "        [133, 107,  83, ..., 138,  92,  48]],\n",
       "\n",
       "       ...,\n",
       "\n",
       "       [[ 78, 130,  33, ...,  97,  38, 140],\n",
       "        [130,  70,  99, ..., 114, 114,  91],\n",
       "        [120,  68, 103, ...,  65, 107,  38],\n",
       "        ...,\n",
       "        [ 87,  64,  32, ...,  25,  53,  47],\n",
       "        [101,  60,  45, ..., 114,  24,  78],\n",
       "        [121,  94,  77, ...,  95,  96,  41]],\n",
       "\n",
       "       [[ 45, 106,  31, ..., 109, 133,  65],\n",
       "        [114,  26, 121, ...,  82, 108, 109],\n",
       "        [ 55,  70, 118, ...,  23,  50,  43],\n",
       "        ...,\n",
       "        [ 82,  87,  41, ..., 132,  81, 138],\n",
       "        [ 27,  73,  46, ...,  66,  45, 143],\n",
       "        [138,  51, 130, ...,  23,  58,  61]],\n",
       "\n",
       "       [[ 92, 101,  71, ...,  85, 110,  90],\n",
       "        [101,  91, 119, ...,  46,  93,  82],\n",
       "        [ 28,  89,  74, ..., 110,  88,  15],\n",
       "        ...,\n",
       "        [ 95, 133,  27, ...,  48, 123,  46],\n",
       "        [ 45,  21,  35, ..., 120,  48,  72],\n",
       "        [ 41,  36,  49, ..., 137,  40,  32]]])"
      ]
     },
     "execution_count": 44,
     "metadata": {},
     "output_type": "execute_result"
    }
   ],
   "source": [
    "# Reorganizar los datos de manera lógica:\n",
    "#   Primera dimensión (900) se corresponde con el total de días del conjunto de datos\n",
    "#   Segunda dimensión (740) se corresponde con el número de vecinos\n",
    "#   Tercera dimensión (24) se corresponde con los registros diarios, uno cada hora (24 al día)\n",
    "\n",
    "reshaped_data = data.reshape(-1,740,24)\n",
    "reshaped_data"
   ]
  },
  {
   "cell_type": "code",
   "execution_count": 45,
   "metadata": {},
   "outputs": [],
   "source": [
    "# Consumo medio por cliente y día\n",
    "\n",
    "def consumo_medio(datos):\n",
    "    '''\n",
    "    Función que calcula el consumo medio por cliente y día\n",
    "        Args: \n",
    "            datos (numpy array 3D): datos con el consumo energético por horas\n",
    "        Returs:\n",
    "            consumo_medio(numpy array): media del consumo energético diario por cliente\n",
    "    '''\n",
    "    media_consumo = np.zeros(datos.shape[:-1])\n",
    "\n",
    "    for dia in range(len(datos)):\n",
    "        for cliente in range(len(datos[dia])):\n",
    "            media_consumo[dia][cliente] = np.mean(datos[dia][cliente])\n",
    "    return media_consumo "
   ]
  },
  {
   "cell_type": "code",
   "execution_count": 47,
   "metadata": {},
   "outputs": [
    {
     "data": {
      "text/plain": [
       "array([[81.125     , 85.08333333, 80.375     , ..., 91.875     ,\n",
       "        80.33333333, 75.875     ],\n",
       "       [76.625     , 77.45833333, 77.75      , ..., 89.54166667,\n",
       "        71.25      , 60.41666667],\n",
       "       [74.375     , 82.95833333, 77.125     , ..., 88.83333333,\n",
       "        87.04166667, 84.04166667],\n",
       "       ...,\n",
       "       [84.875     , 93.08333333, 76.79166667, ..., 76.125     ,\n",
       "        83.29166667, 70.16666667],\n",
       "       [84.54166667, 85.75      , 69.70833333, ..., 69.79166667,\n",
       "        73.375     , 65.375     ],\n",
       "       [81.79166667, 94.58333333, 76.58333333, ..., 88.20833333,\n",
       "        72.5       , 66.75      ]])"
      ]
     },
     "execution_count": 47,
     "metadata": {},
     "output_type": "execute_result"
    }
   ],
   "source": [
    "# Array con las medias diarias de cada cliente de su consumo energético. \n",
    "# Registros de 900 días y 740 clientes\n",
    "datos_medios = consumo_medio(reshaped_data)\n",
    "datos_medios "
   ]
  },
  {
   "cell_type": "code",
   "execution_count": 9,
   "metadata": {},
   "outputs": [],
   "source": [
    "# Coste del consumo energético por día\n",
    "\n",
    "def consumo_diario(datos,tarifa):\n",
    "    '''\n",
    "    Función que calcula el consumo total en euros (€) por cliente y día\n",
    "        Args: \n",
    "            datos(numpy array): datos con el consumo energético por horas\n",
    "            tarifa (float): precio en euros (€) del kW/h\n",
    "        Returs (numpy array): \n",
    "            coste (numpy array): coste en euros (€) del consumo energético por cliente y día\n",
    "    '''\n",
    "    costes = np.zeros(datos.shape[:-1])\n",
    "\n",
    "    for dia in range(len(datos)):\n",
    "        for cliente in range(len(datos[dia])):\n",
    "            consumo_dia = np.sum(datos[dia][cliente]) # Suma de los registros de consumo diario (24 registros)\n",
    "            coste = consumo_dia*tarifa\n",
    "            costes[dia][cliente] = coste\n",
    "    return costes"
   ]
  },
  {
   "cell_type": "code",
   "execution_count": 42,
   "metadata": {},
   "outputs": [],
   "source": [
    "# Array con las el coste del consumo energético diario de cada cliente.\n",
    "# Registros de 900 días y 740 clientes\n",
    "\n",
    "facturacion_diaria = consumo_diario(reshaped_data,0.25)"
   ]
  },
  {
   "cell_type": "code",
   "execution_count": 43,
   "metadata": {},
   "outputs": [
    {
     "data": {
      "text/plain": [
       "array([[486.75, 510.5 , 482.25, ..., 551.25, 482.  , 455.25],\n",
       "       [459.75, 464.75, 466.5 , ..., 537.25, 427.5 , 362.5 ],\n",
       "       [446.25, 497.75, 462.75, ..., 533.  , 522.25, 504.25],\n",
       "       ...,\n",
       "       [509.25, 558.5 , 460.75, ..., 456.75, 499.75, 421.  ],\n",
       "       [507.25, 514.5 , 418.25, ..., 418.75, 440.25, 392.25],\n",
       "       [490.75, 567.5 , 459.5 , ..., 529.25, 435.  , 400.5 ]])"
      ]
     },
     "execution_count": 43,
     "metadata": {},
     "output_type": "execute_result"
    }
   ],
   "source": [
    "facturacion_diaria"
   ]
  }
 ],
 "metadata": {
  "kernelspec": {
   "display_name": "Python 3",
   "language": "python",
   "name": "python3"
  },
  "language_info": {
   "codemirror_mode": {
    "name": "ipython",
    "version": 3
   },
   "file_extension": ".py",
   "mimetype": "text/x-python",
   "name": "python",
   "nbconvert_exporter": "python",
   "pygments_lexer": "ipython3",
   "version": "3.11.3"
  }
 },
 "nbformat": 4,
 "nbformat_minor": 2
}
