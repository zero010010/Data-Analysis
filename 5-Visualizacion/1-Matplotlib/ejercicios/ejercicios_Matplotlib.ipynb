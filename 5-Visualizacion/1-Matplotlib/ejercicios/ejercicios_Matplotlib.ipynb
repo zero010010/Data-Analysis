{
 "cells": [
  {
   "cell_type": "markdown",
   "metadata": {},
   "source": [
    "## Ejercicios de Matplotlib"
   ]
  },
  {
   "cell_type": "markdown",
   "metadata": {},
   "source": [
    "1. Importa pyplot, numpy y pandas"
   ]
  },
  {
   "cell_type": "markdown",
   "metadata": {},
   "source": [
    "2. Activa matplotlib de forma estática"
   ]
  },
  {
   "cell_type": "markdown",
   "metadata": {},
   "source": [
    "3. Sabemos que podemos pintar gráficas de dos formas: la figura incluye los ejes o teniendo figura y ejes por separado.\n",
    "\n",
    "Usando solo una figura, usa numpy para los valores del eje X entre 0 y 5. \n",
    "\n",
    "Pinta dos gráficas en dos cajas distintas, a la izquierda una recta con pendiente positiva de 3 que pase por (0,0) y a la derecha una recta con pendiente negativa de 3 que pase por (0,-5). \n",
    "\n",
    "Elige la precisión en el eje X que desees.  "
   ]
  },
  {
   "cell_type": "markdown",
   "metadata": {},
   "source": [
    "4. Fija el eje X entre 0 y 5 y el eje Y entre -15 y 15"
   ]
  },
  {
   "cell_type": "markdown",
   "metadata": {},
   "source": [
    "5. Llama al eje X \"eje X\", al eje Y \"eje Y\" y pon de títulos \"recta sube\" y \"recta baja\". Muestra dos etiquetas de ejeX pero solo una de eje Y."
   ]
  },
  {
   "cell_type": "markdown",
   "metadata": {},
   "source": [
    "Vamos a pintar lo mismo pero accediendo directamente a los ejes"
   ]
  },
  {
   "cell_type": "markdown",
   "metadata": {},
   "source": [
    "6. Usando una figura Y EJES POR SEPARADO, usa numpy para los valores del eje X entre 0 y 5. Pinta dos gráficas en dos cajas distintas, a la izquierda una recta con pendiente positiva de 3 que pase por (0,0) y a la derecha una recta con pendiente negativa de 3 que pase por (0,-5). Elige la precisión en el eje X que desees.  "
   ]
  },
  {
   "cell_type": "markdown",
   "metadata": {},
   "source": [
    "7. Crea una lista de coordenadas X: 20, 22, 24, 26, 28\n",
    "Crea una lista de coordenadas Y: 5, 15, -5, 20, 5\n",
    "Usa un gráfico de barras colocadas en X con alturas Y"
   ]
  },
  {
   "cell_type": "markdown",
   "metadata": {},
   "source": [
    "8. Crea un gráfico de barras. Pintamos la altura de un grupo de amigos, cada barra representa a una persona. Ana mide 160 cm, Luis mide 180 cm, Pedro mide 175 cm, Sofía mide 190 cm, Carmen mide 170 cm. Las barras serán verdes.\n",
    "Consejo: si no vas a tener que manipular especialmente los ejes, es más sencillo dejarlos dentro de la figura."
   ]
  },
  {
   "cell_type": "markdown",
   "metadata": {},
   "source": [
    "9. Basándote en el gráfico anterior, escribe encima de cada barra la altura de cada amigo.\n",
    "Pista: usa un bucle que lea cada barra de barplot = plt.bar(x,y)\n",
    "bar tiene los métodos get_height(), get_x(), get_width()\n",
    "plt.text(x,y,valor, va='bottom')"
   ]
  },
  {
   "cell_type": "markdown",
   "metadata": {},
   "source": [
    "10. Cambia el tamaño de la figura a (3,5)"
   ]
  },
  {
   "cell_type": "markdown",
   "metadata": {},
   "source": [
    "11. Basándote en el gráfico anterior, borra la escala del eje Y (ya aparece en la altura)\n",
    "Pista: cuando plt.yticks() recibe una lista vacía no pinta el eje Y"
   ]
  },
  {
   "cell_type": "markdown",
   "metadata": {},
   "source": [
    "12. Prueba a hacer el gráfico con las barras en horizontal (no es necesario poner el texto al final de la barra)."
   ]
  },
  {
   "cell_type": "markdown",
   "metadata": {},
   "source": [
    "13. Prueba a invertir los ejes con ax.invert_axis()\n",
    "Necesitarás tener los ejes disponibles fuera de la figura"
   ]
  },
  {
   "cell_type": "markdown",
   "metadata": {},
   "source": [
    "14. En el último gráfico, cambia el estilo a 'dark_background'"
   ]
  },
  {
   "cell_type": "markdown",
   "metadata": {},
   "source": [
    "15. Vamos a introducir pandas. Crea un DataFrame con las columnas \"Year\" de valores 2015, 2016, 2017, 2018, 2019 y la columna \"Sold_items_A\" de valores 1000, 3500, 4000, 5500, 7000"
   ]
  },
  {
   "cell_type": "markdown",
   "metadata": {},
   "source": [
    "16. Ahora pintamos un gráfico de línea con las ventas respecto al año. Pon un título y etiquetas en los ejes.\n",
    "Cambia el estilo a 'seaborn-white'. La línea debe ser con rayas y verde."
   ]
  },
  {
   "cell_type": "markdown",
   "metadata": {},
   "source": [
    "17. Otro departamento B ha vendido en esos años 2000, 3100, 5000, 4000, 6000 unidades. Incluye esa columna en el DataFrame y pinta en la misma gráfica las dos líneas. B es una línea punteada y roja. Muestra una leyenda abajo a la derecha."
   ]
  },
  {
   "cell_type": "markdown",
   "metadata": {},
   "source": [
    "18. Haz un scatter del departamento A usando __solo el DataFrame__.\n",
    "Pista: el propio DataFrame tiene un método plot.\n",
    "df.plot('columna X', 'columna Y', 'kind' = 'scatter)"
   ]
  },
  {
   "cell_type": "markdown",
   "metadata": {},
   "source": [
    "19. Prueba a cambiar kind a 'pie'"
   ]
  },
  {
   "cell_type": "markdown",
   "metadata": {},
   "source": [
    "20. Prueba a quitar la leyenda incluyendo legend igual a False, añade labels y quita la etiqueta en Y"
   ]
  },
  {
   "cell_type": "markdown",
   "metadata": {},
   "source": [
    "21. Vamos a pintar un histograma"
   ]
  },
  {
   "cell_type": "markdown",
   "metadata": {},
   "source": [
    "Pista: https://pandas.pydata.org/pandas-docs/version/0.23.4/generated/pandas.DataFrame.plot.html"
   ]
  }
 ],
 "metadata": {
  "kernelspec": {
   "display_name": "Python 3.7.9 64-bit",
   "language": "python",
   "name": "python3"
  },
  "language_info": {
   "codemirror_mode": {
    "name": "ipython",
    "version": 3
   },
   "file_extension": ".py",
   "mimetype": "text/x-python",
   "name": "python",
   "nbconvert_exporter": "python",
   "pygments_lexer": "ipython3",
   "version": "3.7.9"
  },
  "vscode": {
   "interpreter": {
    "hash": "ec2a379ed5c25334a484232182c9d38ef8bd9861e2542d0c517568c4f99a9a7c"
   }
  }
 },
 "nbformat": 4,
 "nbformat_minor": 4
}
