{
 "cells": [
  {
   "cell_type": "markdown",
   "id": "b76d7833-5ba7-44ea-9bb0-12966c90e897",
   "metadata": {},
   "source": [
    "# Clase de utilidad 1 - Números romanos\n",
    "\n",
    "Crea una clase que se llame RomanNumerals, que tiene como objetivo crear un código que nos permita pasar numeros de formato decimal (normal) a formato de números romanos, y al revés. \n",
    "\n",
    "La clase se inicializa sin parametros, y no tendrá ningun atributo __requerido__. Dentro de la clase, puedes usar los atributos que creas necesarios. \n",
    "\n",
    "La clase tiene que tener dos funciones, una para pasar de romano a decimal, y otra de decimal a romano. \n",
    "\n",
    "## Ejemplo de funcionalidad esperada.\n",
    "\n",
    "```python\n",
    ">>> x = RomanNumerals()\n",
    ">>> n1 = x.decimal_to_roman(10)\n",
    ">>> print(n1)\n",
    "'X'\n",
    ">>> print(type(n1))\n",
    "str\n",
    ">>> n2 = x.roman_to_decimal('X')\n",
    ">>> print(n2)\n",
    "10\n",
    ">>> print(type(n2))\n",
    "int\n",
    "\n",
    "```\n",
    "\n",
    "## Pruebas para evaluar\n",
    "\n",
    "Se ejecutarán 10 pruebas para cada método:\n",
    "\n",
    "```python\n",
    ">>> x = RomanNumerals()\n",
    ">>> n1 = x.decimal_to_roman(10)\n",
    ">>> n2 = x.decimal_to_roman(25)\n",
    ">>> n3 = x.decimal_to_roman(36)\n",
    ">>> n4 = x.decimal_to_roman(150)\n",
    ">>> n5 = x.decimal_to_roman(1389)\n",
    ">>> ...\n",
    ">>> ...\n",
    ">>> ...\n",
    ">>> ...\n",
    ">>> ...\n",
    ">>> n11 = x.roman_to_decimal('XXV')\n",
    ">>> n12 = x.roman_to_decimal('IV')\n",
    ">>> n13 = x.roman_to_decimal('DCLXXIV')\n",
    ">>> n14 = x.roman_to_decimal('DCCCXLV')\n",
    ">>> n15 = x.roman_to_decimal('MCXXXIX')\n",
    ">>> ...\n",
    ">>> ...\n",
    ">>> ...\n",
    ">>> ...\n",
    ">>> ...\n",
    "```\n",
    "\n",
    "## Recursos\n",
    "\n",
    "1. Los apuntes de clase para Ifs, For, Funciones, y Clases\n",
    "2. Si no os acordais de como se hacían los numeros romanos: https://www.matesfacil.com/ESO/sistemas-numeracion/sistema-romano/sistema-numeracion-romano-alfabeto-teoria-ejemplos-ejercicios-resueltos-numeros-cambio.html"
   ]
  },
  {
   "cell_type": "markdown",
   "id": "60fa9a7e-8a0b-45af-8095-5031156ad18e",
   "metadata": {},
   "source": [
    "# Tu código"
   ]
  },
  {
   "cell_type": "code",
   "execution_count": null,
   "id": "4fb1b69d-ea4e-4489-964b-0fdb670e6853",
   "metadata": {},
   "outputs": [],
   "source": []
  }
 ],
 "metadata": {
  "kernelspec": {
   "display_name": "Python 3 (ipykernel)",
   "language": "python",
   "name": "python3"
  },
  "language_info": {
   "codemirror_mode": {
    "name": "ipython",
    "version": 3
   },
   "file_extension": ".py",
   "mimetype": "text/x-python",
   "name": "python",
   "nbconvert_exporter": "python",
   "pygments_lexer": "ipython3",
   "version": "3.10.6"
  }
 },
 "nbformat": 4,
 "nbformat_minor": 5
}
