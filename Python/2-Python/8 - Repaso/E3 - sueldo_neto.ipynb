{
 "cells": [
  {
   "cell_type": "markdown",
   "metadata": {},
   "source": [
    "# Calculadora sueldo neto\n",
    "\n",
    "En este ejercicio hay que diseñar una función llamada `sueldo_neto_mensual()` que recibe como parametro el sueldo bruto anual de un empleado, y devuelve el sueldo neto mensual.\n",
    "\n",
    "Como se calcula el sueldo neto?\n",
    "\n",
    "En todas las nóminas se pagan una serie de cosas al estado, como son:\n",
    "- IRPF: Depende del sueldo bruto total.\n",
    "- Desempleo: 1,55% del sueldo bruto total.\n",
    "- Contigencias Comunes: 4,7% del sueldo bruto total\n",
    "- Formación profesional: 0,1% del sueldo bruto total. \n",
    "\n",
    "Todos esos elementos se __RESTAN__ del total, y así obtienes el sueldo neto.\n",
    "\n",
    "En la siguiente sección verás un ejemplo de como calcular la cantidad exacta de IRPF que hay que pagar. "
   ]
  },
  {
   "cell_type": "markdown",
   "metadata": {},
   "source": [
    "## Cálculo del IRPF \n",
    "\n",
    "El cálculo del IRPF en la Hacienda española se define como progresivo. Hacienda divide los ingresos (tu renta) en tramos y asigna un porcentaje a pagar en cada uno de ellos. Estos tramos son los siguientes:\n",
    "\n",
    "| Tramos IRPF 2021       | Tipos a aplicar |\n",
    "|:-----------------------|:---------------:|\n",
    "| Desde 0 hasta 12.450€  | 19%             |\n",
    "| De 12.450€ a 20.200€   | 24%             |\n",
    "| De 20.200€ a 35.200€   | 30%             |\n",
    "| De 35.200€ en adelante | 37%             |\n",
    "\n",
    "Por ejemplo, para una persona con una renta de 65.000€, el cálculo del impuesto se haría así:\n",
    "\n",
    "\n",
    "- Primer tramo IRPF: se paga el 19% de 12.450 euros, es decir, 2.365,5 euros\n",
    "- Segundo tramo IRPF: se paga el 24% de 7.750 euros (la diferencia entre el primer y segundo tramo), es decir, 1.860 euros.\n",
    "- Tercer tramo IRPF: se paga el 30% de 15.000 euros (la diferencia entre el segundo y tercer tramo), es decir, 4.500 euros.\n",
    "- Cuarto tramo IRPF: se paga el 37% de 29.800 euros (la diferencia entre su renta y el límite del tercer tramo), es decir, 11.026 euros.\n",
    "\n",
    "La suma de las anteriores cantidades es el total a pagar: 19.751,5 euros.\n"
   ]
  },
  {
   "cell_type": "markdown",
   "metadata": {},
   "source": [
    "# Tu código\n",
    "\n",
    "Consejo: Para el calculo del IRPF, te recomiendo separarlo en otra función. \n",
    "\n",
    "Consejo: Haz primero el cálculo a papel.\n"
   ]
  },
  {
   "cell_type": "code",
   "execution_count": null,
   "metadata": {},
   "outputs": [],
   "source": [
    "def sueldo_neto_mensual(sueldo_bruto_anual):\n",
    "    ...\n",
    "    ...\n",
    "    ...\n",
    "    ...\n",
    "    return sueldo_neto"
   ]
  }
 ],
 "metadata": {
  "kernelspec": {
   "display_name": "Python 3 (ipykernel)",
   "language": "python",
   "name": "python3"
  },
  "language_info": {
   "codemirror_mode": {
    "name": "ipython",
    "version": 3
   },
   "file_extension": ".py",
   "mimetype": "text/x-python",
   "name": "python",
   "nbconvert_exporter": "python",
   "pygments_lexer": "ipython3",
   "version": "3.8.10"
  },
  "vscode": {
   "interpreter": {
    "hash": "31f2aee4e71d21fbe5cf8b01ff0e069b9275f58929596ceb00d14d90e3e16cd6"
   }
  }
 },
 "nbformat": 4,
 "nbformat_minor": 2
}
