{
 "cells": [
  {
   "cell_type": "markdown",
   "id": "23c2e010-fe8a-4b42-8576-9173f078ead1",
   "metadata": {},
   "source": [
    "# Clase de Utilidad - ListUtils\n",
    "\n",
    "El objetivo de este ejercicio es tener una clase de utilidad de Lista, que se llama ListUtils y tiene algunas funciones de utilidad dentro. \n",
    "\n",
    "La clase tiene un parametro, que se llama \"data\" que contendrá una lista a la que queremos hacer modificaciones. \n",
    "\n",
    "La clase tendrá una funcion: \n",
    "1. `calculate_subsets()` que devuelve una lista con listas, que contienen TODAS las combinaciones que existen entre los elementos que contienen a los elementos de data. \n",
    "\n",
    "## Ejemplo de funcionalidad esperada\n",
    "\n",
    "```python\n",
    ">>> list_utils = ListUtils([1,2,3])\n",
    ">>> x = list_utils.calculate_subsets()\n",
    ">>> print(x)\n",
    "[[1],[2],[3],[1,2],[1,3],[2,3],[1,2,3]]\n",
    "```\n",
    "\n",
    "## Pruebas a evaluar\n",
    "Se harán algunas pruebas con algunas listas. \n",
    "__OJO__: La lista inicial puede tener más de una dimensión.  \n",
    "\n",
    "## Recursos\n",
    "1. Apuntes en clase"
   ]
  }
 ],
 "metadata": {
  "kernelspec": {
   "display_name": "Python 3 (ipykernel)",
   "language": "python",
   "name": "python3"
  },
  "language_info": {
   "codemirror_mode": {
    "name": "ipython",
    "version": 3
   },
   "file_extension": ".py",
   "mimetype": "text/x-python",
   "name": "python",
   "nbconvert_exporter": "python",
   "pygments_lexer": "ipython3",
   "version": "3.10.6"
  }
 },
 "nbformat": 4,
 "nbformat_minor": 5
}
