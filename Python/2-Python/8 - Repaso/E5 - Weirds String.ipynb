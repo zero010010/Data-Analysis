{
 "cells": [
  {
   "cell_type": "markdown",
   "metadata": {},
   "source": [
    "# Clase de Utilidad - Weirds Strings\n",
    "\n",
    "El objetivo de este ejercicio es tener una clase de utilidad de Strings, que se llama WeirdsString y tiene algunas funciones de utilidad dentro. \n",
    "\n",
    "La clase tiene un parametro, que se llama \"texto\" que contendrá el texto al que queremos hacer modificaciones. \n",
    "\n",
    "La clase tendrá dos funciones: \n",
    "1. `reverse_string()` que devuelve el string con el que se inicializó la clase, pero al revés. \n",
    "2. `reverse_string_word_by_word()` que devuelve el string con el que se inicializó la clase, pero al revés por palabra. \n",
    "\n",
    "## Ejemplo de funcionalidad esperada\n",
    "\n",
    "```python\n",
    ">>> x = WeirdsString('Hola buenas tardes')\n",
    ">>> s1 = x.reverse_string()\n",
    ">>> print(s1)\n",
    "sedrat saneub aloH\n",
    ">>> s2 = x.reverse_string_word_by_word()\n",
    ">>> print(s2)\n",
    "tardes buenas Hola\n",
    "```\n",
    "\n",
    "## Pruebas a evaluar\n",
    "Se harán algunas pruebas con algunos strings, algunos muy largos. \n",
    "\n",
    "## Recursos\n",
    "1. Apuntes en clase"
   ]
  },
  {
   "cell_type": "markdown",
   "metadata": {},
   "source": []
  }
 ],
 "metadata": {
  "kernelspec": {
   "display_name": "Python 3.8.10 64-bit",
   "language": "python",
   "name": "python3"
  },
  "language_info": {
   "codemirror_mode": {
    "name": "ipython",
    "version": 3
   },
   "file_extension": ".py",
   "mimetype": "text/x-python",
   "name": "python",
   "nbconvert_exporter": "python",
   "pygments_lexer": "ipython3",
   "version": "3.8.10"
  },
  "orig_nbformat": 4,
  "vscode": {
   "interpreter": {
    "hash": "31f2aee4e71d21fbe5cf8b01ff0e069b9275f58929596ceb00d14d90e3e16cd6"
   }
  }
 },
 "nbformat": 4,
 "nbformat_minor": 2
}
