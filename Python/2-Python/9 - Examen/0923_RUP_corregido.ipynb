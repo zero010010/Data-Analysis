{
 "cells": [
  {
   "cell_type": "markdown",
   "metadata": {},
   "source": [
    "# Test Ramp Up Data Science Part Time Sevilla 09 2022"
   ]
  },
  {
   "cell_type": "code",
   "execution_count": 3,
   "metadata": {},
   "outputs": [],
   "source": [
    "# Escribe tu nombre y apellidos (apellido si solo tienes uno) en las variables:\n",
    "nombre = \"Fer\"\n",
    "apellidos = \"Carrasco\""
   ]
  },
  {
   "cell_type": "code",
   "execution_count": 4,
   "metadata": {},
   "outputs": [
    {
     "name": "stdout",
     "output_type": "stream",
     "text": [
      "Bienvenido Fer Carrasco. Mucha suerte!\n"
     ]
    }
   ],
   "source": [
    "# Solo ejecutar\n",
    "nombre_apellidos = nombre + ' ' + apellidos\n",
    "print(\"Bienvenido\", nombre_apellidos + '. Mucha suerte!')"
   ]
  },
  {
   "cell_type": "code",
   "execution_count": 5,
   "metadata": {},
   "outputs": [
    {
     "name": "stdout",
     "output_type": "stream",
     "text": [
      "Antes de comenzar, cambia el nombre de este archivo notebook a Fer_Carrasco.ipynb\n"
     ]
    }
   ],
   "source": [
    "# Solo ejecutar\n",
    "print('Antes de comenzar, cambia el nombre de este archivo notebook a', nombre_apellidos.replace(' ','_') + '.ipynb')"
   ]
  },
  {
   "cell_type": "code",
   "execution_count": 6,
   "metadata": {},
   "outputs": [],
   "source": [
    "# Correo electrónico\n",
    "correo_electronico = \"\""
   ]
  },
  {
   "cell_type": "markdown",
   "metadata": {},
   "source": [
    "## Primera parte tipo test (3 puntos):\n",
    "\n"
   ]
  },
  {
   "cell_type": "markdown",
   "metadata": {},
   "source": [
    "#### Notas y pruebas de apoyo para contestar las preguntas tipo test\n",
    "Esto no es necesario usarlo aunque verlo aquí te puede dar la respuesta a alguna de las preguntas tipo test.\n",
    "\n",
    "Cualquier código aunque no esté correcto nos dirá más de ti que no escribir nada. "
   ]
  },
  {
   "cell_type": "code",
   "execution_count": null,
   "metadata": {},
   "outputs": [],
   "source": [
    "# crea todas las celdas que necesites"
   ]
  },
  {
   "cell_type": "code",
   "execution_count": null,
   "metadata": {},
   "outputs": [],
   "source": [
    "# crea todas las celdas que necesites"
   ]
  },
  {
   "cell_type": "markdown",
   "metadata": {},
   "source": [
    "-----------------"
   ]
  },
  {
   "cell_type": "markdown",
   "metadata": {},
   "source": [
    "## Segunda parte ejercicios prácticos (7 puntos):\n"
   ]
  },
  {
   "cell_type": "code",
   "execution_count": null,
   "metadata": {},
   "outputs": [],
   "source": [
    "# No te olvides de documentar el código para dejar clara la lógica, sobre todo cuando no sale el resultado"
   ]
  },
  {
   "cell_type": "markdown",
   "metadata": {},
   "source": [
    "### Ejercicio 1 (1 punto)\n",
    "En este ejercicio se va a crear una lista con los siguientes elementos. Primero, crearemos las variables que luego añadiremos a la lista. Las variables son las siguientes:\n",
    "\n",
    "1. Crea una variable llamada `edad` de tipo Integer que represente tu edad en años. \n",
    "2. Crea una variable llamada `nombre` de tipo String , que tenga el mismo valor de `nombre_y_apellidos`.\n",
    "3. Crea una variable llamada `altura` con el valor de tu altura en metros de tipo float.\n",
    "4. Crea una variable llamada `s_operativo` de tipo Boolean True si usas Windows y False si usas otro.\n",
    "5. Crea una variable llamada `nada` de tipo None cuyo valor sea None.\n",
    "6. Crea una variable llamada `lista_peliculas` de tipo List que contenga las 5 películas que más te gusten. Cada elemento ha de ser de tipo String.\n",
    "7. Crea una variable llamada `tupla_isla` de tipo Tuple con mínimo tres objetos que te llevarías a una isla desierta.\n",
    "8. Crea una variable llamada `dict_movil` con dos keys y dos values. Una key es `marca`, teniendo como value la marca de tu móvil de tipo String. Otra key es `anio`, teniendo como value el número del año de compra de tipo entero.\n",
    "9. Añade todos estos elementos en una lista llamada `lista_examen` en el orden de aparición.\n",
    "10. Guarda en la variable `lon_lista_examen` la longitud de `lista_examen`."
   ]
  },
  {
   "cell_type": "code",
   "execution_count": 7,
   "metadata": {},
   "outputs": [
    {
     "name": "stdout",
     "output_type": "stream",
     "text": [
      "[29, 'Fer Carrasco', 1.74, True, None, ['Origen', 'Caballero Oscuro', 'Matrix', 'Retorno del rey', 'Django'], ('Cantimpliora', 'Navaja', 'Manta'), {'marca': 'Google Pixel', 'anio': 2023}]\n",
      "8\n"
     ]
    }
   ],
   "source": [
    "edad = 29\n",
    "nombre = nombre_apellidos\n",
    "altura = 1.74\n",
    "s_operativo = True\n",
    "nada = None\n",
    "lista_peliculas = ['Origen','Caballero Oscuro', 'Matrix', 'Retorno del rey', \"Django\"]\n",
    "tupla_isla = ('Cantimpliora','Navaja', \"Manta\")\n",
    "dict_movil = {\"marca\":\"Google Pixel\", \"anio\": 2023}\n",
    "\n",
    "lista_examen = [edad, nombre, altura, s_operativo, nada, lista_peliculas, tupla_isla, dict_movil]\n",
    "print(lista_examen)\n",
    "lon_lista_examen = len(lista_examen)\n",
    "print(lon_lista_examen)"
   ]
  },
  {
   "cell_type": "markdown",
   "id": "ff4becae-86c4-46ab-9e09-3aeec5296700",
   "metadata": {},
   "source": [
    "### Ejercicio 2 (2 puntos)\n",
    "\n",
    "Para resolver este ejercicio necesitarás la lista del ejercicio anterior (`lista_examen`). Se recomienda leer cada punto hasta el final antes de resolver el ejercicio.\n",
    "\n",
    "Se repite para que quede aún más claro: **SOLO USAR LA VARIABLE** `lista_examen`. Usar otra variable se calificará como error.  \n",
    "\n",
    "1. Guardar en las variables, sin uso de funciones (puedes usar print) ni bucles: \n",
    "    - `res21` La primera película favorita\n",
    "    - `res22` El último objeto que te llevarías a una isla.\n",
    "    - `res23` Los 3 primeros caracteres de la marca de tu móvil.\n",
    "    \n",
    "    \n",
    "2. Mostrar por pantalla, con uso de un bucle `for`:\n",
    "    - Las posiciones y elementos de `lista_examen` de las posiciones impares.\n",
    "    - Todos los elementos de `lista_examen` al revés.\n",
    "    - Todos aquellos elementos de las colecciones ordenadas de `lista_examen`.\n",
    "\n",
    "3. Con uso del bucle while, borra las películas por la cola hasta que tengas 2 películas y guarda esas películas borradas en una nueva lista `pelis_borradas`.\n",
    "\n",
    "\n",
    "    \n",
    "\n",
    "    "
   ]
  },
  {
   "cell_type": "code",
   "execution_count": 8,
   "metadata": {},
   "outputs": [
    {
     "name": "stdout",
     "output_type": "stream",
     "text": [
      "Origen\n",
      "Manta\n",
      "Goo\n"
     ]
    }
   ],
   "source": [
    "res21 = lista_examen[5][0]\n",
    "print(res21)\n",
    "\n",
    "res22 = lista_examen[6][-1]\n",
    "print(res22)\n",
    "\n",
    "res23 = lista_examen[7]['marca'][:3]\n",
    "print(res23)"
   ]
  },
  {
   "cell_type": "code",
   "execution_count": 9,
   "metadata": {},
   "outputs": [
    {
     "name": "stdout",
     "output_type": "stream",
     "text": [
      "1 Fer Carrasco\n",
      "3 True\n",
      "5 ['Origen', 'Caballero Oscuro', 'Matrix', 'Retorno del rey', 'Django']\n",
      "7 {'marca': 'Google Pixel', 'anio': 2023}\n"
     ]
    }
   ],
   "source": [
    "for i, elem in enumerate(lista_examen):\n",
    "    if i % 2 != 0:\n",
    "        print(i, elem)"
   ]
  },
  {
   "cell_type": "code",
   "execution_count": 14,
   "metadata": {},
   "outputs": [
    {
     "data": {
      "text/plain": [
       "[8, 6, 4, 2, 0]"
      ]
     },
     "execution_count": 14,
     "metadata": {},
     "output_type": "execute_result"
    }
   ],
   "source": [
    "list(range(len(lista_examen), -1, -2))"
   ]
  },
  {
   "cell_type": "code",
   "execution_count": 20,
   "metadata": {},
   "outputs": [
    {
     "name": "stdout",
     "output_type": "stream",
     "text": [
      "7 {'marca': 'Google Pixel', 'anio': 2023}\n",
      "5 ['Origen', 'Caballero Oscuro', 'Matrix', 'Retorno del rey', 'Django']\n",
      "3 True\n",
      "1 Fer Carrasco\n"
     ]
    }
   ],
   "source": [
    "for i in range(len(lista_examen)-1, -1, -2):\n",
    "    print(i, lista_examen[i])"
   ]
  },
  {
   "cell_type": "code",
   "execution_count": 19,
   "metadata": {},
   "outputs": [
    {
     "name": "stdout",
     "output_type": "stream",
     "text": [
      "7 ('Cantimpliora', 'Navaja', 'Manta')\n",
      "5 None\n",
      "3 1.74\n",
      "1 29\n"
     ]
    }
   ],
   "source": [
    "for i in range(len(lista_examen)-2, -1, -2):\n",
    "    print(i+1, lista_examen[i])"
   ]
  },
  {
   "cell_type": "code",
   "execution_count": 22,
   "metadata": {},
   "outputs": [
    {
     "name": "stdout",
     "output_type": "stream",
     "text": [
      "7 {'marca': 'Google Pixel', 'anio': 2023}\n",
      "6 ('Cantimpliora', 'Navaja', 'Manta')\n",
      "5 ['Origen', 'Caballero Oscuro', 'Matrix', 'Retorno del rey', 'Django']\n",
      "4 None\n",
      "3 True\n",
      "2 1.74\n",
      "1 Fer Carrasco\n",
      "0 29\n"
     ]
    }
   ],
   "source": [
    "for i in range(len(lista_examen)-1, -1, -1):\n",
    "    print(i, lista_examen[i])"
   ]
  },
  {
   "cell_type": "code",
   "execution_count": 21,
   "metadata": {},
   "outputs": [
    {
     "name": "stdout",
     "output_type": "stream",
     "text": [
      "{'marca': 'Google Pixel', 'anio': 2023}\n",
      "('Cantimpliora', 'Navaja', 'Manta')\n",
      "['Origen', 'Caballero Oscuro', 'Matrix', 'Retorno del rey', 'Django']\n",
      "None\n",
      "True\n",
      "1.74\n",
      "Fer Carrasco\n",
      "29\n"
     ]
    }
   ],
   "source": [
    "for i in reversed(lista_examen):\n",
    "    print(i)"
   ]
  },
  {
   "cell_type": "code",
   "execution_count": null,
   "metadata": {},
   "outputs": [],
   "source": [
    "for elem in lista_examen:\n",
    "    if type(elem) in [type(list()),type(tuple())]:\n",
    "        for j in elem:\n",
    "            print(j)"
   ]
  },
  {
   "cell_type": "code",
   "execution_count": 24,
   "metadata": {},
   "outputs": [
    {
     "name": "stdout",
     "output_type": "stream",
     "text": [
      "Origen\n",
      "Caballero Oscuro\n",
      "Matrix\n",
      "Retorno del rey\n",
      "Django\n",
      "Cantimpliora\n",
      "Navaja\n",
      "Manta\n",
      "marca\n",
      "anio\n"
     ]
    }
   ],
   "source": [
    "for elem in lista_examen:\n",
    "    try:\n",
    "        if type(elem) is not str:\n",
    "            for j in elem:\n",
    "                print(j)\n",
    "    except:\n",
    "        pass"
   ]
  },
  {
   "cell_type": "code",
   "execution_count": null,
   "metadata": {},
   "outputs": [],
   "source": [
    "for x in lista_examen:\n",
    "    if isinstance(x, list) or isinstance(x, tuple):\n",
    "        for y in sorted(x):\n",
    "            print(y)"
   ]
  },
  {
   "cell_type": "code",
   "execution_count": 25,
   "metadata": {},
   "outputs": [
    {
     "name": "stdout",
     "output_type": "stream",
     "text": [
      "Elementos en posiciones impares: Fer Carrasco, True, ['Origen', 'Caballero Oscuro', 'Matrix', 'Retorno del rey', 'Django'], {'marca': 'Google Pixel', 'anio': 2023}\n"
     ]
    }
   ],
   "source": [
    "position_elementos = [lista_examen[i] for i in range(len(lista_examen)) if i % 2 != 0]\n",
    "print(\"Elementos en posiciones impares:\", \", \".join(map(str, position_elementos)))"
   ]
  },
  {
   "cell_type": "code",
   "execution_count": 26,
   "metadata": {},
   "outputs": [
    {
     "name": "stdout",
     "output_type": "stream",
     "text": [
      "['Django', 'Retorno del rey', 'Matrix']\n",
      "['Origen', 'Caballero Oscuro']\n"
     ]
    }
   ],
   "source": [
    "pelis_borradas = []\n",
    "\n",
    "while len(lista_examen[5]) > 2:\n",
    "    pelis_borradas.append(lista_examen[5].pop(-1))\n",
    "\n",
    "print(pelis_borradas)\n",
    "print(lista_examen[5])"
   ]
  },
  {
   "cell_type": "markdown",
   "metadata": {},
   "source": [
    "### Ejercicio 3 (2 puntos)\n",
    "\n",
    "#### Crear un programa que calcule la cuota de una hipoteca\n",
    "\n",
    "Las cuotas hipotecarias se calculan utilizando la fórmula del interés frances. \n",
    "\n",
    "La formula del interés frances es la siguiente:\n",
    "\\begin{align*}\n",
    "C=V \\frac{(1+i)^n i}{(1+i)^n -1}\n",
    "\\end{align*}\n",
    "\n",
    "\n",
    "    C = cuota a pagar (mensual)\n",
    "    V = volumen del préstamo hipotecario\n",
    "    i = tipo de interés del período (mensual)\n",
    "    n = número de cuotas (mensuales)\n",
    "\n",
    "1. Crea un programa que solicite al usuario los datos de su hipoteca mediante input() los datos (volumen, interés **anual**, y plazo en **años**) y le devuelva la cuota **mensual** a pagar. No es necesario encapsularlo en funciones.\n",
    "\n",
    "2. Crea una función `calculadora_hip` que realiza el cálculo y cuyos argumentos de entrada sean `volumen`, `interes_anual` y `anios`, devolviendo la couta mensual.\n",
    "3. Calcula la cuota y guárdala en la variable `res_cuota` si la cantidad de la hipoteca son 300000 euros, el interés anual es del 4% y la quiere pagar en 25 años a partir de la función `calculadora_hip`.\n",
    "4. Crea una función `gasto_vivienda` que utilice la función `calculadora_hip` y que tenga dos argumentos de entrada `ingreso` y `lista_hip`. Esta lista tendrá los valores de los argumentos de entrada de `calculadora_hip`. Tiene que devolver el valor del porcentaje de gasto en la hipoteca respecto a los ingresos. (Entre 0 y 1, es decir 0.5 si es del 50%)\n",
    "5. Calcula el porcentaje de gasto en la hipoteca si el ingreso es de 1800 euros y guárdalo en la variable `res_porcentaje`.\n",
    "6. Documenta ambas funciones con el estilo de Google.\n"
   ]
  },
  {
   "cell_type": "code",
   "execution_count": 2,
   "metadata": {},
   "outputs": [
    {
     "name": "stdout",
     "output_type": "stream",
     "text": [
      "1583.5105208933105\n"
     ]
    }
   ],
   "source": [
    "volumen = float(input(\"Introduce el volumen de la hipoteca\"))\n",
    "\n",
    "n_meses = int(input(\"A cuántos años?\")) * 12\n",
    "\n",
    "interes = float(input(\"Tipo interés anual\"))/100/12\n",
    "\n",
    "cuota = volumen * ((1 + interes) ** n_meses) * interes / (((1 + interes) ** n_meses) - 1)\n",
    "print(cuota)"
   ]
  },
  {
   "cell_type": "code",
   "execution_count": 3,
   "metadata": {},
   "outputs": [],
   "source": [
    "def calculadora_hip(volumen, interes_anual, anios):\n",
    "    '''\n",
    "    Función que calcula la cuota mensual de una hipoteca\n",
    "    \n",
    "    Args:\n",
    "        volumen (float): El volumen total de la hipoteca en euros\n",
    "        interes_anual (float): Tasa de interés anual\n",
    "        anios (int): Número de años para liquidar la hipoteca\n",
    "    Return:\n",
    "        cuota (float): Cuota mensual para la hipoteca\n",
    "    '''\n",
    "    n_meses = anios * 12\n",
    "    interes = interes_anual / 100 / 12\n",
    "    cuota = volumen * ((1 + interes) ** n_meses) * interes / (((1 + interes) ** n_meses) - 1)\n",
    "    return cuota"
   ]
  },
  {
   "cell_type": "code",
   "execution_count": 4,
   "metadata": {},
   "outputs": [
    {
     "name": "stdout",
     "output_type": "stream",
     "text": [
      "1583.5105208933105\n"
     ]
    }
   ],
   "source": [
    "res_cuota = calculadora_hip(300000,4,25)\n",
    "print(res_cuota)"
   ]
  },
  {
   "cell_type": "code",
   "execution_count": 5,
   "metadata": {},
   "outputs": [],
   "source": [
    "def gasto_vivienda(ingreso:float, lista_hip:list):\n",
    "    '''\n",
    "    Función que calcula el porcentaje de gasto de los ingresos en la hipoteca\n",
    "\n",
    "    Args:\n",
    "        ingreso (float): El ingreso mensual\n",
    "        lista_hip (list): Lista con los argumentos de volumen, interés anual y años\n",
    "\n",
    "    Return:\n",
    "        Porcentaje de la cuota mensaul respecto al ingreso\n",
    "    '''\n",
    "    cuota = calculadora_hip(lista_hip[0],lista_hip[1],lista_hip[2])\n",
    "    return float(cuota / ingreso)"
   ]
  },
  {
   "cell_type": "code",
   "execution_count": 6,
   "metadata": {},
   "outputs": [
    {
     "name": "stdout",
     "output_type": "stream",
     "text": [
      "0.8797280671629503\n"
     ]
    }
   ],
   "source": [
    "res_porcentaje = gasto_vivienda(1800, [300000, 4, 25])\n",
    "print(res_porcentaje)"
   ]
  },
  {
   "cell_type": "markdown",
   "metadata": {},
   "source": [
    "### Ejercicio 4 (2 puntos)\n",
    "\n",
    "1. Crea una clase `Humano` que tenga 1 atributo general `mamifero`(bool) y 4 atributos en el constructor: `ojos`(int default 2), `edad`(int), `altura`(float) y `nombre`(str). Además, debe contar con dos métodos: \n",
    "\n",
    "- `cumplir_edad`: al llamar a este método se debe sumar 1 al atributo edad del humano y que retorne \"Felices x años!\" con la edad actualizada. Si cumple 80, su altura pasará a ser el 90% de su altura original.\n",
    "- `registro_nombre` que recibe parametro `nuevo_nombre`: al llamar a esta función con un parámetro de entrada, este método debe cambiar el nombre del humano por el `nuevo_nombre` y sin retornar nada\n",
    "\n",
    "2. (a partir de la variable **`lista_examen`**) Crea un humano instanciandolo en el objeto `humano_1` llamado \"Manuel\" que tiene el doble de tu de edad y mide 10 centímetros menos que tu altura.\n",
    "\n",
    "3. Crea un humano instanciandolo en el objeto `humano_2` llamado \"Cojoncio\" con la misma edad y altura de Manuel. A \"Cojoncio\" nunca le gustó su nombre. Por eso, usa el método correspondiente para cambiarse su nombre por \"Goku\". Haz que cumpla hasta los 80 si no los tiene ya. Comprueba que se han actualizado sus atributos de `edad` y `altura`. \n",
    "\n",
    "4. Documenta la clase con el estilo de Google\n"
   ]
  },
  {
   "cell_type": "code",
   "execution_count": 27,
   "metadata": {},
   "outputs": [],
   "source": [
    "class Humano():\n",
    "    '''\n",
    "    Clase humano como ejemplo de ejercicio de examen\n",
    "    '''\n",
    "\n",
    "    mamifero = True\n",
    "\n",
    "    def __init__(self, edad, altura, nombre, ojos = 2):\n",
    "        '''\n",
    "        Atributos particulares de un humano\n",
    "        Args:\n",
    "            edad(int) : edad en años\n",
    "            altura(float): altura en metros\n",
    "            nombre(string): el nombre\n",
    "            ojos(int): número de ojos\n",
    "        '''\n",
    "        self.edad = edad\n",
    "        self.altura = altura\n",
    "        self.nombre = nombre\n",
    "        self.ojos = ojos\n",
    "    \n",
    "    def registro_nombre(self, nuevo_nombre):\n",
    "        '''\n",
    "        Método que renombra con un nuevo nombre\n",
    "        Args:\n",
    "            nuevo_nombre(string): nombre nuevo por el que cambiar\n",
    "        '''\n",
    "\n",
    "        self.nombre = nuevo_nombre\n",
    "\n",
    "    def cumplir_edad(self):\n",
    "        '''\n",
    "        Método que hace cumplir años y que actualiza la altura en caso de llegar a los 80\n",
    "        Return:\n",
    "            Mensaje con una felicitación\n",
    "        '''\n",
    "        self.edad = self.edad + 1\n",
    "        if self.edad == 80:\n",
    "            self.altura = self.altura * 0.9\n",
    "        \n",
    "        return \"Felices \" + str(self.edad) + \" años.\""
   ]
  },
  {
   "cell_type": "code",
   "execution_count": null,
   "metadata": {},
   "outputs": [],
   "source": [
    "humano_1 = Humano(lista_examen[0] * 2, lista_examen[2] - 0.1, \"Manuel\")"
   ]
  },
  {
   "cell_type": "code",
   "execution_count": null,
   "metadata": {},
   "outputs": [],
   "source": [
    "print(humano_1.edad)\n",
    "print(humano_1.altura)\n",
    "print(humano_1.nombre)"
   ]
  },
  {
   "cell_type": "code",
   "execution_count": 28,
   "metadata": {},
   "outputs": [],
   "source": [
    "humano_2 = Humano(lista_examen[0] * 2, lista_examen[2] - 0.1, \"Cojoncio\")"
   ]
  },
  {
   "cell_type": "code",
   "execution_count": null,
   "metadata": {},
   "outputs": [],
   "source": [
    "print(humano_2.edad)\n",
    "print(humano_2.altura)\n",
    "print(humano_2.nombre)"
   ]
  },
  {
   "cell_type": "code",
   "execution_count": null,
   "metadata": {},
   "outputs": [],
   "source": [
    "humano_2.registro_nombre(\"Goku\")\n",
    "print(humano_2.nombre)"
   ]
  },
  {
   "cell_type": "code",
   "execution_count": null,
   "metadata": {},
   "outputs": [],
   "source": [
    "print(humano_2.cumplir_edad())\n",
    "print(humano_2.edad)\n",
    "print(humano_2.altura)"
   ]
  },
  {
   "cell_type": "code",
   "execution_count": 29,
   "metadata": {},
   "outputs": [
    {
     "name": "stdout",
     "output_type": "stream",
     "text": [
      "Felices 59 años. 1.64\n",
      "Felices 60 años. 1.64\n",
      "Felices 61 años. 1.64\n",
      "Felices 62 años. 1.64\n",
      "Felices 63 años. 1.64\n",
      "Felices 64 años. 1.64\n",
      "Felices 65 años. 1.64\n",
      "Felices 66 años. 1.64\n",
      "Felices 67 años. 1.64\n",
      "Felices 68 años. 1.64\n",
      "Felices 69 años. 1.64\n",
      "Felices 70 años. 1.64\n",
      "Felices 71 años. 1.64\n",
      "Felices 72 años. 1.64\n",
      "Felices 73 años. 1.64\n",
      "Felices 74 años. 1.64\n",
      "Felices 75 años. 1.64\n",
      "Felices 76 años. 1.64\n",
      "Felices 77 años. 1.64\n",
      "Felices 78 años. 1.64\n",
      "Felices 79 años. 1.64\n",
      "Felices 80 años. 1.476\n"
     ]
    }
   ],
   "source": [
    "while humano_2.edad < 80:\n",
    "    print(humano_2.cumplir_edad(),humano_2.altura)"
   ]
  },
  {
   "cell_type": "markdown",
   "metadata": {},
   "source": [
    "¡Has terminado!"
   ]
  }
 ],
 "metadata": {
  "kernelspec": {
   "display_name": "Python 3.7.9 64-bit",
   "language": "python",
   "name": "python3"
  },
  "language_info": {
   "codemirror_mode": {
    "name": "ipython",
    "version": 3
   },
   "file_extension": ".py",
   "mimetype": "text/x-python",
   "name": "python",
   "nbconvert_exporter": "python",
   "pygments_lexer": "ipython3",
   "version": "3.7.9"
  },
  "orig_nbformat": 4,
  "vscode": {
   "interpreter": {
    "hash": "ec2a379ed5c25334a484232182c9d38ef8bd9861e2542d0c517568c4f99a9a7c"
   }
  }
 },
 "nbformat": 4,
 "nbformat_minor": 2
}
