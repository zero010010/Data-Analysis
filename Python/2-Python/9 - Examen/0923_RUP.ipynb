{
 "cells": [
  {
   "cell_type": "markdown",
   "metadata": {},
   "source": [
    "# Test Ramp Up Data Science Part Time Sevilla 09 2023"
   ]
  },
  {
   "cell_type": "code",
   "execution_count": null,
   "metadata": {},
   "outputs": [],
   "source": [
    "# Escribe tu nombre y apellidos (apellido si solo tienes uno) en las variables:\n",
    "nombre = \"\"\n",
    "apellidos = \"\""
   ]
  },
  {
   "cell_type": "code",
   "execution_count": null,
   "metadata": {},
   "outputs": [],
   "source": [
    "# Solo ejecutar\n",
    "nombre_apellidos = nombre + ' ' + apellidos\n",
    "print(\"Bienvenido\", nombre_apellidos + '. Mucha suerte!')"
   ]
  },
  {
   "cell_type": "code",
   "execution_count": null,
   "metadata": {},
   "outputs": [],
   "source": [
    "# Solo ejecutar\n",
    "print('Antes de comenzar, cambia el nombre de este archivo notebook a', nombre_apellidos.replace(' ','_') + '.ipynb')"
   ]
  },
  {
   "cell_type": "code",
   "execution_count": null,
   "metadata": {},
   "outputs": [],
   "source": [
    "# Correo electrónico\n",
    "correo_electronico = \"\""
   ]
  },
  {
   "cell_type": "markdown",
   "metadata": {},
   "source": [
    "## Primera parte tipo test (3 puntos):\n",
    "\n",
    "**-->[Enlace al test](https://forms.gle/3cxLpPbetoxXDrvr9)<--**"
   ]
  },
  {
   "cell_type": "markdown",
   "metadata": {},
   "source": [
    "#### Notas y pruebas de apoyo para contestar las preguntas tipo test\n",
    "Esto no es necesario usarlo aunque verlo aquí te puede dar la respuesta a alguna de las preguntas tipo test.\n",
    "\n",
    "Cualquier código aunque no esté correcto nos dirá más de ti que no escribir nada. "
   ]
  },
  {
   "cell_type": "code",
   "execution_count": null,
   "metadata": {},
   "outputs": [],
   "source": [
    "# crea todas las celdas que necesites"
   ]
  },
  {
   "cell_type": "markdown",
   "metadata": {},
   "source": [
    "-----------------"
   ]
  },
  {
   "cell_type": "markdown",
   "metadata": {},
   "source": [
    "## Segunda parte ejercicios prácticos (7 puntos):\n"
   ]
  },
  {
   "cell_type": "code",
   "execution_count": null,
   "metadata": {},
   "outputs": [],
   "source": [
    "# No te olvides de documentar el código para dejar clara la lógica, sobre todo cuando no sale el resultado"
   ]
  },
  {
   "cell_type": "markdown",
   "metadata": {},
   "source": [
    "### Ejercicio 1 (1 punto)\n",
    "En este ejercicio se va a crear una lista con los siguientes elementos. Primero, crearemos las variables que luego añadiremos a la lista. Las variables son las siguientes:\n",
    "\n",
    "1. Crea una variable llamada `edad` de tipo Integer que represente tu edad en años. \n",
    "2. Crea una variable llamada `nombre` de tipo String , que tenga el mismo valor de `nombre_y_apellidos`.\n",
    "3. Crea una variable llamada `altura` con el valor de tu altura en metros de tipo float.\n",
    "4. Crea una variable llamada `s_operativo` de tipo Boolean True si usas Windows y False si usas otro.\n",
    "5. Crea una variable llamada `nada` de tipo None cuyo valor sea None.\n",
    "6. Crea una variable llamada `lista_peliculas` de tipo List que contenga las 5 películas que más te gusten. Cada elemento ha de ser de tipo String.\n",
    "7. Crea una variable llamada `tupla_isla` de tipo Tuple con mínimo tres objetos que te llevarías a una isla desierta.\n",
    "8. Crea una variable llamada `dict_movil` con dos keys y dos values. Una key es `marca`, teniendo como value la marca de tu móvil de tipo String. Otra key es `anio`, teniendo como value el número del año de compra de tipo entero.\n",
    "9. Añade todos estos elementos en una lista llamada `lista_examen` en el orden de aparición.\n",
    "10. Guarda en la variable `lon_lista_examen` la longitud de `lista_examen`."
   ]
  },
  {
   "cell_type": "code",
   "execution_count": null,
   "metadata": {},
   "outputs": [],
   "source": []
  },
  {
   "cell_type": "markdown",
   "id": "ff4becae-86c4-46ab-9e09-3aeec5296700",
   "metadata": {},
   "source": [
    "### Ejercicio 2 (2 puntos)\n",
    "\n",
    "Para resolver este ejercicio necesitarás la lista del ejercicio anterior (`lista_examen`). Se recomienda leer cada punto hasta el final antes de resolver el ejercicio.\n",
    "\n",
    "Se repite para que quede aún más claro: **SOLO USAR LA VARIABLE** `lista_examen`. Usar otra variable se calificará como error.  \n",
    "\n",
    "1. Guardar en las variables, sin uso de funciones (puedes usar print) ni bucles: \n",
    "    - `res21` La primera película favorita\n",
    "    - `res22` El último objeto que te llevarías a una isla.\n",
    "    - `res23` Los 3 primeros caracteres de la marca de tu móvil.\n",
    "    \n",
    "    \n",
    "2. Mostrar por pantalla, con uso de un bucle `for`:\n",
    "    - Las posiciones y elementos de `lista_examen` de las posiciones impares.\n",
    "    - Todos los elementos de `lista_examen` al revés.\n",
    "    - Todos aquellos elementos de las colecciones ordenadas de `lista_examen`. **Tip**: Printea por pantalla todos los elementos de lista examen que sean colecciones, por el orden en el que han sido introducidos\n",
    "\n",
    "3. Con uso del bucle while, borra las películas por la cola hasta que tengas 2 películas y guarda esas películas borradas en una nueva lista `pelis_borradas`.\n",
    "\n",
    "\n",
    "    \n",
    "\n",
    "    "
   ]
  },
  {
   "cell_type": "code",
   "execution_count": null,
   "metadata": {},
   "outputs": [],
   "source": []
  },
  {
   "cell_type": "markdown",
   "metadata": {},
   "source": [
    "### Ejercicio 3 (2 puntos)\n",
    "\n",
    "#### Crear un programa que calcule la cuota de una hipoteca\n",
    "\n",
    "Las cuotas hipotecarias se calculan utilizando la fórmula del interés frances. \n",
    "\n",
    "La formula del interés frances es la siguiente:\n",
    "\\begin{align*}\n",
    "C=V \\frac{(1+i)^n i}{(1+i)^n -1}\n",
    "\\end{align*}\n",
    "\n",
    "\n",
    "    C = cuota a pagar (mensual)\n",
    "    V = volumen del préstamo hipotecario\n",
    "    i = tipo de interés del período (mensual)\n",
    "    n = número de cuotas (mensuales)\n",
    "\n",
    "1. Crea un programa que solicite al usuario los datos de su hipoteca mediante input() los datos (volumen, interés **anual**, y plazo en **años**) y le devuelva la cuota **mensual** a pagar. No es necesario encapsularlo en funciones.\n",
    "\n",
    "2. Crea una función `calculadora_hip` que realiza el cálculo y cuyos argumentos de entrada sean `volumen`, `interes_anual` y `anios`, devolviendo la couta mensual.\n",
    "3. Calcula la cuota y guárdala en la variable `res_cuota` si la cantidad de la hipoteca son 300000 euros, el interés anual es del 4% y la quiere pagar en 25 años a partir de la función `calculadora_hip`.\n",
    "4. Crea una función `gasto_vivienda` que utilice la función `calculadora_hip` y que tenga dos argumentos de entrada `ingreso` y `lista_hip`. Esta lista tendrá los valores de los argumentos de entrada de `calculadora_hip`. Tiene que devolver el valor del porcentaje de gasto en la hipoteca respecto a los ingresos. (Entre 0 y 1, es decir 0.5 si es del 50%)\n",
    "5. Calcula el porcentaje de gasto en la hipoteca si el ingreso es de 1800 euros y guárdalo en la variable `res_porcentaje`.\n",
    "6. Documenta ambas funciones con el estilo de Google.\n"
   ]
  },
  {
   "cell_type": "code",
   "execution_count": null,
   "metadata": {},
   "outputs": [],
   "source": []
  },
  {
   "cell_type": "markdown",
   "metadata": {},
   "source": [
    "### Ejercicio 4 (2 puntos)\n",
    "\n",
    "1. Crea una clase `Humano` que tenga 1 atributo general `mamifero`(bool) y 4 atributos en el constructor: `ojos`(int default 2), `edad`(int), `altura`(float) y `nombre`(str). Además, debe contar con dos métodos: \n",
    "\n",
    "- `cumplir_edad`: al llamar a este método se debe sumar 1 al atributo edad del humano y que retorne \"Felices x años!\" con la edad actualizada. Si cumple 80, su altura pasará a ser el 90% de su altura original.\n",
    "- `registro_nombre` que recibe parametro `nuevo_nombre`: al llamar a esta función con un parámetro de entrada, este método debe cambiar el nombre del humano por el `nuevo_nombre` y sin retornar nada\n",
    "\n",
    "2. (a partir de la variable **`lista_examen`**) Crea un humano instanciandolo en el objeto `humano_1` llamado \"Manuel\" que tiene el doble de tu de edad y mide 10 centímetros menos que tu altura.\n",
    "\n",
    "3. Crea un humano instanciandolo en el objeto `humano_2` llamado \"Cojoncio\" con la misma edad y altura de Manuel. A \"Cojoncio\" nunca le gustó su nombre. Por eso, usa el método correspondiente para cambiarse su nombre por \"Goku\". Haz que cumpla hasta los 80 si no los tiene ya. Comprueba que se han actualizado sus atributos de `edad` y `altura`. \n",
    "\n",
    "4. Documenta la clase como hemos aprendido\n"
   ]
  },
  {
   "cell_type": "code",
   "execution_count": null,
   "metadata": {},
   "outputs": [],
   "source": []
  },
  {
   "cell_type": "markdown",
   "metadata": {},
   "source": [
    "¡Has terminado!"
   ]
  }
 ],
 "metadata": {
  "kernelspec": {
   "display_name": "Python 3.7.9 64-bit",
   "language": "python",
   "name": "python3"
  },
  "language_info": {
   "codemirror_mode": {
    "name": "ipython",
    "version": 3
   },
   "file_extension": ".py",
   "mimetype": "text/x-python",
   "name": "python",
   "nbconvert_exporter": "python",
   "pygments_lexer": "ipython3",
   "version": "3.7.9"
  },
  "orig_nbformat": 4,
  "vscode": {
   "interpreter": {
    "hash": "ec2a379ed5c25334a484232182c9d38ef8bd9861e2542d0c517568c4f99a9a7c"
   }
  }
 },
 "nbformat": 4,
 "nbformat_minor": 2
}
