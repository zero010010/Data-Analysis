{
 "cells": [
  {
   "cell_type": "markdown",
   "metadata": {},
   "source": [
    "![imagen](./img/ejercicios.png)\n",
    "\n",
    "# Ejercicios Clases y Objetos"
   ]
  },
  {
   "cell_type": "markdown",
   "metadata": {},
   "source": [
    "## Ejercicio 1\n",
    "Somos una empresa que tiene varias tiendas de electrodomesticos. Necesitamos un programa para manejar las tiendas, ver las ventas que han tenido, cuántos empleados hay, etc... Para ello vamos a modelizar la tienda en una clase, que tendrá las siguientes características:\n",
    "* Nombre clase: \"Tienda\"\n",
    "* Atributos comunes:\n",
    "    * Tipo: \"Electrodomésticos\"\n",
    "    * Abierta: True\n",
    "* Atributos propios de cada tienda:\n",
    "    * Nombre - String\n",
    "    * Dirección - String\n",
    "    * Número de empleados - int\n",
    "    * Ventas ultimos 3 meses - Lista de 3 numeros\n",
    "* Método para calcular las ventas de todos los meses, que devuelva un numero con todas las ventas.\n",
    "* Método que calcula la media de ventas de los ultimos meses, por empleado\n",
    "* Método que devuelve en un string el nombre de la tienda, junto con su dirección.\n",
    "* Método que obtiene las ventas del último mes.\n",
    "* Método para dar una proyección de las ventas en caso de haber invertido X dinero en marketing en esa tienda. Siendo X el parámetro de entrada. Si X es menor de 1000, las ventas de los ultimos 3 meses hubiesen sido de (1.2 x ventas), si es mayor o igual de 1000, las ventas hubiesen sido de (1.5 x venta). El método reescribe el atributo de ventas en los últimos 3 meses, y además devuelve las ventas con el aumento.\n",
    "\n",
    "Se pide:\n",
    "1. Implementar la clase \"Tienda\"\n",
    "2. Crear tres tiendas con datos inventados\n",
    "3. Comprueba en al menos una de ellas, todo lo implementado en la clase tienda (sus atributos, media de ventas, ventas/empleado...)\n",
    "3. Calcular las ventas del último mes de todas las tiendas. Para ello usa el bucle `for`\n",
    "4. Imprime por pantalla los nombres de las tiendas cuya dirección lleve el string \"Avenida\"\n",
    "5. Seguro que ya has hecho este apartado... Documenta la clase :)"
   ]
  },
  {
   "cell_type": "code",
   "execution_count": 67,
   "metadata": {},
   "outputs": [],
   "source": [
    "class Tienda:\n",
    "    '''\n",
    "    Clase con los compionenetes de una tienda de electrodomésticos\n",
    "    Atributos:\n",
    "        tipo = 'Electrodomésticos' -> String\n",
    "        abierto = True -> Bool\n",
    "    '''\n",
    "    tipo = 'Electrodomésticos'\n",
    "    abierto = True\n",
    "\n",
    "    def __init__(self, nombre:str, direccion:str, n_empleados:int, ventas_3m:list):\n",
    "        '''\n",
    "        Atributos particulares de una tienda\n",
    "        Input:\n",
    "            nombre: string\n",
    "            direccion: string\n",
    "            n_empleados: string\n",
    "            ventas_3m: list\n",
    "        '''\n",
    "        self.nombre = nombre\n",
    "        self.direccion = direccion\n",
    "        self.n_empleados = n_empleados\n",
    "        self.ventas_3m = ventas_3m\n",
    "        self.show_class()\n",
    "\n",
    "    def ventas_totales(self):\n",
    "        '''\n",
    "        Método que suma todas las ventas de la tienda\n",
    "        Output:\n",
    "            Valor total de ventas -> float/int\n",
    "        '''\n",
    "        return sum(self.ventas_3m)\n",
    "\n",
    "    def media_ventas_emp(self):\n",
    "        '''\n",
    "        Método que calcula las ventas por empleados de los últimos 3 meses\n",
    "        Output:\n",
    "            Media de ventas por empleado -> float/int\n",
    "        '''\n",
    "        return self.ventas_totales()/self.n_empleados\n",
    "\n",
    "    def nombre_direc(self):\n",
    "        '''\n",
    "        Método que devuelve el nombre y dirección de la tienda\n",
    "        Output:\n",
    "            Nombre y dirección -> string\n",
    "        '''\n",
    "        return self.nombre + ' ' + self.direccion\n",
    "\n",
    "    def ult_ventas(self):\n",
    "        '''\n",
    "        Método que devuelve las ventas del últimos mes\n",
    "        Output:\n",
    "            Ventas último mes -> float/int\n",
    "        '''\n",
    "        return self.ventas_3m[-1]\n",
    "\n",
    "    def prox_ventas(self, inversion_mark):\n",
    "        '''\n",
    "        Método que devuelve la proyección de las ventas en función a la inversión en marketing\n",
    "        Input:\n",
    "            inversion_mark -> float/int\n",
    "        Output:\n",
    "            Proyección de ventas -> list\n",
    "        '''\n",
    "        for i in range(len(self.ventas_3m)):\n",
    "            if inversion_mark < 1000:\n",
    "                self.ventas_3m[i] = self.ventas_3m[i] * 1.2\n",
    "            else:\n",
    "                self.ventas_3m[i] = self.ventas_3m[i] * 1.5\n",
    "        return self.ventas_3m\n",
    "    \n",
    "    def show_class(self):\n",
    "        '''\n",
    "        Método que muestra por pantalla los atributos y métodos de la clase\n",
    "        '''\n",
    "        print(self.tipo)\n",
    "        print(self.abierto)\n",
    "        print(self.nombre)\n",
    "        print(self.direccion)\n",
    "        print(self.n_empleados)\n",
    "        print(self.ventas_3m)\n",
    "        print(self.ventas_totales())\n",
    "        print(self.media_ventas_emp())\n",
    "        print(self.nombre_direc())\n",
    "        print(self.ult_ventas())\n",
    "        print(self.prox_ventas(1200))\n",
    "    \n",
    "    # def media_ventas_emp(self): # Devuelve una lista con las ventas mensuales por empleado\n",
    "    #     for i in range(0,len(self.ventas_3m)):\n",
    "    #         self.ventas_3m[i] = self.ventas_3m[i]/self.n_empleados\n",
    "    #     return self.ventas_3m"
   ]
  },
  {
   "cell_type": "code",
   "execution_count": 68,
   "metadata": {},
   "outputs": [],
   "source": [
    "tienda_1 = Tienda(\"Tienda 1\", \"C/ Recoletos 15\", 5, [1000,800,1500])\n",
    "tienda_2 = Tienda(\"Tienda 2\", \"Avenida Recoletos 50\", 12, [1200,1300,1100])\n",
    "tienda_3 = Tienda(\"Tienda 3\", \"Plaza Recoletos 70\", 3, [700,900,850])"
   ]
  },
  {
   "cell_type": "code",
   "execution_count": 19,
   "metadata": {},
   "outputs": [
    {
     "name": "stdout",
     "output_type": "stream",
     "text": [
      "Electrodomésticos\n",
      "True\n",
      "Tienda 2\n",
      "Avenida Recoletos 50\n",
      "12\n",
      "[1200, 1300, 1100]\n",
      "3600\n",
      "300.0\n",
      "Tienda 2 Avenida Recoletos 50\n",
      "1100\n",
      "[1800.0, 1950.0, 1650.0]\n"
     ]
    }
   ],
   "source": [
    "print(tienda_2.tipo)\n",
    "print(tienda_2.abierto)\n",
    "print(tienda_2.nombre)\n",
    "print(tienda_2.direccion)\n",
    "print(tienda_2.n_empleados)\n",
    "print(tienda_2.ventas_3m)\n",
    "print(tienda_2.ventas_totales())\n",
    "print(tienda_2.media_ventas_emp())\n",
    "print(tienda_2.nombre_direc())\n",
    "print(tienda_2.ult_ventas())\n",
    "print(tienda_2.prox_ventas(1200))"
   ]
  },
  {
   "cell_type": "code",
   "execution_count": 21,
   "metadata": {},
   "outputs": [
    {
     "name": "stdout",
     "output_type": "stream",
     "text": [
      "[1500, 1650.0, 850]\n",
      "4000.0\n"
     ]
    }
   ],
   "source": [
    "lista_tiendas = [tienda_1, tienda_2, tienda_3]\n",
    "ult_mes = []\n",
    "for tienda in lista_tiendas:\n",
    "    ult_mes.append(tienda.ult_ventas())\n",
    "\n",
    "print(ult_mes)\n",
    "print(sum(ult_mes))"
   ]
  },
  {
   "cell_type": "code",
   "execution_count": 22,
   "metadata": {},
   "outputs": [
    {
     "name": "stdout",
     "output_type": "stream",
     "text": [
      "Tienda 2\n"
     ]
    }
   ],
   "source": [
    "lista_tiendas = [tienda_1, tienda_2, tienda_3]\n",
    "\n",
    "for tienda in lista_tiendas:\n",
    "    if \"Avenida\" in tienda.direccion:\n",
    "        print(tienda.nombre)"
   ]
  },
  {
   "cell_type": "code",
   "execution_count": 69,
   "metadata": {},
   "outputs": [
    {
     "name": "stdout",
     "output_type": "stream",
     "text": [
      "\n",
      "    Clase con los compionenetes de una tienda de electrodomésticos\n",
      "    Atributos:\n",
      "        tipo = 'Electrodomésticos' -> String\n",
      "        abierto = True -> Bool\n",
      "    \n",
      "\n",
      "        Atributos particulares de una tienda\n",
      "        Input:\n",
      "            nombre: string\n",
      "            direccion: string\n",
      "            n_empleados: string\n",
      "            ventas_3m: list\n",
      "        \n",
      "\n",
      "        Método que devuelve las ventas del últimos mes\n",
      "        Output:\n",
      "            Ventas último mes -> float/int\n",
      "        \n"
     ]
    }
   ],
   "source": [
    "print(tienda_1.__doc__)\n",
    "print(tienda_1.__init__.__doc__)\n",
    "print(tienda_1.ult_ventas.__doc__)"
   ]
  },
  {
   "cell_type": "markdown",
   "metadata": {},
   "source": [
    "## Ejercicio 2\n",
    "En este ejercicio vamos a implementar una clase *Perro* en Python. La clase tiene las siguientes características:\n",
    "* Cosas que sabemos seguro que tiene un perro\n",
    "    * Tiene 4 patas\n",
    "    * 2 orejas\n",
    "    * 2 ojos\n",
    "    * Una velocidad de 0. Por defecto, el perro está parado\n",
    "* Cuando se inicialice:\n",
    "    * El perro será de una determinada raza\n",
    "    * Por defecto tendrá pelo \"Marrón\", a no ser que se diga lo contrario.\n",
    "    * Por defecto no tendrá dueño, a no ser que se diga lo contrario.\n",
    "    \n",
    "* Dispondrá también de un método llamado andar, que tiene un argumento de entrada (aumento_velocidad). Este valor se le sumará a la velocidad que ya llevaba el perro.\n",
    "* Necesita otro método (parar), donde pondremos la velocidad a 0.\n",
    "* Otro método llamado \"ladrar\", que tendrá un argumento de entrada, y la salida será el siguiente string: \"GUAU!\" + el argumento de entrada.\n",
    "\n",
    "\n",
    "Se pide:\n",
    "* Implementa la clase *Perro*\n",
    "* Crea un objeto de tipo *Perro*, sin dueño\n",
    "* Comprueba que están bien todos sus atributos\n",
    "* Prueba que ande, y comprueba su velocidad\n",
    "* Páralo\n",
    "* Documenta la clase *Perro*"
   ]
  },
  {
   "cell_type": "code",
   "execution_count": 52,
   "metadata": {},
   "outputs": [],
   "source": [
    "class Perro():\n",
    "    '''\n",
    "    Clase de perro ejemplo\n",
    "    Atributos generales:\n",
    "        patas = 4 -> int\n",
    "        orejas = 2 -> int\n",
    "        ojos = 2 -> int\n",
    "        velocidad = 0 -> float/int\n",
    "    '''\n",
    "    \n",
    "    patas = 4\n",
    "    orejas = 2\n",
    "    ojos = 2\n",
    "    velocidad = 0\n",
    "\n",
    "    def __init__(self, raza:str, color=\"Marron\", duenio=False):\n",
    "        '''\n",
    "        Los perros se diferencian unos de otros por los siguientes atributos particulares\n",
    "        Inputs:\n",
    "            raza -> String\n",
    "            color -> String (\"Marron\" por defecto)\n",
    "            duenio -> Bool (False por defecto)\n",
    "        '''\n",
    "        self.raza = raza\n",
    "        self.color = color\n",
    "        self.duenio = duenio\n",
    "\n",
    "    def andar(self,aumento_velocidad):\n",
    "        '''\n",
    "        Método que aumenta el atributo de velocidad\n",
    "        Input:\n",
    "            aumento_velocidad -> float/int\n",
    "        '''\n",
    "        self.velocidad = self.velocidad + aumento_velocidad\n",
    "    \n",
    "    def parar(self):\n",
    "        '''\n",
    "        Método que detiene la velocidad y la actualiza a 0\n",
    "        '''\n",
    "        self.velocidad = 0\n",
    "\n",
    "    def ladrar(self, mensaje):\n",
    "        '''\n",
    "        Método que devuelve un mensaje de perro\n",
    "        Input:\n",
    "            mensaje -> String\n",
    "        Output:\n",
    "            mensaje de perro -> String\n",
    "        '''\n",
    "        return \"GUAU! \" + str(mensaje)"
   ]
  },
  {
   "cell_type": "code",
   "execution_count": 53,
   "metadata": {},
   "outputs": [],
   "source": [
    "perro_sdueño = Perro(\"Caniche\")"
   ]
  },
  {
   "cell_type": "code",
   "execution_count": 35,
   "metadata": {},
   "outputs": [
    {
     "name": "stdout",
     "output_type": "stream",
     "text": [
      "4\n",
      "2\n",
      "2\n",
      "0\n",
      "Caniche\n",
      "Marron\n",
      "False\n"
     ]
    }
   ],
   "source": [
    "print(perro_sdueño.patas)\n",
    "print(perro_sdueño.orejas)\n",
    "print(perro_sdueño.ojos)\n",
    "print(perro_sdueño.velocidad)\n",
    "print(perro_sdueño.raza)\n",
    "print(perro_sdueño.color)\n",
    "print(perro_sdueño.duenio)"
   ]
  },
  {
   "cell_type": "code",
   "execution_count": 45,
   "metadata": {},
   "outputs": [
    {
     "name": "stdout",
     "output_type": "stream",
     "text": [
      "None\n"
     ]
    }
   ],
   "source": [
    "print(perro_sdueño.andar(5))"
   ]
  },
  {
   "cell_type": "code",
   "execution_count": 46,
   "metadata": {},
   "outputs": [
    {
     "name": "stdout",
     "output_type": "stream",
     "text": [
      "30\n"
     ]
    }
   ],
   "source": [
    "print(perro_sdueño.velocidad)"
   ]
  },
  {
   "cell_type": "code",
   "execution_count": 47,
   "metadata": {},
   "outputs": [
    {
     "name": "stdout",
     "output_type": "stream",
     "text": [
      "0\n"
     ]
    }
   ],
   "source": [
    "perro_sdueño.parar()\n",
    "print(perro_sdueño.velocidad)"
   ]
  },
  {
   "cell_type": "code",
   "execution_count": 54,
   "metadata": {},
   "outputs": [
    {
     "data": {
      "text/plain": [
       "'GUAU! Bienvenidos al bootcamp'"
      ]
     },
     "execution_count": 54,
     "metadata": {},
     "output_type": "execute_result"
    }
   ],
   "source": [
    "perro_sdueño.ladrar(\"Bienvenidos al bootcamp\")"
   ]
  },
  {
   "cell_type": "code",
   "execution_count": 66,
   "metadata": {},
   "outputs": [
    {
     "name": "stdout",
     "output_type": "stream",
     "text": [
      "\n",
      "    Clase de perro ejemplo\n",
      "    Atributos generales:\n",
      "        patas = 4 -> int\n",
      "        orejas = 2 -> int\n",
      "        ojos = 2 -> int\n",
      "        velocidad = 0 -> float/int\n",
      "    \n",
      "\n",
      "        Los perros se diferencian unos de otros por los siguientes atributos particulares\n",
      "        Inputs:\n",
      "            raza -> String\n",
      "            color -> String (\"Marron\" por defecto)\n",
      "            duenio -> Bool (False por defecto)\n",
      "        \n",
      "\n",
      "        Método que detiene la velocidad y la actualiza a 0\n",
      "        \n"
     ]
    }
   ],
   "source": [
    "print(perro_sdueño.__doc__)\n",
    "print(perro_sdueño.__init__.__doc__)\n",
    "print(perro_sdueño.parar.__doc__)"
   ]
  },
  {
   "cell_type": "code",
   "execution_count": null,
   "metadata": {},
   "outputs": [],
   "source": []
  }
 ],
 "metadata": {
  "kernelspec": {
   "display_name": "Python 3.7.4 64-bit",
   "language": "python",
   "name": "python3"
  },
  "language_info": {
   "codemirror_mode": {
    "name": "ipython",
    "version": 3
   },
   "file_extension": ".py",
   "mimetype": "text/x-python",
   "name": "python",
   "nbconvert_exporter": "python",
   "pygments_lexer": "ipython3",
   "version": "3.7.4"
  },
  "vscode": {
   "interpreter": {
    "hash": "90139cb9a825bf3d63f6f6704e828dbd1ff7edbd4d0c6e906a71235d6efc74af"
   }
  }
 },
 "nbformat": 4,
 "nbformat_minor": 4
}
