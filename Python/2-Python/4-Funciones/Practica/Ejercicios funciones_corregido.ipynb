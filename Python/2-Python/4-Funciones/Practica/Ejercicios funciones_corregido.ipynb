{
 "cells": [
  {
   "cell_type": "markdown",
   "metadata": {},
   "source": [
    "![imagen](./img/ejercicios.png)"
   ]
  },
  {
   "cell_type": "markdown",
   "metadata": {},
   "source": [
    "# Ejercicios funciones\n",
    "## Ejercicio 1\n",
    "Escribe una función que convierta números del 1 al 7 en nombres de los dias de la semana. La función constará de un único argumento numérico y una salida de tipo string"
   ]
  },
  {
   "cell_type": "code",
   "execution_count": 1,
   "metadata": {},
   "outputs": [],
   "source": [
    "def dia_semana(dia_num):\n",
    "    if dia_num == 1:\n",
    "        return \"Lunes\"\n",
    "    elif dia_num == 2:\n",
    "        return \"Martes\"\n",
    "    elif dia_num == 3:\n",
    "        return \"Miércoles\"\n",
    "    elif dia_num == 4:\n",
    "        return \"Jueves\"\n",
    "    elif dia_num == 5:\n",
    "        return \"Viernes\"\n",
    "    elif dia_num == 6:\n",
    "        return \"Sábado\"\n",
    "    elif dia_num == 7:\n",
    "        return \"Domingo\"\n",
    "    else:\n",
    "        return \"No es un día de la semana\""
   ]
  },
  {
   "cell_type": "code",
   "execution_count": 3,
   "metadata": {},
   "outputs": [
    {
     "name": "stdout",
     "output_type": "stream",
     "text": [
      "Miércoles\n",
      "Viernes\n",
      "No es un día de la semana\n"
     ]
    }
   ],
   "source": [
    "print(dia_semana(3))\n",
    "print(dia_semana(5))\n",
    "print(dia_semana(11))"
   ]
  },
  {
   "cell_type": "code",
   "execution_count": 8,
   "metadata": {},
   "outputs": [],
   "source": [
    "\n",
    "def dia_semana(dia_num):\n",
    "    week = {1:\"Lunes\", 2:\"Martes\", 3:\"Miércoles\", 4:\"Jueves\", 5:\"Viernes\", 6:\"Sábado\", 7:\"Domingo\"}\n",
    "    return week.get(dia_num, \"No es un día de la semana\")\n"
   ]
  },
  {
   "cell_type": "code",
   "execution_count": 9,
   "metadata": {},
   "outputs": [
    {
     "name": "stdout",
     "output_type": "stream",
     "text": [
      "Miércoles\n",
      "Viernes\n",
      "No es un día de la semana\n"
     ]
    }
   ],
   "source": [
    "print(dia_semana(3))\n",
    "print(dia_semana(5))\n",
    "print(dia_semana(11))"
   ]
  },
  {
   "cell_type": "code",
   "execution_count": 6,
   "metadata": {},
   "outputs": [],
   "source": [
    "def dia_semana(dia_num):\n",
    "    lista_semana = ['Lunes','Martes','Miércoles','Jueves','Viernes','Sábado','Domingo']\n",
    "    try:\n",
    "        return lista_semana[dia_num - 1]\n",
    "    except:\n",
    "        return \"No es un día de la semana\""
   ]
  },
  {
   "cell_type": "code",
   "execution_count": 7,
   "metadata": {},
   "outputs": [
    {
     "name": "stdout",
     "output_type": "stream",
     "text": [
      "Miércoles\n",
      "Viernes\n",
      "No es un día de la semana\n"
     ]
    }
   ],
   "source": [
    "print(dia_semana(3))\n",
    "print(dia_semana(5))\n",
    "print(dia_semana(11))"
   ]
  },
  {
   "cell_type": "markdown",
   "metadata": {},
   "source": [
    "## Ejercicio 2\n",
    "En el ejercicio 8 de flujos de control, creábamos una pirámide invertida de números desde el 5. Crea una función que replique el comportamiento de la pirámide, y utiliza un único parámetro de entrada de la función para determinar el número de filas de la pirámide."
   ]
  },
  {
   "cell_type": "code",
   "execution_count": 15,
   "metadata": {},
   "outputs": [
    {
     "data": {
      "text/plain": [
       "[5, 4, 3, 2, 1]"
      ]
     },
     "execution_count": 15,
     "metadata": {},
     "output_type": "execute_result"
    }
   ],
   "source": [
    "list(range(5,0,-1))"
   ]
  },
  {
   "cell_type": "code",
   "execution_count": 4,
   "metadata": {},
   "outputs": [],
   "source": [
    "def ejercicio_2(n):\n",
    "    lista = list(range(n,0,-1))\n",
    "    for num in lista.copy():\n",
    "        print(*lista)\n",
    "        lista.pop(0)\n",
    "    # return \"Done\""
   ]
  },
  {
   "cell_type": "code",
   "execution_count": 5,
   "metadata": {},
   "outputs": [
    {
     "name": "stdout",
     "output_type": "stream",
     "text": [
      "10 9 8 7 6 5 4 3 2 1\n",
      "9 8 7 6 5 4 3 2 1\n",
      "8 7 6 5 4 3 2 1\n",
      "7 6 5 4 3 2 1\n",
      "6 5 4 3 2 1\n",
      "5 4 3 2 1\n",
      "4 3 2 1\n",
      "3 2 1\n",
      "2 1\n",
      "1\n"
     ]
    }
   ],
   "source": [
    "ejercicio_2(10)"
   ]
  },
  {
   "cell_type": "code",
   "execution_count": 6,
   "metadata": {},
   "outputs": [
    {
     "name": "stdout",
     "output_type": "stream",
     "text": [
      "10 9 8 7 6 5 4 3 2 1 \n",
      "9 8 7 6 5 4 3 2 1 \n",
      "8 7 6 5 4 3 2 1 \n",
      "7 6 5 4 3 2 1 \n",
      "6 5 4 3 2 1 \n",
      "5 4 3 2 1 \n",
      "4 3 2 1 \n",
      "3 2 1 \n",
      "2 1 \n",
      "1 \n",
      "\n"
     ]
    }
   ],
   "source": [
    "output = \"\"\n",
    "n = 10\n",
    "while n > 0:\n",
    "    for i in range(n, 0, -1):\n",
    "        output = output + str(i) + \" \"\n",
    "    output = output + '\\n'\n",
    "    n = n - 1\n",
    "\n",
    "print(output)"
   ]
  },
  {
   "cell_type": "code",
   "execution_count": 34,
   "metadata": {},
   "outputs": [],
   "source": [
    "def ejercicio_2(n):\n",
    "    output = \"\"\n",
    "    while n > 0:\n",
    "        for i in range(n, 0, -1):\n",
    "            output = output + str(i) + \" \"\n",
    "        output = output + '\\n'\n",
    "        n = n - 1\n",
    "    return output"
   ]
  },
  {
   "cell_type": "code",
   "execution_count": 40,
   "metadata": {},
   "outputs": [
    {
     "name": "stdout",
     "output_type": "stream",
     "text": [
      "15 14 13 12 11 10 9 8 7 6 5 4 3 2 1 \n",
      "14 13 12 11 10 9 8 7 6 5 4 3 2 1 \n",
      "13 12 11 10 9 8 7 6 5 4 3 2 1 \n",
      "12 11 10 9 8 7 6 5 4 3 2 1 \n",
      "11 10 9 8 7 6 5 4 3 2 1 \n",
      "10 9 8 7 6 5 4 3 2 1 \n",
      "9 8 7 6 5 4 3 2 1 \n",
      "8 7 6 5 4 3 2 1 \n",
      "7 6 5 4 3 2 1 \n",
      "6 5 4 3 2 1 \n",
      "5 4 3 2 1 \n",
      "4 3 2 1 \n",
      "3 2 1 \n",
      "2 1 \n",
      "1 \n",
      "\n"
     ]
    }
   ],
   "source": [
    "result = ejercicio_2(15)\n",
    "print(result)"
   ]
  },
  {
   "cell_type": "markdown",
   "metadata": {},
   "source": [
    "## Ejercicio 3\n",
    "Escribe una función que compare dos números. La función tiene dos argumentos y hay tres salidas posibles: que sean iguales, que el primero sea  mayor que el segundo, o que el segundo sea mayor que el primero"
   ]
  },
  {
   "cell_type": "code",
   "execution_count": 67,
   "metadata": {},
   "outputs": [],
   "source": [
    "def comparar(num_1:float, num_2:float):\n",
    "    # print(type(num_1))\n",
    "    num_1 = float(num_1)\n",
    "    num_2 = float(num_2)\n",
    "    if num_1 == num_2:\n",
    "        return \"Son iguales\"\n",
    "    elif num_1 > num_2:\n",
    "        return str(num_1) + \" es mayor que \" + str(num_2)\n",
    "    else:\n",
    "        return str(num_2) + \" es menor que \" + str(num_1)"
   ]
  },
  {
   "cell_type": "code",
   "execution_count": 68,
   "metadata": {},
   "outputs": [
    {
     "name": "stdout",
     "output_type": "stream",
     "text": [
      "8.0 es mayor que 6.0\n"
     ]
    }
   ],
   "source": [
    "print(comparar(num_1=input(\"Introduzca número 1\"), num_2=input(\"Introduzca número 2\")))"
   ]
  },
  {
   "cell_type": "markdown",
   "metadata": {},
   "source": [
    "## Ejercicio 4\n",
    "Escribe una función que sea un contador de letras. En el primer argumento tienes que introducir un texto, y el segundo que sea una letra que contar. La función tiene que devolver un entero con el número de veces que aparece esa letra, tanto mayuscula, como minúscula"
   ]
  },
  {
   "cell_type": "code",
   "execution_count": 79,
   "metadata": {},
   "outputs": [],
   "source": [
    "def contador_letras(texto, letra):\n",
    "    texto = texto.lower()\n",
    "    return texto.count(letra.lower())"
   ]
  },
  {
   "cell_type": "code",
   "execution_count": 80,
   "metadata": {},
   "outputs": [
    {
     "data": {
      "text/plain": [
       "19"
      ]
     },
     "execution_count": 80,
     "metadata": {},
     "output_type": "execute_result"
    }
   ],
   "source": [
    "texto_buscar = \"Escribe una función que sea un contador de letras. En el primer argumento tienes que introducir un texto, y el segundo que sea una letra que contar. La función tiene que devolver un entero con el número de veces que aparece esa letra, tanto mayuscula, como minúscula\"\n",
    "contador_letras(texto_buscar,'u')"
   ]
  },
  {
   "cell_type": "code",
   "execution_count": 83,
   "metadata": {},
   "outputs": [],
   "source": [
    "def contador_letras(texto, letra):\n",
    "    texto = texto.lower()\n",
    "    texto = texto.replace('á','a').replace('é','e').replace('í','i').replace('ó','o').replace('ú','u')\n",
    "    return texto.count(letra.lower())"
   ]
  },
  {
   "cell_type": "code",
   "execution_count": 86,
   "metadata": {},
   "outputs": [
    {
     "data": {
      "text/plain": [
       "21"
      ]
     },
     "execution_count": 86,
     "metadata": {},
     "output_type": "execute_result"
    }
   ],
   "source": [
    "texto_buscar = \"Escribe una función que sea un contador de letras. En el primer argumento tienes que introducir un texto, y el segundo que sea una letra que contar. La función tiene que devolver un entero con el número de veces que aparece esa letra, tanto mayuscula, como minúscula\"\n",
    "contador_letras(texto_buscar,'u')"
   ]
  },
  {
   "cell_type": "markdown",
   "metadata": {},
   "source": [
    "## Ejercicio 5\n",
    "Escribe una función que tenga un único argumento, un string. La salida de la función tiene que ser un diccionario con el conteo de todas las letras de ese string, siendo la clave la letra y el valor el conteo."
   ]
  },
  {
   "cell_type": "code",
   "execution_count": 87,
   "metadata": {},
   "outputs": [],
   "source": [
    "def letter_count(texto):\n",
    "\n",
    "    all_letters = {}\n",
    "\n",
    "    for i in texto.lower():\n",
    "        if i == \" \":\n",
    "            continue\n",
    "        elif i in all_letters:\n",
    "            all_letters[i] = all_letters[i] + 1\n",
    "        else:\n",
    "            all_letters[i] = 1\n",
    "\n",
    "    return all_letters"
   ]
  },
  {
   "cell_type": "code",
   "execution_count": 88,
   "metadata": {},
   "outputs": [
    {
     "name": "stdout",
     "output_type": "stream",
     "text": [
      "{'e': 23, 's': 10, 'c': 10, 'r': 9, 'i': 12, 'b': 1, 'u': 9, 'n': 19, 'a': 16, 'f': 2, 'ó': 2, 'q': 2, 't': 10, 'g': 4, 'ú': 1, 'o': 12, 'm': 1, ',': 2, '.': 2, 'l': 13, 'd': 7, 'v': 2, 'y': 1}\n"
     ]
    }
   ],
   "source": [
    "print(letter_count(\"Escribe una función que tenga un único argumento, un string. La salida de la función tiene que ser un diccionario con el conteo de todas las letras de ese string, siendo la clave la letra y el valor el conteo.\"))"
   ]
  },
  {
   "cell_type": "code",
   "execution_count": 90,
   "metadata": {},
   "outputs": [],
   "source": [
    "def letter_count(texto):\n",
    "\n",
    "    all_letters = {}\n",
    "    for i in texto.lower():\n",
    "        if i == \" \":\n",
    "            continue\n",
    "        else:\n",
    "            all_letters[i] = contador_letras(texto,i)\n",
    "    return all_letters"
   ]
  },
  {
   "cell_type": "code",
   "execution_count": 93,
   "metadata": {},
   "outputs": [
    {
     "name": "stdout",
     "output_type": "stream",
     "text": [
      "{'e': 23, 's': 10, 'c': 10, 'r': 9, 'i': 12, 'b': 1, 'u': 10, 'n': 19, 'a': 16, 'f': 2, 'ó': 0, 'q': 2, 't': 10, 'g': 4, 'ú': 0, 'o': 14, 'm': 1, ',': 2, '.': 2, 'l': 13, 'd': 7, 'v': 2, 'y': 1}\n"
     ]
    }
   ],
   "source": [
    "print(letter_count(\"Escribe una función que tenga un único argumento, un string. La salida de la función tiene que ser un diccionario con el conteo de todas las letras de ese string, siendo la clave la letra y el valor el conteo.\"))"
   ]
  },
  {
   "cell_type": "markdown",
   "metadata": {},
   "source": [
    "## Ejercicio 6\n",
    "Escribir una función que añada o elimine elementos en una lista. La función necesita los siguientes argumentos:\n",
    "* lista: la lista donde se añadirán o eliminarán los elementos\n",
    "* comando: \"add\" o \"remove\"\n",
    "* elemento: Por defecto es None."
   ]
  },
  {
   "cell_type": "code",
   "execution_count": 115,
   "metadata": {},
   "outputs": [],
   "source": [
    "def ejercicio_6(lista, comando, elemento=None):\n",
    "\n",
    "    lista = list(lista)\n",
    "\n",
    "    if comando == \"add\":\n",
    "        if elemento == None:\n",
    "            print(\"No ha introducido ningún elemento\")\n",
    "        else:\n",
    "            lista.append(elemento)\n",
    "    elif comando == \"remove\":\n",
    "        try:\n",
    "            lista.remove(elemento)\n",
    "        except:\n",
    "            print(\"El elemento no se encuentra para ser borrado\")\n",
    "    else:\n",
    "        print(\"Comando no admitido\")\n",
    "    \n",
    "\n",
    "    return lista"
   ]
  },
  {
   "cell_type": "code",
   "execution_count": 116,
   "metadata": {},
   "outputs": [
    {
     "name": "stdout",
     "output_type": "stream",
     "text": [
      "No ha introducido ningún elemento\n",
      "[1, 2, 3]\n"
     ]
    }
   ],
   "source": [
    "print(ejercicio_6((1,2,3), \"add\"))"
   ]
  },
  {
   "cell_type": "markdown",
   "metadata": {},
   "source": [
    "## Ejercicio 7\n",
    "Crea una función que reciba un número arbitrario de palabras, y devuelva una frase completa, separando las palabras con espacios."
   ]
  },
  {
   "cell_type": "code",
   "execution_count": 117,
   "metadata": {},
   "outputs": [],
   "source": [
    "def junta_palabras(*args):\n",
    "    return \" \".join(args)\n"
   ]
  },
  {
   "cell_type": "code",
   "execution_count": 122,
   "metadata": {},
   "outputs": [
    {
     "data": {
      "text/plain": [
       "'Hola me llamo Miguel como están?'"
      ]
     },
     "execution_count": 122,
     "metadata": {},
     "output_type": "execute_result"
    }
   ],
   "source": [
    "junta_palabras(\"Hola\", \"me\", \"llamo\", \"Miguel\", \"como\", \"están?\")"
   ]
  },
  {
   "cell_type": "markdown",
   "metadata": {},
   "source": [
    "## Ejercicio 8\n",
    "Escribe un programa que obtenga el enésimo número de la [serie de Fibonacci](https://es.wikipedia.org/wiki/Sucesi%C3%B3n_de_Fibonacci). Tienes que crear una función recursiva con un único argumento.\n",
    "\n",
    "```Python\n",
    "fibonacci(2) = 1\n",
    "fibonacci(4) = 3\n",
    "fibonacci(5) = 5\n",
    "fibonacci(8) = 21\n",
    "```"
   ]
  },
  {
   "cell_type": "code",
   "execution_count": 125,
   "metadata": {},
   "outputs": [],
   "source": [
    "def fibonacci(n):\n",
    "    if n == 1:\n",
    "        return 1\n",
    "    elif n == 0:\n",
    "        return 0\n",
    "    return(fibonacci(n-1) + fibonacci(n-2))"
   ]
  },
  {
   "cell_type": "code",
   "execution_count": 134,
   "metadata": {},
   "outputs": [
    {
     "name": "stdout",
     "output_type": "stream",
     "text": [
      "2\n"
     ]
    }
   ],
   "source": [
    "print(fibonacci(3))"
   ]
  },
  {
   "cell_type": "markdown",
   "metadata": {},
   "source": [
    "fibonacci(n) = fibonacci(n-1) + fibonacci(n-2)\n",
    "\n",
    "fibonacci(3) = fibonacci(2) + fibonacci(1) = fibonacci(1) + fibonacci(0) + fibonacci(1) = 1 + 0 + 1 = 2"
   ]
  },
  {
   "cell_type": "markdown",
   "metadata": {},
   "source": [
    "## Ejercicio 9\n",
    "Define en una única celda las siguientes funciones:\n",
    "* Función que calcule el área de un cuadrado\n",
    "* Función que calcule el area de un triángulo\n",
    "* Función que calcule el área de un círculo\n",
    "\n",
    "En otra celda, calcular el area de:\n",
    "* Dos círculos de radio 10 + un triángulo de base 3 y altura 7\n",
    "* Un cuadrado de lado = 10 + 3 círculos (uno de radio = 4 y los otros dos de radio = 6) + 5 triángulos de base = 2 + altura = 4"
   ]
  },
  {
   "cell_type": "code",
   "execution_count": 135,
   "metadata": {},
   "outputs": [],
   "source": [
    "import math\n",
    "\n",
    "def cuadrado(lado):\n",
    "    return lado * lado\n",
    "\n",
    "def triangulo(base, altura):\n",
    "    return base * altura / 2\n",
    "\n",
    "def circulo(radio):\n",
    "    return math.pi * radio ** 2\n"
   ]
  },
  {
   "cell_type": "code",
   "execution_count": 136,
   "metadata": {},
   "outputs": [
    {
     "data": {
      "text/plain": [
       "638.8185307179587"
      ]
     },
     "execution_count": 136,
     "metadata": {},
     "output_type": "execute_result"
    }
   ],
   "source": [
    "2 * circulo(10) + triangulo(3,7)"
   ]
  },
  {
   "cell_type": "code",
   "execution_count": 137,
   "metadata": {},
   "outputs": [
    {
     "data": {
      "text/plain": [
       "396.46015351590177"
      ]
     },
     "execution_count": 137,
     "metadata": {},
     "output_type": "execute_result"
    }
   ],
   "source": [
    "cuadrado(10) + circulo(4) + 2 * circulo(6) + 5 * triangulo(2,4)"
   ]
  },
  {
   "cell_type": "code",
   "execution_count": null,
   "metadata": {},
   "outputs": [],
   "source": []
  }
 ],
 "metadata": {
  "kernelspec": {
   "display_name": "Python 3.7.9 64-bit",
   "language": "python",
   "name": "python3"
  },
  "language_info": {
   "codemirror_mode": {
    "name": "ipython",
    "version": 3
   },
   "file_extension": ".py",
   "mimetype": "text/x-python",
   "name": "python",
   "nbconvert_exporter": "python",
   "pygments_lexer": "ipython3",
   "version": "3.7.9"
  },
  "vscode": {
   "interpreter": {
    "hash": "ec2a379ed5c25334a484232182c9d38ef8bd9861e2542d0c517568c4f99a9a7c"
   }
  }
 },
 "nbformat": 4,
 "nbformat_minor": 4
}
