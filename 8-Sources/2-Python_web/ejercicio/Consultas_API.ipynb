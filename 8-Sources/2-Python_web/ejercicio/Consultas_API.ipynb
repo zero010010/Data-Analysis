{
 "cells": [
  {
   "cell_type": "markdown",
   "metadata": {},
   "source": [
    "# Práctica extracción de datos.\n",
    "\n",
    "El objetivo de esta práctica es descargar todos los datos de una API. La SWAPI tiene mucha información sobre el universo star wars. El objetivo de esta práctica es hacer un código para descargar TODOS los datos de SWAPI, y guardarlos en archivos .csv\n",
    "\n",
    "Puedes usar cualquier link de esta lista para acceder a la API:\n",
    "\n",
    "https://swapi.dev/  \n",
    "http://swapi.tech/  \n",
    "https://swapi.py4e.com/"
   ]
  },
  {
   "cell_type": "markdown",
   "metadata": {},
   "source": [
    "\"name\": \"Luke Skywalker\",\n",
    "\t\"height\": \"172\",\n",
    "\t\"mass\": \"77\",\n",
    "\t\"hair_color\": \"blond\",\n",
    "\t\"skin_color\": \"fair\",\n",
    "\t\"eye_color\": \"blue\",\n",
    "\t\"birth_year\": \"19BBY\",\n",
    "\t\"gender\": \"male\",\n",
    "\t\"homeworld\": \"https://swapi.dev/api/planets/1/\",\n",
    "\t\"films\": [\n",
    "\t\t\"https://swapi.dev/api/films/2/\",\n",
    "\t\t\"https://swapi.dev/api/films/6/\",\n",
    "\t\t\"https://swapi.dev/api/films/3/\",\n",
    "\t\t\"https://swapi.dev/api/films/1/\",\n",
    "\t\t\"https://swapi.dev/api/films/7/\"\n",
    "\t],\n",
    "\t\"species\": [\n",
    "\t\t\"https://swapi.dev/api/species/1/\"\n",
    "\t],\n",
    "\t\"vehicles\": [\n",
    "\t\t\"https://swapi.dev/api/vehicles/14/\",\n",
    "\t\t\"https://swapi.dev/api/vehicles/30/\"\n",
    "\t],\n",
    "\t\"starships\": [\n",
    "\t\t\"https://swapi.dev/api/starships/12/\",\n",
    "\t\t\"https://swapi.dev/api/starships/22/\"\n",
    "\t],\n",
    "\t\"created\": \"2014-12-09T13:50:51.644000Z\",\n",
    "\t\"edited\": \"2014-12-20T21:17:56.891000Z\",\n",
    "\t\"url\": \"https://swapi.dev/api/people/1/\"\n",
    "}\n",
    "          "
   ]
  },
  {
   "cell_type": "markdown",
   "metadata": {},
   "source": []
  },
  {
   "cell_type": "code",
   "execution_count": null,
   "metadata": {},
   "outputs": [],
   "source": [
    "import requests as request\n",
    "import pandas as pd\n",
    "\n",
    "URL = https://swapi.dev/  \n",
    "\n",
    "for clave in URL_LIST.keys():  \n",
    "    llamada=request.get(URL_LIST[clave])\n",
    "    df - pd.Dataframe(llamada.json.(results)) "
   ]
  },
  {
   "cell_type": "code",
   "execution_count": null,
   "metadata": {},
   "outputs": [],
   "source": [
    "URL_LIST=respuesta.json()"
   ]
  },
  {
   "cell_type": "code",
   "execution_count": null,
   "metadata": {},
   "outputs": [],
   "source": [
    "import pandas as pd \n",
    "pd.Dataframe(respuesta2.json()['results'])"
   ]
  }
 ],
 "metadata": {
  "kernelspec": {
   "display_name": "Python 3",
   "language": "python",
   "name": "python3"
  },
  "language_info": {
   "codemirror_mode": {
    "name": "ipython",
    "version": 3
   },
   "file_extension": ".py",
   "mimetype": "text/x-python",
   "name": "python",
   "nbconvert_exporter": "python",
   "pygments_lexer": "ipython3",
   "version": "3.11.4"
  },
  "orig_nbformat": 4
 },
 "nbformat": 4,
 "nbformat_minor": 2
}
