{
 "cells": [
  {
   "cell_type": "markdown",
   "metadata": {
    "colab_type": "text",
    "id": "zWl5iuMThonQ"
   },
   "source": [
    "# Bajando datos de diferentes fuentes. Ejemplos"
   ]
  },
  {
   "cell_type": "markdown",
   "metadata": {
    "colab_type": "text",
    "id": "G8fjA0nyhonR"
   },
   "source": [
    "## Bajar datos de Bicimad"
   ]
  },
  {
   "cell_type": "code",
   "execution_count": 1,
   "metadata": {},
   "outputs": [
    {
     "name": "stdout",
     "output_type": "stream",
     "text": [
      "Requirement already satisfied: requests in /Library/Frameworks/Python.framework/Versions/3.11/lib/python3.11/site-packages (2.31.0)\n",
      "Requirement already satisfied: charset-normalizer<4,>=2 in /Library/Frameworks/Python.framework/Versions/3.11/lib/python3.11/site-packages (from requests) (3.3.2)\n",
      "Requirement already satisfied: idna<4,>=2.5 in /Library/Frameworks/Python.framework/Versions/3.11/lib/python3.11/site-packages (from requests) (3.6)\n",
      "Requirement already satisfied: urllib3<3,>=1.21.1 in /Library/Frameworks/Python.framework/Versions/3.11/lib/python3.11/site-packages (from requests) (2.1.0)\n",
      "Requirement already satisfied: certifi>=2017.4.17 in /Library/Frameworks/Python.framework/Versions/3.11/lib/python3.11/site-packages (from requests) (2023.11.17)\n",
      "\n",
      "\u001b[1m[\u001b[0m\u001b[34;49mnotice\u001b[0m\u001b[1;39;49m]\u001b[0m\u001b[39;49m A new release of pip is available: \u001b[0m\u001b[31;49m23.3.1\u001b[0m\u001b[39;49m -> \u001b[0m\u001b[32;49m23.3.2\u001b[0m\n",
      "\u001b[1m[\u001b[0m\u001b[34;49mnotice\u001b[0m\u001b[1;39;49m]\u001b[0m\u001b[39;49m To update, run: \u001b[0m\u001b[32;49mpip install --upgrade pip\u001b[0m\n",
      "Note: you may need to restart the kernel to use updated packages.\n"
     ]
    }
   ],
   "source": [
    "pip install requests"
   ]
  },
  {
   "cell_type": "code",
   "execution_count": 2,
   "metadata": {
    "colab": {},
    "colab_type": "code",
    "id": "4xGwVDZxhonR"
   },
   "outputs": [],
   "source": [
    "# Importamos librerias\n",
    "import requests\n",
    "import zipfile\n",
    "import pandas as pd"
   ]
  },
  {
   "cell_type": "code",
   "execution_count": 3,
   "metadata": {},
   "outputs": [],
   "source": [
    "url = \"https://pbs.twimg.com/profile_images/616689518968762368/rkhjKqNb.jpg\"\n",
    "image = requests.get(url)"
   ]
  },
  {
   "cell_type": "code",
   "execution_count": 4,
   "metadata": {},
   "outputs": [
    {
     "data": {
      "text/plain": [
       "<Response [200]>"
      ]
     },
     "execution_count": 4,
     "metadata": {},
     "output_type": "execute_result"
    }
   ],
   "source": [
    "image"
   ]
  },
  {
   "cell_type": "code",
   "execution_count": 5,
   "metadata": {},
   "outputs": [],
   "source": [
    "with open(\"mutenrroy.jpg\", 'wb') as f:\n",
    "    f.write(image.content)"
   ]
  },
  {
   "cell_type": "code",
   "execution_count": 6,
   "metadata": {
    "tags": []
   },
   "outputs": [],
   "source": [
    "# https://opendata.emtmadrid.es/getattachment/037ee8a5-b824-43b1-ac7b-76225c783993/201810_Usage_Bicimad.aspx\n",
    "\n",
    "\n",
    "url = 'https://opendata.emtmadrid.es/getattachment/037ee8a5-b824-43b1-ac7b-76225c783993/201810_Usage_Bicimad.aspx'\n",
    "\n",
    "r = requests.get(url)"
   ]
  },
  {
   "cell_type": "code",
   "execution_count": 7,
   "metadata": {},
   "outputs": [],
   "source": [
    "# Guardamos el zip\n",
    "filename = 'bicis.zip'\n",
    "with open(filename, 'wb') as f:\n",
    "   f.write(r.content)"
   ]
  },
  {
   "cell_type": "code",
   "execution_count": 8,
   "metadata": {
    "colab": {},
    "colab_type": "code",
    "id": "uVRFbVZrhonV"
   },
   "outputs": [],
   "source": [
    "# Extraemos lo que hay dentro\n",
    "filename = 'bicis.zip'\n",
    "with zipfile.ZipFile(filename, 'r') as zip_ref:\n",
    "    zip_ref.extractall(\".\")"
   ]
  },
  {
   "cell_type": "code",
   "execution_count": 9,
   "metadata": {
    "colab": {},
    "colab_type": "code",
    "id": "uNGffwephonX"
   },
   "outputs": [],
   "source": [
    "# Leemos los datos\n",
    "datos_bicis = pd.read_json('201810_Usage_Bicimad.json', lines=True, encoding='latin-1', nrows=10000)"
   ]
  },
  {
   "cell_type": "code",
   "execution_count": 10,
   "metadata": {
    "colab": {
     "base_uri": "https://localhost:8080/",
     "height": 309
    },
    "colab_type": "code",
    "id": "CF9u6xluhonZ",
    "outputId": "2e4e08fe-735e-4d35-ced1-2c83fc2fc743"
   },
   "outputs": [
    {
     "data": {
      "text/html": [
       "<div>\n",
       "<style scoped>\n",
       "    .dataframe tbody tr th:only-of-type {\n",
       "        vertical-align: middle;\n",
       "    }\n",
       "\n",
       "    .dataframe tbody tr th {\n",
       "        vertical-align: top;\n",
       "    }\n",
       "\n",
       "    .dataframe thead th {\n",
       "        text-align: right;\n",
       "    }\n",
       "</style>\n",
       "<table border=\"1\" class=\"dataframe\">\n",
       "  <thead>\n",
       "    <tr style=\"text-align: right;\">\n",
       "      <th></th>\n",
       "      <th>_id</th>\n",
       "      <th>user_day_code</th>\n",
       "      <th>idplug_base</th>\n",
       "      <th>track</th>\n",
       "      <th>user_type</th>\n",
       "      <th>idunplug_base</th>\n",
       "      <th>travel_time</th>\n",
       "      <th>idunplug_station</th>\n",
       "      <th>ageRange</th>\n",
       "      <th>idplug_station</th>\n",
       "      <th>unplug_hourTime</th>\n",
       "      <th>zip_code</th>\n",
       "    </tr>\n",
       "  </thead>\n",
       "  <tbody>\n",
       "    <tr>\n",
       "      <th>0</th>\n",
       "      <td>{'$oid': '5bb83a812f3843232804c20e'}</td>\n",
       "      <td>1744f53ab2816608dbad911cfd86d21d29e2780d8e5436...</td>\n",
       "      <td>18</td>\n",
       "      <td>{'type': 'FeatureCollection', 'features': [{'g...</td>\n",
       "      <td>1</td>\n",
       "      <td>2</td>\n",
       "      <td>312</td>\n",
       "      <td>54</td>\n",
       "      <td>4</td>\n",
       "      <td>133</td>\n",
       "      <td>{'$date': '2018-10-01T01:00:00.000+0200'}</td>\n",
       "      <td>28005</td>\n",
       "    </tr>\n",
       "    <tr>\n",
       "      <th>1</th>\n",
       "      <td>{'$oid': '5bb83a812f3843232804c20f'}</td>\n",
       "      <td>29b46c22d367cb8444170edb870805654b4b126659dadb...</td>\n",
       "      <td>1</td>\n",
       "      <td>{'type': 'FeatureCollection', 'features': [{'g...</td>\n",
       "      <td>1</td>\n",
       "      <td>3</td>\n",
       "      <td>280</td>\n",
       "      <td>1</td>\n",
       "      <td>0</td>\n",
       "      <td>59</td>\n",
       "      <td>{'$date': '2018-10-01T01:00:00.000+0200'}</td>\n",
       "      <td></td>\n",
       "    </tr>\n",
       "    <tr>\n",
       "      <th>2</th>\n",
       "      <td>{'$oid': '5bb83a812f3843232804c211'}</td>\n",
       "      <td>0d80203ef0ffd087c99475a82d370e977f09f0cbda57f7...</td>\n",
       "      <td>1</td>\n",
       "      <td>NaN</td>\n",
       "      <td>1</td>\n",
       "      <td>5</td>\n",
       "      <td>276</td>\n",
       "      <td>64</td>\n",
       "      <td>0</td>\n",
       "      <td>74</td>\n",
       "      <td>{'$date': '2018-10-01T01:00:00.000+0200'}</td>\n",
       "      <td></td>\n",
       "    </tr>\n",
       "    <tr>\n",
       "      <th>3</th>\n",
       "      <td>{'$oid': '5bb83a812f3843232804c212'}</td>\n",
       "      <td>b13348d8847744fd858ce3c14b773682f008792b19c0d6...</td>\n",
       "      <td>8</td>\n",
       "      <td>NaN</td>\n",
       "      <td>3</td>\n",
       "      <td>23</td>\n",
       "      <td>20</td>\n",
       "      <td>129</td>\n",
       "      <td>5</td>\n",
       "      <td>129</td>\n",
       "      <td>{'$date': '2018-10-01T01:00:00.000+0200'}</td>\n",
       "      <td></td>\n",
       "    </tr>\n",
       "    <tr>\n",
       "      <th>4</th>\n",
       "      <td>{'$oid': '5bb83a812f3843232804c213'}</td>\n",
       "      <td>7414495448ddcda88650a9b26203719453467f14c60681...</td>\n",
       "      <td>23</td>\n",
       "      <td>{'type': 'FeatureCollection', 'features': [{'g...</td>\n",
       "      <td>1</td>\n",
       "      <td>20</td>\n",
       "      <td>365</td>\n",
       "      <td>134</td>\n",
       "      <td>3</td>\n",
       "      <td>127</td>\n",
       "      <td>{'$date': '2018-10-01T01:00:00.000+0200'}</td>\n",
       "      <td>28005</td>\n",
       "    </tr>\n",
       "  </tbody>\n",
       "</table>\n",
       "</div>"
      ],
      "text/plain": [
       "                                    _id  \\\n",
       "0  {'$oid': '5bb83a812f3843232804c20e'}   \n",
       "1  {'$oid': '5bb83a812f3843232804c20f'}   \n",
       "2  {'$oid': '5bb83a812f3843232804c211'}   \n",
       "3  {'$oid': '5bb83a812f3843232804c212'}   \n",
       "4  {'$oid': '5bb83a812f3843232804c213'}   \n",
       "\n",
       "                                       user_day_code  idplug_base  \\\n",
       "0  1744f53ab2816608dbad911cfd86d21d29e2780d8e5436...           18   \n",
       "1  29b46c22d367cb8444170edb870805654b4b126659dadb...            1   \n",
       "2  0d80203ef0ffd087c99475a82d370e977f09f0cbda57f7...            1   \n",
       "3  b13348d8847744fd858ce3c14b773682f008792b19c0d6...            8   \n",
       "4  7414495448ddcda88650a9b26203719453467f14c60681...           23   \n",
       "\n",
       "                                               track  user_type  \\\n",
       "0  {'type': 'FeatureCollection', 'features': [{'g...          1   \n",
       "1  {'type': 'FeatureCollection', 'features': [{'g...          1   \n",
       "2                                                NaN          1   \n",
       "3                                                NaN          3   \n",
       "4  {'type': 'FeatureCollection', 'features': [{'g...          1   \n",
       "\n",
       "   idunplug_base  travel_time  idunplug_station  ageRange  idplug_station  \\\n",
       "0              2          312                54         4             133   \n",
       "1              3          280                 1         0              59   \n",
       "2              5          276                64         0              74   \n",
       "3             23           20               129         5             129   \n",
       "4             20          365               134         3             127   \n",
       "\n",
       "                             unplug_hourTime zip_code  \n",
       "0  {'$date': '2018-10-01T01:00:00.000+0200'}    28005  \n",
       "1  {'$date': '2018-10-01T01:00:00.000+0200'}           \n",
       "2  {'$date': '2018-10-01T01:00:00.000+0200'}           \n",
       "3  {'$date': '2018-10-01T01:00:00.000+0200'}           \n",
       "4  {'$date': '2018-10-01T01:00:00.000+0200'}    28005  "
      ]
     },
     "execution_count": 10,
     "metadata": {},
     "output_type": "execute_result"
    }
   ],
   "source": [
    "# Vemos qué pinta tienen\n",
    "datos_bicis.head()"
   ]
  },
  {
   "cell_type": "code",
   "execution_count": 11,
   "metadata": {},
   "outputs": [
    {
     "data": {
      "text/plain": [
       "0       {'type': 'FeatureCollection', 'features': [{'g...\n",
       "1       {'type': 'FeatureCollection', 'features': [{'g...\n",
       "2                                                     NaN\n",
       "3                                                     NaN\n",
       "4       {'type': 'FeatureCollection', 'features': [{'g...\n",
       "                              ...                        \n",
       "9995    {'type': 'FeatureCollection', 'features': [{'g...\n",
       "9996                                                  NaN\n",
       "9997    {'type': 'FeatureCollection', 'features': [{'g...\n",
       "9998                                                  NaN\n",
       "9999    {'type': 'FeatureCollection', 'features': [{'g...\n",
       "Name: track, Length: 10000, dtype: object"
      ]
     },
     "execution_count": 11,
     "metadata": {},
     "output_type": "execute_result"
    }
   ],
   "source": [
    "datos_bicis['track']"
   ]
  },
  {
   "cell_type": "markdown",
   "metadata": {},
   "source": [
    "# Acceso a archivos de la pagina de datos.gob.es\n",
    "Uno de los mayores catálogos de información pública descargable en España"
   ]
  },
  {
   "cell_type": "code",
   "execution_count": null,
   "metadata": {},
   "outputs": [],
   "source": []
  },
  {
   "cell_type": "code",
   "execution_count": null,
   "metadata": {},
   "outputs": [],
   "source": []
  },
  {
   "cell_type": "code",
   "execution_count": null,
   "metadata": {
    "collapsed": true,
    "jupyter": {
     "outputs_hidden": true
    },
    "tags": []
   },
   "outputs": [],
   "source": [
    "# https://datos.gob.es/es/catalogo/ea0003337-principales-indicadores-de-sostenibilidad1\n",
    "\n",
    "url = \"https://data.renfe.com/dataset/928d911e-00ca-437b-be3f-068fc1f97800/resource/63d285e8-9f52-410b-8412-8a8c26f5ddb3/download/consumo-de-agua-y-materiales.csv\"\n",
    "# url = \"https://estadisticas.mecd.gob.es/EducaJaxiPx/files/_px/es/csv_c/Universitaria/Financiacion_gasto/2018/ingresos/l0/Pres_Ingr_PrevDRN_CA.px\"\n",
    "datos = pd.read_csv(url, sep = ';')\n",
    "datos"
   ]
  },
  {
   "cell_type": "code",
   "execution_count": null,
   "metadata": {},
   "outputs": [],
   "source": [
    "df = pd.read_csv('Pres_Ingr_PrevDRN_CAsc.csv', sep = ';', header = 5, encoding = 'latin-1')"
   ]
  },
  {
   "cell_type": "code",
   "execution_count": null,
   "metadata": {},
   "outputs": [],
   "source": [
    "df"
   ]
  },
  {
   "cell_type": "code",
   "execution_count": null,
   "metadata": {},
   "outputs": [],
   "source": [
    "datos.columns"
   ]
  },
  {
   "cell_type": "code",
   "execution_count": null,
   "metadata": {},
   "outputs": [],
   "source": [
    "url = 'https://opendata.euskadi.eus/contenidos/estadistica/tablas_essec_2020/es_tblestad/data/2016-2019_Tablas_es-.xlsx'\n",
    "datos_pvasco = pd.read_excel(url, sheet_name='P3', header=2)\n",
    "datos_pvasco"
   ]
  },
  {
   "cell_type": "code",
   "execution_count": null,
   "metadata": {},
   "outputs": [],
   "source": [
    "lista_hojas = ['P1','P2','P3']\n",
    "\n",
    "for hoja in lista_hojas:\n",
    "    datos_pvasco = pd.read_excel(url, sheet_name=hoja, header=2)\n",
    "    datos_pvasco.to_csv('Pais_vasco_hoja_' + str(hoja) + '.csv')"
   ]
  },
  {
   "cell_type": "code",
   "execution_count": null,
   "metadata": {
    "collapsed": true,
    "jupyter": {
     "outputs_hidden": true
    },
    "tags": []
   },
   "outputs": [],
   "source": [
    "import seaborn as sns\n",
    "sns.barplot(data = datos, x = 'Año', y = 'Aceites/grasas  (kg)')"
   ]
  },
  {
   "cell_type": "markdown",
   "metadata": {
    "colab_type": "text",
    "id": "GnScDfXghonv"
   },
   "source": [
    "## Bajando datos de la calidad del aire"
   ]
  },
  {
   "cell_type": "markdown",
   "metadata": {
    "colab_type": "text",
    "id": "oQL_gonKhonw",
    "tags": []
   },
   "source": [
    "También existe un dataset en Kaggle, pero vamos a ver un ejemplo"
   ]
  },
  {
   "cell_type": "code",
   "execution_count": null,
   "metadata": {
    "colab": {},
    "colab_type": "code",
    "id": "OPyVBu24honw"
   },
   "outputs": [],
   "source": [
    "import pandas as pd\n",
    "import requests\n",
    "import io\n",
    "import csv\n",
    "\n",
    "url2 = \"http://www.mambiente.munimadrid.es/opendata/horario.txt\"\n",
    "\n",
    "datos=pd.read_csv(url2, header=None)#.content\n"
   ]
  },
  {
   "cell_type": "code",
   "execution_count": null,
   "metadata": {
    "colab": {},
    "colab_type": "code",
    "collapsed": true,
    "id": "GTd8NHDLhony",
    "jupyter": {
     "outputs_hidden": true
    },
    "outputId": "bc75b9c6-cd36-4c39-ab2a-63dca3342e7a",
    "tags": []
   },
   "outputs": [],
   "source": [
    "datos"
   ]
  },
  {
   "cell_type": "markdown",
   "metadata": {},
   "source": [
    "# OpenStreetMap"
   ]
  },
  {
   "cell_type": "code",
   "execution_count": null,
   "metadata": {},
   "outputs": [
    {
     "name": "stdout",
     "output_type": "stream",
     "text": [
      "<Response [200]>\n"
     ]
    }
   ],
   "source": [
    "# Amenities\n",
    "# https://wiki.openstreetmap.org/wiki/Key:amenity\n",
    "\n",
    "import requests\n",
    "import json\n",
    "import pandas as pd\n",
    "overpass_url = \"http://overpass-api.de/api/interpreter\"\n",
    "\n",
    "overpass_query = \"\"\"\n",
    "[out:json];\n",
    "node[\"amenity\"=\"cafe\"]\n",
    "  (40.420801, -3.694702,40.423754, -3.688167); \n",
    "out;\n",
    "\"\"\"\n",
    "response = requests.get(overpass_url, \n",
    "                        params={'data': overpass_query})\n",
    "print(response)\n",
    "data = response.json()\n",
    "# jason is a python dictionary, its mutable "
   ]
  },
  {
   "cell_type": "code",
   "execution_count": null,
   "metadata": {},
   "outputs": [
    {
     "data": {
      "text/plain": [
       "b'{\"count\":752,\"next\":\"https://ll.thespacedevs.com/2.2.0/astronaut/?limit=10&offset=10\",\"previous\":null,\"results\":[{\"id\":1,\"url\":\"https://ll.thespacedevs.com/2.2.0/astronaut/1/\",\"name\":\"Thomas Pesquet\",\"status\":{\"id\":1,\"name\":\"Active\"},\"type\":{\"id\":2,\"name\":\"Government\"},\"in_space\":false,\"time_in_space\":\"P396DT11H33M45S\",\"eva_time\":\"P1DT15H54M\",\"age\":45,\"date_of_birth\":\"1978-02-27\",\"date_of_death\":null,\"nationality\":\"French\",\"bio\":\"Thomas Gautier Pesquet is a French aerospace engineer, pilot, and European Space Agency astronaut. Pesquet was selected by ESA as a candidate in May 2009, and he successfully completed his basic training in November 2010. From November 2016 to June 2017, Pesquet was part of Expeditions 50 and 51 on the International Space Station as a flight engineer.\",\"twitter\":\"https://twitter.com/Thom_astro\",\"instagram\":\"https://instagram.com/thom_astro\",\"wiki\":\"https://en.wikipedia.org/wiki/Thomas_Pesquet\",\"agency\":{\"id\":27,\"url\":\"https://ll.thespacedevs.com/2.2.0/agencies/27/\",\"name\":\"European Space Agency\",\"featured\":false,\"type\":\"Multinational\",\"country_code\":\"AUT,BEL,CZE,DNK,FIN,FRA,DEU,GRC,IRE,ITA,LUZ,NLD,NOR,POL,PRT,ROU,ESP,SWE,CHE,GBR\",\"abbrev\":\"ESA\",\"description\":\"The European Space Agency is an intergovernmental organisation of 22 member states. Established in 1975 and headquartered in Paris, France, ESA has a worldwide staff of about 2,000 employees.\\\\r\\\\n\\\\r\\\\nESA\\'s space flight programme includes human spaceflight (mainly through participation in the International Space Station program); the launch and operation of unmanned exploration missions to other planets and the Moon; Earth observation, science and telecommunication; designing launch vehicles; and maintaining a major spaceport, the Guiana Space Centre at Kourou, French Guiana.\",\"administrator\":\"Director General: Josef Aschbacher\",\"founding_year\":\"1975\",\"launchers\":\"\",\"spacecraft\":\"\",\"parent\":null,\"image_url\":null,\"logo_url\":\"https://spacelaunchnow-prod-east.nyc3.digitaloceanspaces.com/media/logo/european2520space2520agency_logo_20221130101442.png\"},\"profile_image\":\"https://spacelaunchnow-prod-east.nyc3.digitaloceanspaces.com/media/astronaut_images/thomas2520pesquet_image_20200102120546.jpeg\",\"profile_image_thumbnail\":\"https://spacelaunchnow-prod-east.nyc3.digitaloceanspaces.com/media/astronaut_images/thomas_pesquet_thumbnail_20220911033657.jpeg\",\"flights_count\":2,\"landings_count\":2,\"spacewalks_count\":6,\"last_flight\":\"2021-04-23T09:49:02Z\",\"first_flight\":\"2016-11-17T20:20:13Z\"},{\"id\":2,\"url\":\"https://ll.thespacedevs.com/2.2.0/astronaut/2/\",\"name\":\"Claude Nicollier\",\"status\":{\"id\":2,\"name\":\"Retired\"},\"type\":{\"id\":2,\"name\":\"Government\"},\"in_space\":false,\"time_in_space\":\"P42DT12H3M12S\",\"eva_time\":\"PT8H10M\",\"age\":79,\"date_of_birth\":\"1944-09-02\",\"date_of_death\":null,\"nationality\":\"Swiss\",\"bio\":\"Claude Nicollier is the first astronaut from Switzerland. He has flown on four Space Shuttle missions. His first spaceflight (STS-46) was in 1992, and his final spaceflight (STS-103) was in 1999. He took part in two servicing missions to the Hubble Space Telescope (called STS-61 and STS-103). During his final spaceflight he participated in a spacewalk, becoming the first European Space Agency astronaut to do so during a Space Shuttle mission. In 2000 he was assigned to the Astronaut Office Extravehicular Activity Branch, while maintaining a position as Lead ESA Astronaut in Houston. Nicollier retired from ESA in April 2007.\",\"twitter\":\"https://twitter.com/Astroclaude\",\"instagram\":null,\"wiki\":\"https://en.wikipedia.org/wiki/Claude_Nicollier\",\"agency\":{\"id\":27,\"url\":\"https://ll.thespacedevs.com/2.2.0/agencies/27/\",\"name\":\"European Space Agency\",\"featured\":false,\"type\":\"Multinational\",\"country_code\":\"AUT,BEL,CZE,DNK,FIN,FRA,DEU,GRC,IRE,ITA,LUZ,NLD,NOR,POL,PRT,ROU,ESP,SWE,CHE,GBR\",\"abbrev\":\"ESA\",\"description\":\"The European Space Agency is an intergovernmental organisation of 22 member states. Established in 1975 and headquartered in Paris, France, ESA has a worldwide staff of about 2,000 employees.\\\\r\\\\n\\\\r\\\\nESA\\'s space flight programme includes human spaceflight (mainly through participation in the International Space Station program); the launch and operation of unmanned exploration missions to other planets and the Moon; Earth observation, science and telecommunication; designing launch vehicles; and maintaining a major spaceport, the Guiana Space Centre at Kourou, French Guiana.\",\"administrator\":\"Director General: Josef Aschbacher\",\"founding_year\":\"1975\",\"launchers\":\"\",\"spacecraft\":\"\",\"parent\":null,\"image_url\":null,\"logo_url\":\"https://spacelaunchnow-prod-east.nyc3.digitaloceanspaces.com/media/logo/european2520space2520agency_logo_20221130101442.png\"},\"profile_image\":\"https://spacelaunchnow-prod-east.nyc3.digitaloceanspaces.com/media/astronaut_images/claude2520nicollier_image_20181127203218.jpg\",\"profile_image_thumbnail\":\"https://spacelaunchnow-prod-east.nyc3.digitaloceanspaces.com/media/astronaut_images/claude_nicollie_thumbnail_20220911033747.jpeg\",\"flights_count\":4,\"landings_count\":4,\"spacewalks_count\":1,\"last_flight\":\"1999-12-20T00:50:00Z\",\"first_flight\":\"1992-07-31T13:56:48Z\"},{\"id\":3,\"url\":\"https://ll.thespacedevs.com/2.2.0/astronaut/3/\",\"name\":\"Tim Peake\",\"status\":{\"id\":2,\"name\":\"Retired\"},\"type\":{\"id\":2,\"name\":\"Government\"},\"in_space\":false,\"time_in_space\":\"P185DT22H11M51S\",\"eva_time\":\"PT4H43M\",\"age\":51,\"date_of_birth\":\"1972-04-07\",\"date_of_death\":null,\"nationality\":\"British\",\"bio\":\"Major Timothy Nigel Peake CMG is a British Army Air Corps officer, former European Space Agency astronaut and International Space Station (ISS) crew member.  He is the first British ESA astronaut, the second astronaut to bear a flag of the United Kingdom patch, the sixth person born in the United Kingdom to go on board the International Space Station and the seventh UK-born person in space. He began the ESA\\'s intensive astronaut basic training course in September 2009 and graduated on 22 November 2010\",\"twitter\":\"https://twitter.com/astro_timpeake\",\"instagram\":\"https://www.instagram.com/astro_timpeake/\",\"wiki\":\"https://en.wikipedia.org/wiki/Tim_Peake\",\"agency\":{\"id\":27,\"url\":\"https://ll.thespacedevs.com/2.2.0/agencies/27/\",\"name\":\"European Space Agency\",\"featured\":false,\"type\":\"Multinational\",\"country_code\":\"AUT,BEL,CZE,DNK,FIN,FRA,DEU,GRC,IRE,ITA,LUZ,NLD,NOR,POL,PRT,ROU,ESP,SWE,CHE,GBR\",\"abbrev\":\"ESA\",\"description\":\"The European Space Agency is an intergovernmental organisation of 22 member states. Established in 1975 and headquartered in Paris, France, ESA has a worldwide staff of about 2,000 employees.\\\\r\\\\n\\\\r\\\\nESA\\'s space flight programme includes human spaceflight (mainly through participation in the International Space Station program); the launch and operation of unmanned exploration missions to other planets and the Moon; Earth observation, science and telecommunication; designing launch vehicles; and maintaining a major spaceport, the Guiana Space Centre at Kourou, French Guiana.\",\"administrator\":\"Director General: Josef Aschbacher\",\"founding_year\":\"1975\",\"launchers\":\"\",\"spacecraft\":\"\",\"parent\":null,\"image_url\":null,\"logo_url\":\"https://spacelaunchnow-prod-east.nyc3.digitaloceanspaces.com/media/logo/european2520space2520agency_logo_20221130101442.png\"},\"profile_image\":\"https://spacelaunchnow-prod-east.nyc3.digitaloceanspaces.com/media/astronaut_images/tim_peake_image_20230120154350.jpg\",\"profile_image_thumbnail\":\"https://spacelaunchnow-prod-east.nyc3.digitaloceanspaces.com/media/astronaut_images/tim_peake_thumbnail_20230120154351.jpeg\",\"flights_count\":1,\"landings_count\":1,\"spacewalks_count\":1,\"last_flight\":\"2015-12-15T11:03:09Z\",\"first_flight\":\"2015-12-15T11:03:09Z\"},{\"id\":4,\"url\":\"https://ll.thespacedevs.com/2.2.0/astronaut/4/\",\"name\":\"Buzz Aldrin\",\"status\":{\"id\":2,\"name\":\"Retired\"},\"type\":{\"id\":2,\"name\":\"Government\"},\"in_space\":false,\"time_in_space\":\"P12DT1H52M27S\",\"eva_time\":\"PT8H1M40S\",\"age\":93,\"date_of_birth\":\"1930-01-20\",\"date_of_death\":null,\"nationality\":\"American\",\"bio\":\"Buzz Aldrin; born Edwin Eugene Aldrin Jr.; is an American engineer, former astronaut, and fighter pilot.\\\\r\\\\nAs Lunar Module Pilot on the Apollo 11 mission, he and mission commander Neil Armstrong were the first two humans to land on the Moon.\",\"twitter\":\"https://twitter.com/TheRealBuzz\",\"instagram\":\"https://www.instagram.com/drbuzzaldrin/\",\"wiki\":\"https://en.wikipedia.org/wiki/Buzz_Aldrin\",\"agency\":{\"id\":44,\"url\":\"https://ll.thespacedevs.com/2.2.0/agencies/44/\",\"name\":\"National Aeronautics and Space Administration\",\"featured\":true,\"type\":\"Government\",\"country_code\":\"USA\",\"abbrev\":\"NASA\",\"description\":\"The National Aeronautics and Space Administration is an independent agency of the executive branch of the United States federal government responsible for the civilian space program, as well as aeronautics and aerospace research. NASA have many launch facilities but most are inactive. The most commonly used pad will be LC-39B at Kennedy Space Center in Florida.\",\"administrator\":\"Administrator: Bill Nelson\",\"founding_year\":\"1958\",\"launchers\":\"Space Shuttle | SLS\",\"spacecraft\":\"Orion\",\"parent\":null,\"image_url\":\"https://spacelaunchnow-prod-east.nyc3.digitaloceanspaces.com/media/agency_images/national2520aeronautics2520and2520space2520administration_image_20190207032448.jpeg\",\"logo_url\":\"https://spacelaunchnow-prod-east.nyc3.digitaloceanspaces.com/media/logo/national2520aeronautics2520and2520space2520administration_logo_20190207032448.png\"},\"profile_image\":\"https://spacelaunchnow-prod-east.nyc3.digitaloceanspaces.com/media/astronaut_images/buzz_aldrin_image_20220911034547.jpeg\",\"profile_image_thumbnail\":\"https://spacelaunchnow-prod-east.nyc3.digitaloceanspaces.com/media/astronaut_images/buzz_aldrin_thumbnail_20220911034547.jpeg\",\"flights_count\":2,\"landings_count\":2,\"spacewalks_count\":4,\"last_flight\":\"1969-07-16T13:32:00Z\",\"first_flight\":\"1966-11-11T20:46:33Z\"},{\"id\":5,\"url\":\"https://ll.thespacedevs.com/2.2.0/astronaut/5/\",\"name\":\"Chris Hadfield\",\"status\":{\"id\":2,\"name\":\"Retired\"},\"type\":{\"id\":2,\"name\":\"Government\"},\"in_space\":false,\"time_in_space\":\"P165DT16H19M\",\"eva_time\":\"PT14H50M\",\"age\":64,\"date_of_birth\":\"1959-08-29\",\"date_of_death\":null,\"nationality\":\"Canadian\",\"bio\":\"Chris Austin Hadfield is a Canadian retired astronaut, engineer, and former Royal Canadian Air Force fighter pilot.\\\\r\\\\nThe first Canadian to walk in space, Hadfield has flown two space shuttle missions and served as commander of the International Space Station.\",\"twitter\":\"https://twitter.com/Cmdr_Hadfield\",\"instagram\":\"https://www.instagram.com/colchrishadfield/\",\"wiki\":\"https://en.wikipedia.org/wiki/Chris_Hadfield\",\"agency\":{\"id\":16,\"url\":\"https://ll.thespacedevs.com/2.2.0/agencies/16/\",\"name\":\"Canadian Space Agency\",\"featured\":false,\"type\":\"Government\",\"country_code\":\"CAN\",\"abbrev\":\"CSA\",\"description\":\"The Canadian Space Agency was established by the Canadian Space Agency Act which received Royal Assent on May 10, 1990. \\\\r\\\\n\\\\r\\\\nThe Canadian space program is administered by the Canadian Space Agency. Canada has contributed technology, expertise and personnel to the world space effort, especially in collaboration with ESA and NASA. In addition to its astronauts and satellites, some of the most notable Canadian technological contributions to space exploration include the Canadarm on the Space Shuttle and Canadarm2 on the International Space Station.\",\"administrator\":\"President: Lisa Campbell\",\"founding_year\":\"1990\",\"launchers\":\"\",\"spacecraft\":\"\",\"parent\":null,\"image_url\":null,\"logo_url\":\"https://spacelaunchnow-prod-east.nyc3.digitaloceanspaces.com/media/logo/canadian2520space2520agency_logo_20231122160211.png\"},\"profile_image\":\"https://spacelaunchnow-prod-east.nyc3.digitaloceanspaces.com/media/astronaut_images/chris_hadfield_image_20220911034200.jpeg\",\"profile_image_thumbnail\":\"https://spacelaunchnow-prod-east.nyc3.digitaloceanspaces.com/media/astronaut_images/chris_hadfield_thumbnail_20220911034200.jpeg\",\"flights_count\":3,\"landings_count\":3,\"spacewalks_count\":2,\"last_flight\":\"2012-12-19T12:12:35Z\",\"first_flight\":\"1995-11-12T12:30:43Z\"},{\"id\":6,\"url\":\"https://ll.thespacedevs.com/2.2.0/astronaut/6/\",\"name\":\"David Saint-Jacques\",\"status\":{\"id\":1,\"name\":\"Active\"},\"type\":{\"id\":2,\"name\":\"Government\"},\"in_space\":false,\"time_in_space\":\"P203DT12H28M8S\",\"eva_time\":\"PT6H29M\",\"age\":54,\"date_of_birth\":\"1970-01-06\",\"date_of_death\":null,\"nationality\":\"Canadian\",\"bio\":\"David Saint-Jacques is a Canadian astronaut with the Canadian Space Agency (CSA).\\\\r\\\\nHe was also an engineer, an astrophysicist, and a physician prior to joining the CSA.\\\\r\\\\nHe was selected to join the CSA in the 2009 CSA selection along with Jeremy Hansen.\",\"twitter\":\"https://twitter.com/Astro_DavidS\",\"instagram\":\"https://www.instagram.com/astrodavids/\",\"wiki\":\"https://en.wikipedia.org/wiki/David_Saint-Jacques\",\"agency\":{\"id\":16,\"url\":\"https://ll.thespacedevs.com/2.2.0/agencies/16/\",\"name\":\"Canadian Space Agency\",\"featured\":false,\"type\":\"Government\",\"country_code\":\"CAN\",\"abbrev\":\"CSA\",\"description\":\"The Canadian Space Agency was established by the Canadian Space Agency Act which received Royal Assent on May 10, 1990. \\\\r\\\\n\\\\r\\\\nThe Canadian space program is administered by the Canadian Space Agency. Canada has contributed technology, expertise and personnel to the world space effort, especially in collaboration with ESA and NASA. In addition to its astronauts and satellites, some of the most notable Canadian technological contributions to space exploration include the Canadarm on the Space Shuttle and Canadarm2 on the International Space Station.\",\"administrator\":\"President: Lisa Campbell\",\"founding_year\":\"1990\",\"launchers\":\"\",\"spacecraft\":\"\",\"parent\":null,\"image_url\":null,\"logo_url\":\"https://spacelaunchnow-prod-east.nyc3.digitaloceanspaces.com/media/logo/canadian2520space2520agency_logo_20231122160211.png\"},\"profile_image\":\"https://spacelaunchnow-prod-east.nyc3.digitaloceanspaces.com/media/astronaut_images/david_saint-jac_image_20220911034207.jpeg\",\"profile_image_thumbnail\":\"https://spacelaunchnow-prod-east.nyc3.digitaloceanspaces.com/media/astronaut_images/david_saint-jac_thumbnail_20220911034208.jpeg\",\"flights_count\":1,\"landings_count\":1,\"spacewalks_count\":1,\"last_flight\":\"2018-12-03T11:31:52Z\",\"first_flight\":\"2018-12-03T11:31:52Z\"},{\"id\":7,\"url\":\"https://ll.thespacedevs.com/2.2.0/astronaut/7/\",\"name\":\"Anne McClain\",\"status\":{\"id\":1,\"name\":\"Active\"},\"type\":{\"id\":2,\"name\":\"Government\"},\"in_space\":false,\"time_in_space\":\"P203DT12H28M8S\",\"eva_time\":\"PT13H8M\",\"age\":44,\"date_of_birth\":\"1979-06-07\",\"date_of_death\":null,\"nationality\":\"American\",\"bio\":\"Anne Charlotte McClain is a lieutenant colonel in the U.S. Army currently assigned to NASA Astronaut Group 21.\",\"twitter\":\"https://twitter.com/AstroAnnimal\",\"instagram\":null,\"wiki\":\"https://en.wikipedia.org/wiki/Anne_McClain\",\"agency\":{\"id\":44,\"url\":\"https://ll.thespacedevs.com/2.2.0/agencies/44/\",\"name\":\"National Aeronautics and Space Administration\",\"featured\":true,\"type\":\"Government\",\"country_code\":\"USA\",\"abbrev\":\"NASA\",\"description\":\"The National Aeronautics and Space Administration is an independent agency of the executive branch of the United States federal government responsible for the civilian space program, as well as aeronautics and aerospace research. NASA have many launch facilities but most are inactive. The most commonly used pad will be LC-39B at Kennedy Space Center in Florida.\",\"administrator\":\"Administrator: Bill Nelson\",\"founding_year\":\"1958\",\"launchers\":\"Space Shuttle | SLS\",\"spacecraft\":\"Orion\",\"parent\":null,\"image_url\":\"https://spacelaunchnow-prod-east.nyc3.digitaloceanspaces.com/media/agency_images/national2520aeronautics2520and2520space2520administration_image_20190207032448.jpeg\",\"logo_url\":\"https://spacelaunchnow-prod-east.nyc3.digitaloceanspaces.com/media/logo/national2520aeronautics2520and2520space2520administration_logo_20190207032448.png\"},\"profile_image\":\"https://spacelaunchnow-prod-east.nyc3.digitaloceanspaces.com/media/astronaut_images/anne2520mcclain_image_20181127210625.jpg\",\"profile_image_thumbnail\":\"https://spacelaunchnow-prod-east.nyc3.digitaloceanspaces.com/media/astronaut_images/anne_mcclain_thumbnail_20220911034153.jpeg\",\"flights_count\":1,\"landings_count\":1,\"spacewalks_count\":2,\"last_flight\":\"2018-12-03T11:31:52Z\",\"first_flight\":\"2018-12-03T11:31:52Z\"},{\"id\":8,\"url\":\"https://ll.thespacedevs.com/2.2.0/astronaut/8/\",\"name\":\"Andrew R. Morgan\",\"status\":{\"id\":1,\"name\":\"Active\"},\"type\":{\"id\":2,\"name\":\"Government\"},\"in_space\":false,\"time_in_space\":\"P271DT12H48M22S\",\"eva_time\":\"P1DT21H48M\",\"age\":47,\"date_of_birth\":\"1976-02-05\",\"date_of_death\":null,\"nationality\":\"American\",\"bio\":\"Andrew Richard \\\\\"Drew\\\\\" Morgan is a NASA astronaut from the class of 2013.\",\"twitter\":\"https://twitter.com/AstroDrewMorgan\",\"instagram\":\"https://www.instagram.com/astrodrewmorgan/\",\"wiki\":\"https://en.wikipedia.org/wiki/Andrew_R._Morgan\",\"agency\":{\"id\":44,\"url\":\"https://ll.thespacedevs.com/2.2.0/agencies/44/\",\"name\":\"National Aeronautics and Space Administration\",\"featured\":true,\"type\":\"Government\",\"country_code\":\"USA\",\"abbrev\":\"NASA\",\"description\":\"The National Aeronautics and Space Administration is an independent agency of the executive branch of the United States federal government responsible for the civilian space program, as well as aeronautics and aerospace research. NASA have many launch facilities but most are inactive. The most commonly used pad will be LC-39B at Kennedy Space Center in Florida.\",\"administrator\":\"Administrator: Bill Nelson\",\"founding_year\":\"1958\",\"launchers\":\"Space Shuttle | SLS\",\"spacecraft\":\"Orion\",\"parent\":null,\"image_url\":\"https://spacelaunchnow-prod-east.nyc3.digitaloceanspaces.com/media/agency_images/national2520aeronautics2520and2520space2520administration_image_20190207032448.jpeg\",\"logo_url\":\"https://spacelaunchnow-prod-east.nyc3.digitaloceanspaces.com/media/logo/national2520aeronautics2520and2520space2520administration_logo_20190207032448.png\"},\"profile_image\":\"https://spacelaunchnow-prod-east.nyc3.digitaloceanspaces.com/media/astronaut_images/andrew_r._morga_image_20220911034204.jpeg\",\"profile_image_thumbnail\":\"https://spacelaunchnow-prod-east.nyc3.digitaloceanspaces.com/media/astronaut_images/andrew_r._morga_thumbnail_20220911034204.jpeg\",\"flights_count\":1,\"landings_count\":1,\"spacewalks_count\":7,\"last_flight\":\"2019-07-20T16:28:21Z\",\"first_flight\":\"2019-07-20T16:28:21Z\"},{\"id\":9,\"url\":\"https://ll.thespacedevs.com/2.2.0/astronaut/9/\",\"name\":\"Nick Hague\",\"status\":{\"id\":1,\"name\":\"Active\"},\"type\":{\"id\":2,\"name\":\"Government\"},\"in_space\":false,\"time_in_space\":\"P202DT16H3M37S\",\"eva_time\":\"PT19H56M\",\"age\":48,\"date_of_birth\":\"1975-09-24\",\"date_of_death\":null,\"nationality\":\"American\",\"bio\":\"Tyler Nicklaus Hague is an American Flight Test Engineer and a NASA astronaut of the class of 2013.\\\\r\\\\nSelected to be a flight engineer of Expedition 57 / 58 to the International Space Station, he launched on board Soyuz MS-10, which aborted shortly after launch on October 11, 2018.\",\"twitter\":\"https://twitter.com/AstroHague\",\"instagram\":\"https://www.instagram.com/astrohague/\",\"wiki\":\"https://en.wikipedia.org/wiki/Nick_Hague\",\"agency\":{\"id\":44,\"url\":\"https://ll.thespacedevs.com/2.2.0/agencies/44/\",\"name\":\"National Aeronautics and Space Administration\",\"featured\":true,\"type\":\"Government\",\"country_code\":\"USA\",\"abbrev\":\"NASA\",\"description\":\"The National Aeronautics and Space Administration is an independent agency of the executive branch of the United States federal government responsible for the civilian space program, as well as aeronautics and aerospace research. NASA have many launch facilities but most are inactive. The most commonly used pad will be LC-39B at Kennedy Space Center in Florida.\",\"administrator\":\"Administrator: Bill Nelson\",\"founding_year\":\"1958\",\"launchers\":\"Space Shuttle | SLS\",\"spacecraft\":\"Orion\",\"parent\":null,\"image_url\":\"https://spacelaunchnow-prod-east.nyc3.digitaloceanspaces.com/media/agency_images/national2520aeronautics2520and2520space2520administration_image_20190207032448.jpeg\",\"logo_url\":\"https://spacelaunchnow-prod-east.nyc3.digitaloceanspaces.com/media/logo/national2520aeronautics2520and2520space2520administration_logo_20190207032448.png\"},\"profile_image\":\"https://spacelaunchnow-prod-east.nyc3.digitaloceanspaces.com/media/astronaut_images/nick_hague_image_20220911034312.jpeg\",\"profile_image_thumbnail\":\"https://spacelaunchnow-prod-east.nyc3.digitaloceanspaces.com/media/astronaut_images/nick_hague_thumbnail_20220911034312.jpeg\",\"flights_count\":2,\"landings_count\":2,\"spacewalks_count\":3,\"last_flight\":\"2019-03-14T19:14:08Z\",\"first_flight\":\"2018-10-11T08:40:15Z\"},{\"id\":10,\"url\":\"https://ll.thespacedevs.com/2.2.0/astronaut/10/\",\"name\":\"Terry W. Virts\",\"status\":{\"id\":2,\"name\":\"Retired\"},\"type\":{\"id\":2,\"name\":\"Government\"},\"in_space\":false,\"time_in_space\":\"P213DT10H50M46S\",\"eva_time\":\"PT19H2M\",\"age\":56,\"date_of_birth\":\"1967-12-01\",\"date_of_death\":null,\"nationality\":\"American\",\"bio\":\"Terry W. Virts Jr. is a former NASA astronaut, and Colonel in the United States Air Force.\",\"twitter\":\"https://twitter.com/AstroTerry\",\"instagram\":\"https://www.instagram.com/astro_terry/\",\"wiki\":\"https://en.wikipedia.org/wiki/Terry_W._Virts\",\"agency\":{\"id\":44,\"url\":\"https://ll.thespacedevs.com/2.2.0/agencies/44/\",\"name\":\"National Aeronautics and Space Administration\",\"featured\":true,\"type\":\"Government\",\"country_code\":\"USA\",\"abbrev\":\"NASA\",\"description\":\"The National Aeronautics and Space Administration is an independent agency of the executive branch of the United States federal government responsible for the civilian space program, as well as aeronautics and aerospace research. NASA have many launch facilities but most are inactive. The most commonly used pad will be LC-39B at Kennedy Space Center in Florida.\",\"administrator\":\"Administrator: Bill Nelson\",\"founding_year\":\"1958\",\"launchers\":\"Space Shuttle | SLS\",\"spacecraft\":\"Orion\",\"parent\":null,\"image_url\":\"https://spacelaunchnow-prod-east.nyc3.digitaloceanspaces.com/media/agency_images/national2520aeronautics2520and2520space2520administration_image_20190207032448.jpeg\",\"logo_url\":\"https://spacelaunchnow-prod-east.nyc3.digitaloceanspaces.com/media/logo/national2520aeronautics2520and2520space2520administration_logo_20190207032448.png\"},\"profile_image\":\"https://spacelaunchnow-prod-east.nyc3.digitaloceanspaces.com/media/astronaut_images/terry_w._virts_image_20220911033815.jpeg\",\"profile_image_thumbnail\":\"https://spacelaunchnow-prod-east.nyc3.digitaloceanspaces.com/media/astronaut_images/terry_w._virts_thumbnail_20220911033815.jpeg\",\"flights_count\":2,\"landings_count\":2,\"spacewalks_count\":3,\"last_flight\":\"2014-11-23T21:01:14Z\",\"first_flight\":\"2010-02-08T09:14:00Z\"}]}'"
      ]
     },
     "execution_count": 22,
     "metadata": {},
     "output_type": "execute_result"
    }
   ],
   "source": [
    "# devuelve diccionario typo byte \n",
    "response.content "
   ]
  },
  {
   "cell_type": "code",
   "execution_count": null,
   "metadata": {},
   "outputs": [
    {
     "data": {
      "text/plain": [
       "{'count': 752,\n",
       " 'next': 'https://ll.thespacedevs.com/2.2.0/astronaut/?limit=10&offset=10',\n",
       " 'previous': None,\n",
       " 'results': [{'id': 1,\n",
       "   'url': 'https://ll.thespacedevs.com/2.2.0/astronaut/1/',\n",
       "   'name': 'Thomas Pesquet',\n",
       "   'status': {'id': 1, 'name': 'Active'},\n",
       "   'type': {'id': 2, 'name': 'Government'},\n",
       "   'in_space': False,\n",
       "   'time_in_space': 'P396DT11H33M45S',\n",
       "   'eva_time': 'P1DT15H54M',\n",
       "   'age': 45,\n",
       "   'date_of_birth': '1978-02-27',\n",
       "   'date_of_death': None,\n",
       "   'nationality': 'French',\n",
       "   'bio': 'Thomas Gautier Pesquet is a French aerospace engineer, pilot, and European Space Agency astronaut. Pesquet was selected by ESA as a candidate in May 2009, and he successfully completed his basic training in November 2010. From November 2016 to June 2017, Pesquet was part of Expeditions 50 and 51 on the International Space Station as a flight engineer.',\n",
       "   'twitter': 'https://twitter.com/Thom_astro',\n",
       "   'instagram': 'https://instagram.com/thom_astro',\n",
       "   'wiki': 'https://en.wikipedia.org/wiki/Thomas_Pesquet',\n",
       "   'agency': {'id': 27,\n",
       "    'url': 'https://ll.thespacedevs.com/2.2.0/agencies/27/',\n",
       "    'name': 'European Space Agency',\n",
       "    'featured': False,\n",
       "    'type': 'Multinational',\n",
       "    'country_code': 'AUT,BEL,CZE,DNK,FIN,FRA,DEU,GRC,IRE,ITA,LUZ,NLD,NOR,POL,PRT,ROU,ESP,SWE,CHE,GBR',\n",
       "    'abbrev': 'ESA',\n",
       "    'description': \"The European Space Agency is an intergovernmental organisation of 22 member states. Established in 1975 and headquartered in Paris, France, ESA has a worldwide staff of about 2,000 employees.\\r\\n\\r\\nESA's space flight programme includes human spaceflight (mainly through participation in the International Space Station program); the launch and operation of unmanned exploration missions to other planets and the Moon; Earth observation, science and telecommunication; designing launch vehicles; and maintaining a major spaceport, the Guiana Space Centre at Kourou, French Guiana.\",\n",
       "    'administrator': 'Director General: Josef Aschbacher',\n",
       "    'founding_year': '1975',\n",
       "    'launchers': '',\n",
       "    'spacecraft': '',\n",
       "    'parent': None,\n",
       "    'image_url': None,\n",
       "    'logo_url': 'https://spacelaunchnow-prod-east.nyc3.digitaloceanspaces.com/media/logo/european2520space2520agency_logo_20221130101442.png'},\n",
       "   'profile_image': 'https://spacelaunchnow-prod-east.nyc3.digitaloceanspaces.com/media/astronaut_images/thomas2520pesquet_image_20200102120546.jpeg',\n",
       "   'profile_image_thumbnail': 'https://spacelaunchnow-prod-east.nyc3.digitaloceanspaces.com/media/astronaut_images/thomas_pesquet_thumbnail_20220911033657.jpeg',\n",
       "   'flights_count': 2,\n",
       "   'landings_count': 2,\n",
       "   'spacewalks_count': 6,\n",
       "   'last_flight': '2021-04-23T09:49:02Z',\n",
       "   'first_flight': '2016-11-17T20:20:13Z'},\n",
       "  {'id': 2,\n",
       "   'url': 'https://ll.thespacedevs.com/2.2.0/astronaut/2/',\n",
       "   'name': 'Claude Nicollier',\n",
       "   'status': {'id': 2, 'name': 'Retired'},\n",
       "   'type': {'id': 2, 'name': 'Government'},\n",
       "   'in_space': False,\n",
       "   'time_in_space': 'P42DT12H3M12S',\n",
       "   'eva_time': 'PT8H10M',\n",
       "   'age': 79,\n",
       "   'date_of_birth': '1944-09-02',\n",
       "   'date_of_death': None,\n",
       "   'nationality': 'Swiss',\n",
       "   'bio': 'Claude Nicollier is the first astronaut from Switzerland. He has flown on four Space Shuttle missions. His first spaceflight (STS-46) was in 1992, and his final spaceflight (STS-103) was in 1999. He took part in two servicing missions to the Hubble Space Telescope (called STS-61 and STS-103). During his final spaceflight he participated in a spacewalk, becoming the first European Space Agency astronaut to do so during a Space Shuttle mission. In 2000 he was assigned to the Astronaut Office Extravehicular Activity Branch, while maintaining a position as Lead ESA Astronaut in Houston. Nicollier retired from ESA in April 2007.',\n",
       "   'twitter': 'https://twitter.com/Astroclaude',\n",
       "   'instagram': None,\n",
       "   'wiki': 'https://en.wikipedia.org/wiki/Claude_Nicollier',\n",
       "   'agency': {'id': 27,\n",
       "    'url': 'https://ll.thespacedevs.com/2.2.0/agencies/27/',\n",
       "    'name': 'European Space Agency',\n",
       "    'featured': False,\n",
       "    'type': 'Multinational',\n",
       "    'country_code': 'AUT,BEL,CZE,DNK,FIN,FRA,DEU,GRC,IRE,ITA,LUZ,NLD,NOR,POL,PRT,ROU,ESP,SWE,CHE,GBR',\n",
       "    'abbrev': 'ESA',\n",
       "    'description': \"The European Space Agency is an intergovernmental organisation of 22 member states. Established in 1975 and headquartered in Paris, France, ESA has a worldwide staff of about 2,000 employees.\\r\\n\\r\\nESA's space flight programme includes human spaceflight (mainly through participation in the International Space Station program); the launch and operation of unmanned exploration missions to other planets and the Moon; Earth observation, science and telecommunication; designing launch vehicles; and maintaining a major spaceport, the Guiana Space Centre at Kourou, French Guiana.\",\n",
       "    'administrator': 'Director General: Josef Aschbacher',\n",
       "    'founding_year': '1975',\n",
       "    'launchers': '',\n",
       "    'spacecraft': '',\n",
       "    'parent': None,\n",
       "    'image_url': None,\n",
       "    'logo_url': 'https://spacelaunchnow-prod-east.nyc3.digitaloceanspaces.com/media/logo/european2520space2520agency_logo_20221130101442.png'},\n",
       "   'profile_image': 'https://spacelaunchnow-prod-east.nyc3.digitaloceanspaces.com/media/astronaut_images/claude2520nicollier_image_20181127203218.jpg',\n",
       "   'profile_image_thumbnail': 'https://spacelaunchnow-prod-east.nyc3.digitaloceanspaces.com/media/astronaut_images/claude_nicollie_thumbnail_20220911033747.jpeg',\n",
       "   'flights_count': 4,\n",
       "   'landings_count': 4,\n",
       "   'spacewalks_count': 1,\n",
       "   'last_flight': '1999-12-20T00:50:00Z',\n",
       "   'first_flight': '1992-07-31T13:56:48Z'},\n",
       "  {'id': 3,\n",
       "   'url': 'https://ll.thespacedevs.com/2.2.0/astronaut/3/',\n",
       "   'name': 'Tim Peake',\n",
       "   'status': {'id': 2, 'name': 'Retired'},\n",
       "   'type': {'id': 2, 'name': 'Government'},\n",
       "   'in_space': False,\n",
       "   'time_in_space': 'P185DT22H11M51S',\n",
       "   'eva_time': 'PT4H43M',\n",
       "   'age': 51,\n",
       "   'date_of_birth': '1972-04-07',\n",
       "   'date_of_death': None,\n",
       "   'nationality': 'British',\n",
       "   'bio': \"Major Timothy Nigel Peake CMG is a British Army Air Corps officer, former European Space Agency astronaut and International Space Station (ISS) crew member.  He is the first British ESA astronaut, the second astronaut to bear a flag of the United Kingdom patch, the sixth person born in the United Kingdom to go on board the International Space Station and the seventh UK-born person in space. He began the ESA's intensive astronaut basic training course in September 2009 and graduated on 22 November 2010\",\n",
       "   'twitter': 'https://twitter.com/astro_timpeake',\n",
       "   'instagram': 'https://www.instagram.com/astro_timpeake/',\n",
       "   'wiki': 'https://en.wikipedia.org/wiki/Tim_Peake',\n",
       "   'agency': {'id': 27,\n",
       "    'url': 'https://ll.thespacedevs.com/2.2.0/agencies/27/',\n",
       "    'name': 'European Space Agency',\n",
       "    'featured': False,\n",
       "    'type': 'Multinational',\n",
       "    'country_code': 'AUT,BEL,CZE,DNK,FIN,FRA,DEU,GRC,IRE,ITA,LUZ,NLD,NOR,POL,PRT,ROU,ESP,SWE,CHE,GBR',\n",
       "    'abbrev': 'ESA',\n",
       "    'description': \"The European Space Agency is an intergovernmental organisation of 22 member states. Established in 1975 and headquartered in Paris, France, ESA has a worldwide staff of about 2,000 employees.\\r\\n\\r\\nESA's space flight programme includes human spaceflight (mainly through participation in the International Space Station program); the launch and operation of unmanned exploration missions to other planets and the Moon; Earth observation, science and telecommunication; designing launch vehicles; and maintaining a major spaceport, the Guiana Space Centre at Kourou, French Guiana.\",\n",
       "    'administrator': 'Director General: Josef Aschbacher',\n",
       "    'founding_year': '1975',\n",
       "    'launchers': '',\n",
       "    'spacecraft': '',\n",
       "    'parent': None,\n",
       "    'image_url': None,\n",
       "    'logo_url': 'https://spacelaunchnow-prod-east.nyc3.digitaloceanspaces.com/media/logo/european2520space2520agency_logo_20221130101442.png'},\n",
       "   'profile_image': 'https://spacelaunchnow-prod-east.nyc3.digitaloceanspaces.com/media/astronaut_images/tim_peake_image_20230120154350.jpg',\n",
       "   'profile_image_thumbnail': 'https://spacelaunchnow-prod-east.nyc3.digitaloceanspaces.com/media/astronaut_images/tim_peake_thumbnail_20230120154351.jpeg',\n",
       "   'flights_count': 1,\n",
       "   'landings_count': 1,\n",
       "   'spacewalks_count': 1,\n",
       "   'last_flight': '2015-12-15T11:03:09Z',\n",
       "   'first_flight': '2015-12-15T11:03:09Z'},\n",
       "  {'id': 4,\n",
       "   'url': 'https://ll.thespacedevs.com/2.2.0/astronaut/4/',\n",
       "   'name': 'Buzz Aldrin',\n",
       "   'status': {'id': 2, 'name': 'Retired'},\n",
       "   'type': {'id': 2, 'name': 'Government'},\n",
       "   'in_space': False,\n",
       "   'time_in_space': 'P12DT1H52M27S',\n",
       "   'eva_time': 'PT8H1M40S',\n",
       "   'age': 93,\n",
       "   'date_of_birth': '1930-01-20',\n",
       "   'date_of_death': None,\n",
       "   'nationality': 'American',\n",
       "   'bio': 'Buzz Aldrin; born Edwin Eugene Aldrin Jr.; is an American engineer, former astronaut, and fighter pilot.\\r\\nAs Lunar Module Pilot on the Apollo 11 mission, he and mission commander Neil Armstrong were the first two humans to land on the Moon.',\n",
       "   'twitter': 'https://twitter.com/TheRealBuzz',\n",
       "   'instagram': 'https://www.instagram.com/drbuzzaldrin/',\n",
       "   'wiki': 'https://en.wikipedia.org/wiki/Buzz_Aldrin',\n",
       "   'agency': {'id': 44,\n",
       "    'url': 'https://ll.thespacedevs.com/2.2.0/agencies/44/',\n",
       "    'name': 'National Aeronautics and Space Administration',\n",
       "    'featured': True,\n",
       "    'type': 'Government',\n",
       "    'country_code': 'USA',\n",
       "    'abbrev': 'NASA',\n",
       "    'description': 'The National Aeronautics and Space Administration is an independent agency of the executive branch of the United States federal government responsible for the civilian space program, as well as aeronautics and aerospace research. NASA have many launch facilities but most are inactive. The most commonly used pad will be LC-39B at Kennedy Space Center in Florida.',\n",
       "    'administrator': 'Administrator: Bill Nelson',\n",
       "    'founding_year': '1958',\n",
       "    'launchers': 'Space Shuttle | SLS',\n",
       "    'spacecraft': 'Orion',\n",
       "    'parent': None,\n",
       "    'image_url': 'https://spacelaunchnow-prod-east.nyc3.digitaloceanspaces.com/media/agency_images/national2520aeronautics2520and2520space2520administration_image_20190207032448.jpeg',\n",
       "    'logo_url': 'https://spacelaunchnow-prod-east.nyc3.digitaloceanspaces.com/media/logo/national2520aeronautics2520and2520space2520administration_logo_20190207032448.png'},\n",
       "   'profile_image': 'https://spacelaunchnow-prod-east.nyc3.digitaloceanspaces.com/media/astronaut_images/buzz_aldrin_image_20220911034547.jpeg',\n",
       "   'profile_image_thumbnail': 'https://spacelaunchnow-prod-east.nyc3.digitaloceanspaces.com/media/astronaut_images/buzz_aldrin_thumbnail_20220911034547.jpeg',\n",
       "   'flights_count': 2,\n",
       "   'landings_count': 2,\n",
       "   'spacewalks_count': 4,\n",
       "   'last_flight': '1969-07-16T13:32:00Z',\n",
       "   'first_flight': '1966-11-11T20:46:33Z'},\n",
       "  {'id': 5,\n",
       "   'url': 'https://ll.thespacedevs.com/2.2.0/astronaut/5/',\n",
       "   'name': 'Chris Hadfield',\n",
       "   'status': {'id': 2, 'name': 'Retired'},\n",
       "   'type': {'id': 2, 'name': 'Government'},\n",
       "   'in_space': False,\n",
       "   'time_in_space': 'P165DT16H19M',\n",
       "   'eva_time': 'PT14H50M',\n",
       "   'age': 64,\n",
       "   'date_of_birth': '1959-08-29',\n",
       "   'date_of_death': None,\n",
       "   'nationality': 'Canadian',\n",
       "   'bio': 'Chris Austin Hadfield is a Canadian retired astronaut, engineer, and former Royal Canadian Air Force fighter pilot.\\r\\nThe first Canadian to walk in space, Hadfield has flown two space shuttle missions and served as commander of the International Space Station.',\n",
       "   'twitter': 'https://twitter.com/Cmdr_Hadfield',\n",
       "   'instagram': 'https://www.instagram.com/colchrishadfield/',\n",
       "   'wiki': 'https://en.wikipedia.org/wiki/Chris_Hadfield',\n",
       "   'agency': {'id': 16,\n",
       "    'url': 'https://ll.thespacedevs.com/2.2.0/agencies/16/',\n",
       "    'name': 'Canadian Space Agency',\n",
       "    'featured': False,\n",
       "    'type': 'Government',\n",
       "    'country_code': 'CAN',\n",
       "    'abbrev': 'CSA',\n",
       "    'description': 'The Canadian Space Agency was established by the Canadian Space Agency Act which received Royal Assent on May 10, 1990. \\r\\n\\r\\nThe Canadian space program is administered by the Canadian Space Agency. Canada has contributed technology, expertise and personnel to the world space effort, especially in collaboration with ESA and NASA. In addition to its astronauts and satellites, some of the most notable Canadian technological contributions to space exploration include the Canadarm on the Space Shuttle and Canadarm2 on the International Space Station.',\n",
       "    'administrator': 'President: Lisa Campbell',\n",
       "    'founding_year': '1990',\n",
       "    'launchers': '',\n",
       "    'spacecraft': '',\n",
       "    'parent': None,\n",
       "    'image_url': None,\n",
       "    'logo_url': 'https://spacelaunchnow-prod-east.nyc3.digitaloceanspaces.com/media/logo/canadian2520space2520agency_logo_20231122160211.png'},\n",
       "   'profile_image': 'https://spacelaunchnow-prod-east.nyc3.digitaloceanspaces.com/media/astronaut_images/chris_hadfield_image_20220911034200.jpeg',\n",
       "   'profile_image_thumbnail': 'https://spacelaunchnow-prod-east.nyc3.digitaloceanspaces.com/media/astronaut_images/chris_hadfield_thumbnail_20220911034200.jpeg',\n",
       "   'flights_count': 3,\n",
       "   'landings_count': 3,\n",
       "   'spacewalks_count': 2,\n",
       "   'last_flight': '2012-12-19T12:12:35Z',\n",
       "   'first_flight': '1995-11-12T12:30:43Z'},\n",
       "  {'id': 6,\n",
       "   'url': 'https://ll.thespacedevs.com/2.2.0/astronaut/6/',\n",
       "   'name': 'David Saint-Jacques',\n",
       "   'status': {'id': 1, 'name': 'Active'},\n",
       "   'type': {'id': 2, 'name': 'Government'},\n",
       "   'in_space': False,\n",
       "   'time_in_space': 'P203DT12H28M8S',\n",
       "   'eva_time': 'PT6H29M',\n",
       "   'age': 54,\n",
       "   'date_of_birth': '1970-01-06',\n",
       "   'date_of_death': None,\n",
       "   'nationality': 'Canadian',\n",
       "   'bio': 'David Saint-Jacques is a Canadian astronaut with the Canadian Space Agency (CSA).\\r\\nHe was also an engineer, an astrophysicist, and a physician prior to joining the CSA.\\r\\nHe was selected to join the CSA in the 2009 CSA selection along with Jeremy Hansen.',\n",
       "   'twitter': 'https://twitter.com/Astro_DavidS',\n",
       "   'instagram': 'https://www.instagram.com/astrodavids/',\n",
       "   'wiki': 'https://en.wikipedia.org/wiki/David_Saint-Jacques',\n",
       "   'agency': {'id': 16,\n",
       "    'url': 'https://ll.thespacedevs.com/2.2.0/agencies/16/',\n",
       "    'name': 'Canadian Space Agency',\n",
       "    'featured': False,\n",
       "    'type': 'Government',\n",
       "    'country_code': 'CAN',\n",
       "    'abbrev': 'CSA',\n",
       "    'description': 'The Canadian Space Agency was established by the Canadian Space Agency Act which received Royal Assent on May 10, 1990. \\r\\n\\r\\nThe Canadian space program is administered by the Canadian Space Agency. Canada has contributed technology, expertise and personnel to the world space effort, especially in collaboration with ESA and NASA. In addition to its astronauts and satellites, some of the most notable Canadian technological contributions to space exploration include the Canadarm on the Space Shuttle and Canadarm2 on the International Space Station.',\n",
       "    'administrator': 'President: Lisa Campbell',\n",
       "    'founding_year': '1990',\n",
       "    'launchers': '',\n",
       "    'spacecraft': '',\n",
       "    'parent': None,\n",
       "    'image_url': None,\n",
       "    'logo_url': 'https://spacelaunchnow-prod-east.nyc3.digitaloceanspaces.com/media/logo/canadian2520space2520agency_logo_20231122160211.png'},\n",
       "   'profile_image': 'https://spacelaunchnow-prod-east.nyc3.digitaloceanspaces.com/media/astronaut_images/david_saint-jac_image_20220911034207.jpeg',\n",
       "   'profile_image_thumbnail': 'https://spacelaunchnow-prod-east.nyc3.digitaloceanspaces.com/media/astronaut_images/david_saint-jac_thumbnail_20220911034208.jpeg',\n",
       "   'flights_count': 1,\n",
       "   'landings_count': 1,\n",
       "   'spacewalks_count': 1,\n",
       "   'last_flight': '2018-12-03T11:31:52Z',\n",
       "   'first_flight': '2018-12-03T11:31:52Z'},\n",
       "  {'id': 7,\n",
       "   'url': 'https://ll.thespacedevs.com/2.2.0/astronaut/7/',\n",
       "   'name': 'Anne McClain',\n",
       "   'status': {'id': 1, 'name': 'Active'},\n",
       "   'type': {'id': 2, 'name': 'Government'},\n",
       "   'in_space': False,\n",
       "   'time_in_space': 'P203DT12H28M8S',\n",
       "   'eva_time': 'PT13H8M',\n",
       "   'age': 44,\n",
       "   'date_of_birth': '1979-06-07',\n",
       "   'date_of_death': None,\n",
       "   'nationality': 'American',\n",
       "   'bio': 'Anne Charlotte McClain is a lieutenant colonel in the U.S. Army currently assigned to NASA Astronaut Group 21.',\n",
       "   'twitter': 'https://twitter.com/AstroAnnimal',\n",
       "   'instagram': None,\n",
       "   'wiki': 'https://en.wikipedia.org/wiki/Anne_McClain',\n",
       "   'agency': {'id': 44,\n",
       "    'url': 'https://ll.thespacedevs.com/2.2.0/agencies/44/',\n",
       "    'name': 'National Aeronautics and Space Administration',\n",
       "    'featured': True,\n",
       "    'type': 'Government',\n",
       "    'country_code': 'USA',\n",
       "    'abbrev': 'NASA',\n",
       "    'description': 'The National Aeronautics and Space Administration is an independent agency of the executive branch of the United States federal government responsible for the civilian space program, as well as aeronautics and aerospace research. NASA have many launch facilities but most are inactive. The most commonly used pad will be LC-39B at Kennedy Space Center in Florida.',\n",
       "    'administrator': 'Administrator: Bill Nelson',\n",
       "    'founding_year': '1958',\n",
       "    'launchers': 'Space Shuttle | SLS',\n",
       "    'spacecraft': 'Orion',\n",
       "    'parent': None,\n",
       "    'image_url': 'https://spacelaunchnow-prod-east.nyc3.digitaloceanspaces.com/media/agency_images/national2520aeronautics2520and2520space2520administration_image_20190207032448.jpeg',\n",
       "    'logo_url': 'https://spacelaunchnow-prod-east.nyc3.digitaloceanspaces.com/media/logo/national2520aeronautics2520and2520space2520administration_logo_20190207032448.png'},\n",
       "   'profile_image': 'https://spacelaunchnow-prod-east.nyc3.digitaloceanspaces.com/media/astronaut_images/anne2520mcclain_image_20181127210625.jpg',\n",
       "   'profile_image_thumbnail': 'https://spacelaunchnow-prod-east.nyc3.digitaloceanspaces.com/media/astronaut_images/anne_mcclain_thumbnail_20220911034153.jpeg',\n",
       "   'flights_count': 1,\n",
       "   'landings_count': 1,\n",
       "   'spacewalks_count': 2,\n",
       "   'last_flight': '2018-12-03T11:31:52Z',\n",
       "   'first_flight': '2018-12-03T11:31:52Z'},\n",
       "  {'id': 8,\n",
       "   'url': 'https://ll.thespacedevs.com/2.2.0/astronaut/8/',\n",
       "   'name': 'Andrew R. Morgan',\n",
       "   'status': {'id': 1, 'name': 'Active'},\n",
       "   'type': {'id': 2, 'name': 'Government'},\n",
       "   'in_space': False,\n",
       "   'time_in_space': 'P271DT12H48M22S',\n",
       "   'eva_time': 'P1DT21H48M',\n",
       "   'age': 47,\n",
       "   'date_of_birth': '1976-02-05',\n",
       "   'date_of_death': None,\n",
       "   'nationality': 'American',\n",
       "   'bio': 'Andrew Richard \"Drew\" Morgan is a NASA astronaut from the class of 2013.',\n",
       "   'twitter': 'https://twitter.com/AstroDrewMorgan',\n",
       "   'instagram': 'https://www.instagram.com/astrodrewmorgan/',\n",
       "   'wiki': 'https://en.wikipedia.org/wiki/Andrew_R._Morgan',\n",
       "   'agency': {'id': 44,\n",
       "    'url': 'https://ll.thespacedevs.com/2.2.0/agencies/44/',\n",
       "    'name': 'National Aeronautics and Space Administration',\n",
       "    'featured': True,\n",
       "    'type': 'Government',\n",
       "    'country_code': 'USA',\n",
       "    'abbrev': 'NASA',\n",
       "    'description': 'The National Aeronautics and Space Administration is an independent agency of the executive branch of the United States federal government responsible for the civilian space program, as well as aeronautics and aerospace research. NASA have many launch facilities but most are inactive. The most commonly used pad will be LC-39B at Kennedy Space Center in Florida.',\n",
       "    'administrator': 'Administrator: Bill Nelson',\n",
       "    'founding_year': '1958',\n",
       "    'launchers': 'Space Shuttle | SLS',\n",
       "    'spacecraft': 'Orion',\n",
       "    'parent': None,\n",
       "    'image_url': 'https://spacelaunchnow-prod-east.nyc3.digitaloceanspaces.com/media/agency_images/national2520aeronautics2520and2520space2520administration_image_20190207032448.jpeg',\n",
       "    'logo_url': 'https://spacelaunchnow-prod-east.nyc3.digitaloceanspaces.com/media/logo/national2520aeronautics2520and2520space2520administration_logo_20190207032448.png'},\n",
       "   'profile_image': 'https://spacelaunchnow-prod-east.nyc3.digitaloceanspaces.com/media/astronaut_images/andrew_r._morga_image_20220911034204.jpeg',\n",
       "   'profile_image_thumbnail': 'https://spacelaunchnow-prod-east.nyc3.digitaloceanspaces.com/media/astronaut_images/andrew_r._morga_thumbnail_20220911034204.jpeg',\n",
       "   'flights_count': 1,\n",
       "   'landings_count': 1,\n",
       "   'spacewalks_count': 7,\n",
       "   'last_flight': '2019-07-20T16:28:21Z',\n",
       "   'first_flight': '2019-07-20T16:28:21Z'},\n",
       "  {'id': 9,\n",
       "   'url': 'https://ll.thespacedevs.com/2.2.0/astronaut/9/',\n",
       "   'name': 'Nick Hague',\n",
       "   'status': {'id': 1, 'name': 'Active'},\n",
       "   'type': {'id': 2, 'name': 'Government'},\n",
       "   'in_space': False,\n",
       "   'time_in_space': 'P202DT16H3M37S',\n",
       "   'eva_time': 'PT19H56M',\n",
       "   'age': 48,\n",
       "   'date_of_birth': '1975-09-24',\n",
       "   'date_of_death': None,\n",
       "   'nationality': 'American',\n",
       "   'bio': 'Tyler Nicklaus Hague is an American Flight Test Engineer and a NASA astronaut of the class of 2013.\\r\\nSelected to be a flight engineer of Expedition 57 / 58 to the International Space Station, he launched on board Soyuz MS-10, which aborted shortly after launch on October 11, 2018.',\n",
       "   'twitter': 'https://twitter.com/AstroHague',\n",
       "   'instagram': 'https://www.instagram.com/astrohague/',\n",
       "   'wiki': 'https://en.wikipedia.org/wiki/Nick_Hague',\n",
       "   'agency': {'id': 44,\n",
       "    'url': 'https://ll.thespacedevs.com/2.2.0/agencies/44/',\n",
       "    'name': 'National Aeronautics and Space Administration',\n",
       "    'featured': True,\n",
       "    'type': 'Government',\n",
       "    'country_code': 'USA',\n",
       "    'abbrev': 'NASA',\n",
       "    'description': 'The National Aeronautics and Space Administration is an independent agency of the executive branch of the United States federal government responsible for the civilian space program, as well as aeronautics and aerospace research. NASA have many launch facilities but most are inactive. The most commonly used pad will be LC-39B at Kennedy Space Center in Florida.',\n",
       "    'administrator': 'Administrator: Bill Nelson',\n",
       "    'founding_year': '1958',\n",
       "    'launchers': 'Space Shuttle | SLS',\n",
       "    'spacecraft': 'Orion',\n",
       "    'parent': None,\n",
       "    'image_url': 'https://spacelaunchnow-prod-east.nyc3.digitaloceanspaces.com/media/agency_images/national2520aeronautics2520and2520space2520administration_image_20190207032448.jpeg',\n",
       "    'logo_url': 'https://spacelaunchnow-prod-east.nyc3.digitaloceanspaces.com/media/logo/national2520aeronautics2520and2520space2520administration_logo_20190207032448.png'},\n",
       "   'profile_image': 'https://spacelaunchnow-prod-east.nyc3.digitaloceanspaces.com/media/astronaut_images/nick_hague_image_20220911034312.jpeg',\n",
       "   'profile_image_thumbnail': 'https://spacelaunchnow-prod-east.nyc3.digitaloceanspaces.com/media/astronaut_images/nick_hague_thumbnail_20220911034312.jpeg',\n",
       "   'flights_count': 2,\n",
       "   'landings_count': 2,\n",
       "   'spacewalks_count': 3,\n",
       "   'last_flight': '2019-03-14T19:14:08Z',\n",
       "   'first_flight': '2018-10-11T08:40:15Z'},\n",
       "  {'id': 10,\n",
       "   'url': 'https://ll.thespacedevs.com/2.2.0/astronaut/10/',\n",
       "   'name': 'Terry W. Virts',\n",
       "   'status': {'id': 2, 'name': 'Retired'},\n",
       "   'type': {'id': 2, 'name': 'Government'},\n",
       "   'in_space': False,\n",
       "   'time_in_space': 'P213DT10H50M46S',\n",
       "   'eva_time': 'PT19H2M',\n",
       "   'age': 56,\n",
       "   'date_of_birth': '1967-12-01',\n",
       "   'date_of_death': None,\n",
       "   'nationality': 'American',\n",
       "   'bio': 'Terry W. Virts Jr. is a former NASA astronaut, and Colonel in the United States Air Force.',\n",
       "   'twitter': 'https://twitter.com/AstroTerry',\n",
       "   'instagram': 'https://www.instagram.com/astro_terry/',\n",
       "   'wiki': 'https://en.wikipedia.org/wiki/Terry_W._Virts',\n",
       "   'agency': {'id': 44,\n",
       "    'url': 'https://ll.thespacedevs.com/2.2.0/agencies/44/',\n",
       "    'name': 'National Aeronautics and Space Administration',\n",
       "    'featured': True,\n",
       "    'type': 'Government',\n",
       "    'country_code': 'USA',\n",
       "    'abbrev': 'NASA',\n",
       "    'description': 'The National Aeronautics and Space Administration is an independent agency of the executive branch of the United States federal government responsible for the civilian space program, as well as aeronautics and aerospace research. NASA have many launch facilities but most are inactive. The most commonly used pad will be LC-39B at Kennedy Space Center in Florida.',\n",
       "    'administrator': 'Administrator: Bill Nelson',\n",
       "    'founding_year': '1958',\n",
       "    'launchers': 'Space Shuttle | SLS',\n",
       "    'spacecraft': 'Orion',\n",
       "    'parent': None,\n",
       "    'image_url': 'https://spacelaunchnow-prod-east.nyc3.digitaloceanspaces.com/media/agency_images/national2520aeronautics2520and2520space2520administration_image_20190207032448.jpeg',\n",
       "    'logo_url': 'https://spacelaunchnow-prod-east.nyc3.digitaloceanspaces.com/media/logo/national2520aeronautics2520and2520space2520administration_logo_20190207032448.png'},\n",
       "   'profile_image': 'https://spacelaunchnow-prod-east.nyc3.digitaloceanspaces.com/media/astronaut_images/terry_w._virts_image_20220911033815.jpeg',\n",
       "   'profile_image_thumbnail': 'https://spacelaunchnow-prod-east.nyc3.digitaloceanspaces.com/media/astronaut_images/terry_w._virts_thumbnail_20220911033815.jpeg',\n",
       "   'flights_count': 2,\n",
       "   'landings_count': 2,\n",
       "   'spacewalks_count': 3,\n",
       "   'last_flight': '2014-11-23T21:01:14Z',\n",
       "   'first_flight': '2010-02-08T09:14:00Z'}]}"
      ]
     },
     "execution_count": 24,
     "metadata": {},
     "output_type": "execute_result"
    }
   ],
   "source": [
    "response.json()"
   ]
  },
  {
   "cell_type": "code",
   "execution_count": null,
   "metadata": {},
   "outputs": [
    {
     "ename": "AttributeError",
     "evalue": "'Response' object has no attribute 'generator'",
     "output_type": "error",
     "traceback": [
      "\u001b[0;31m---------------------------------------------------------------------------\u001b[0m",
      "\u001b[0;31mAttributeError\u001b[0m                            Traceback (most recent call last)",
      "Cell \u001b[0;32mIn[27], line 1\u001b[0m\n\u001b[0;32m----> 1\u001b[0m \u001b[43mresponse\u001b[49m\u001b[38;5;241;43m.\u001b[39;49m\u001b[43mgenerator\u001b[49m()\n",
      "\u001b[0;31mAttributeError\u001b[0m: 'Response' object has no attribute 'generator'"
     ]
    }
   ],
   "source": []
  },
  {
   "cell_type": "code",
   "execution_count": null,
   "metadata": {
    "collapsed": true,
    "jupyter": {
     "outputs_hidden": true
    },
    "tags": []
   },
   "outputs": [
    {
     "data": {
      "text/plain": [
       "{'version': 0.6,\n",
       " 'generator': 'Overpass API 0.7.61.5 4133829e',\n",
       " 'osm3s': {'timestamp_osm_base': '2024-01-08T20:01:59Z',\n",
       "  'copyright': 'The data included in this document is from www.openstreetmap.org. The data is made available under ODbL.'},\n",
       " 'elements': [{'type': 'node',\n",
       "   'id': 2977298934,\n",
       "   'lat': 40.4210523,\n",
       "   'lon': -3.689841,\n",
       "   'tags': {'addr:city': 'Madrid',\n",
       "    'addr:housenumber': '4',\n",
       "    'addr:street': 'Calle de Villalar',\n",
       "    'amenity': 'cafe',\n",
       "    'cuisine': 'regional',\n",
       "    'internet_access': 'yes',\n",
       "    'name': 'Café Villalar',\n",
       "    'phone': '+34 914358937',\n",
       "    'website': 'https://cafeteriavillalar.eatbu.com/'}},\n",
       "  {'type': 'node',\n",
       "   'id': 3426617375,\n",
       "   'lat': 40.4221948,\n",
       "   'lon': -3.6923421,\n",
       "   'tags': {'amenity': 'cafe',\n",
       "    'name': 'Gran Café Gijón',\n",
       "    'phone': '+34 915 215 425',\n",
       "    'website': 'https://cafegijon.com/',\n",
       "    'wikidata': 'Q1025608',\n",
       "    'wikipedia': 'es:Café Gijón'}},\n",
       "  {'type': 'node',\n",
       "   'id': 4703448419,\n",
       "   'lat': 40.4229908,\n",
       "   'lon': -3.6936524,\n",
       "   'tags': {'addr:city': 'Madrid',\n",
       "    'addr:housenumber': '6',\n",
       "    'addr:postcode': '28004',\n",
       "    'addr:street': 'Calle del Marqués de Monasterio',\n",
       "    'amenity': 'cafe',\n",
       "    'contact:facebook': 'https://www.facebook.com/hermanasae',\n",
       "    'contact:instagram': 'https://www.instagram.com/hermanasarce/',\n",
       "    'cuisine': 'cake',\n",
       "    'disused:amenity': 'restaurant',\n",
       "    'name': 'Hermanas Arce',\n",
       "    'old_name': 'Noteolvides',\n",
       "    'opening_hours': 'Tu-Fr 09:00-17:00; Sa 09:30-17:30'}},\n",
       "  {'type': 'node',\n",
       "   'id': 4778747544,\n",
       "   'lat': 40.4223247,\n",
       "   'lon': -3.6909735,\n",
       "   'tags': {'addr:city': 'Madrid',\n",
       "    'addr:housenumber': '1',\n",
       "    'addr:postcode': '28001',\n",
       "    'addr:street': 'Calle de Recoletos',\n",
       "    'amenity': 'cafe',\n",
       "    'brand': 'Santagloria',\n",
       "    'brand:wikidata': 'Q54606497',\n",
       "    'contact:phone': '+34 914319000',\n",
       "    'contact:website': 'https://www.santagloria.com',\n",
       "    'name': 'Santagloria',\n",
       "    'shop': 'bakery'}},\n",
       "  {'type': 'node',\n",
       "   'id': 9207850217,\n",
       "   'lat': 40.4218751,\n",
       "   'lon': -3.6901227,\n",
       "   'tags': {'amenity': 'cafe', 'name': 'masticar'}}]}"
      ]
     },
     "execution_count": 17,
     "metadata": {},
     "output_type": "execute_result"
    }
   ],
   "source": [
    "data"
   ]
  },
  {
   "cell_type": "code",
   "execution_count": null,
   "metadata": {},
   "outputs": [
    {
     "data": {
      "text/plain": [
       "dict_keys(['version', 'generator', 'osm3s', 'elements'])"
      ]
     },
     "execution_count": 18,
     "metadata": {},
     "output_type": "execute_result"
    }
   ],
   "source": [
    "data.keys()"
   ]
  },
  {
   "cell_type": "code",
   "execution_count": null,
   "metadata": {},
   "outputs": [
    {
     "data": {
      "text/plain": [
       "{'timestamp_osm_base': '2024-01-08T20:01:59Z',\n",
       " 'copyright': 'The data included in this document is from www.openstreetmap.org. The data is made available under ODbL.'}"
      ]
     },
     "execution_count": 19,
     "metadata": {},
     "output_type": "execute_result"
    }
   ],
   "source": [
    "data.get('osm3s')"
   ]
  },
  {
   "cell_type": "code",
   "execution_count": null,
   "metadata": {},
   "outputs": [],
   "source": [
    "data['osm3s']"
   ]
  },
  {
   "cell_type": "code",
   "execution_count": null,
   "metadata": {},
   "outputs": [],
   "source": [
    "data['osm3s']['copyright']"
   ]
  },
  {
   "cell_type": "code",
   "execution_count": null,
   "metadata": {},
   "outputs": [],
   "source": [
    "data['elements'][0].get('tags').get('addr:street', 34)"
   ]
  },
  {
   "cell_type": "code",
   "execution_count": null,
   "metadata": {},
   "outputs": [],
   "source": [
    "for element in data['elements']:\n",
    "    print(element)"
   ]
  },
  {
   "cell_type": "code",
   "execution_count": null,
   "metadata": {
    "collapsed": true,
    "jupyter": {
     "outputs_hidden": true
    },
    "tags": []
   },
   "outputs": [],
   "source": [
    "def json_to_dataframe(data_entrada):\n",
    "    elements = data_entrada['elements']\n",
    "    places = {'lat': [], 'lon': [], 'name': [], 'address': []}\n",
    "\n",
    "    for i in elements:\n",
    "        lalitude = i['lat']\n",
    "        longitude = i['lon']\n",
    "        name = i['tags'].get('name')\n",
    "        street = i['tags'].get('addr:street', 'Calle x')\n",
    "        number = i['tags'].get('addr:housenumber', 999)\n",
    "        \n",
    "        places['lat'].append(lalitude)\n",
    "        places['lon'].append(longitude)\n",
    "        places['name'].append(name)\n",
    "        places['address'].append(str(street) + ' ' + str(number))\n",
    "\n",
    "    df = pd.DataFrame(places)\n",
    "    return df"
   ]
  },
  {
   "cell_type": "code",
   "execution_count": null,
   "metadata": {},
   "outputs": [],
   "source": [
    "lista_responses = [data1, data2, data3, data4]\n",
    "for data in lista_responses:\n",
    "    df_return = json_to_dataframe(data)\n",
    "    df_results = df_results.concat(df_return)"
   ]
  },
  {
   "cell_type": "code",
   "execution_count": null,
   "metadata": {},
   "outputs": [],
   "source": [
    "places"
   ]
  },
  {
   "cell_type": "markdown",
   "metadata": {
    "colab_type": "text",
    "id": "JpS8k_tshonl"
   },
   "source": [
    "## Web scrapping de IMDB"
   ]
  },
  {
   "cell_type": "code",
   "execution_count": null,
   "metadata": {
    "colab": {},
    "colab_type": "code",
    "collapsed": true,
    "id": "mq61vOa_honl",
    "jupyter": {
     "outputs_hidden": true
    },
    "outputId": "51d09478-3b42-4620-c0dc-9349c9ad1327",
    "tags": []
   },
   "outputs": [],
   "source": [
    "from bs4 import BeautifulSoup\n",
    "import requests\n",
    "import re\n",
    "import pandas as pd\n",
    "\n",
    "# Download IMDB's Top 250 data\n",
    "url = 'http://www.imdb.com/chart/top'\n",
    "response = requests.get(url)\n",
    "soup = BeautifulSoup(response.text, 'lxml')\n",
    "\n",
    "movies = soup.select('td.titleColumn')\n",
    "links = [a.attrs.get('href') for a in soup.select('td.titleColumn a')]\n",
    "crew = [a.attrs.get('title') for a in soup.select('td.titleColumn a')]\n",
    "ratings = [b.attrs.get('data-value') for b in soup.select('td.posterColumn span[name=ir]')]\n",
    "votes = [b.attrs.get('data-value') for b in soup.select('td.ratingColumn strong')]\n",
    "\n",
    "imdb = []\n",
    "\n",
    "# Store each item into dictionary (data), then put those into a list (imdb)\n",
    "for index in range(0, len(movies)):\n",
    "    # Seperate movie into: 'place', 'title', 'year'\n",
    "    movie_string = movies[index].get_text()\n",
    "    movie = (' '.join(movie_string.split()).replace('.', ''))\n",
    "    movie_title = movie[len(str(index))+1:-7]\n",
    "    year = re.search('\\((.*?)\\)', movie_string).group(1)\n",
    "    place = movie[:len(str(index))-(len(movie))]\n",
    "    data = {\"movie_title\": movie_title,\n",
    "            \"year\": year,\n",
    "            \"place\": place,\n",
    "            \"star_cast\": crew[index],\n",
    "            \"rating\": ratings[index],\n",
    "            \"vote\": votes[index],\n",
    "            \"link\": links[index]}\n",
    "    imdb.append(data)\n",
    "df = pd.DataFrame(imdb)\n",
    "df\n",
    "\n",
    "\n",
    "#for item in imdb:\n",
    "#    print(item['place'], '-', item['movie_title'], '('+item['year']+') -', 'Starring:', item['star_cast'])"
   ]
  },
  {
   "cell_type": "markdown",
   "metadata": {
    "colab_type": "text",
    "id": "KoE5s2BThono"
   },
   "source": [
    "## Acediendo a datos de twitter\n",
    "Para esta demo utilizaremos el paquete [tweepy](https://www.tweepy.org/) para atacar datos de Twitter desde Python.\n",
    "\n",
    "Necesitamos registrarnos en la [web de desarrolladores](https://developer.twitter.com/en/apply-for-access) para obtener unas credenciales."
   ]
  },
  {
   "cell_type": "code",
   "execution_count": null,
   "metadata": {
    "colab": {},
    "colab_type": "code",
    "id": "kTUQb5vphono"
   },
   "outputs": [],
   "source": [
    "import tweepy  \n",
    "import time\n",
    "import csv\n",
    "\n",
    "import json\n",
    "\n",
    "with open('./credentials.json') as f:\n",
    "    credentials = json.load(f)\n",
    "    \n",
    "    \n",
    "# Credenciales de la web de desarroladores\n",
    "access_token = credentials['access_token']  \n",
    "access_token_secret = credentials['access_token_secret']  \n",
    "consumer_key = credentials['consumer_key']\n",
    "consumer_secret = credentials['consumer_secret'] \n",
    "\n",
    "# Nos autenticamos en la API\n",
    "try:\n",
    "    auth = tweepy.OAuthHandler(consumer_key, consumer_secret)  \n",
    "    auth.set_access_token(access_token, access_token_secret)  \n",
    "    api = tweepy.API(auth,wait_on_rate_limit=True)\n",
    "    print(\"Authentication OK\")\n",
    "except:\n",
    "    print(\"Error during authentication\")"
   ]
  },
  {
   "cell_type": "code",
   "execution_count": null,
   "metadata": {
    "colab": {},
    "colab_type": "code",
    "collapsed": true,
    "id": "tkNpF4Uwhonq",
    "jupyter": {
     "outputs_hidden": true
    },
    "outputId": "b8c02159-e16f-460f-eed5-2331e3f9c204",
    "tags": []
   },
   "outputs": [],
   "source": [
    "csvFile = open('tweet_covid19.csv', 'a')\n",
    "\n",
    "#Use csv Writer\n",
    "csvWriter = csv.writer(csvFile)\n",
    "\n",
    "for tweet in tweepy.Cursor(api.search,q=\"#COVID19\",count=50,\n",
    "                           lang=\"es\",\n",
    "                           since=\"2020-09-05\").items(50):\n",
    "    \n",
    "    print(tweet.created_at, tweet.text)\n",
    "    csvWriter.writerow([tweet.created_at, tweet.text.encode('utf-8')])"
   ]
  },
  {
   "cell_type": "markdown",
   "metadata": {},
   "source": [
    "## Datos del espacio"
   ]
  },
  {
   "cell_type": "code",
   "execution_count": null,
   "metadata": {
    "tags": []
   },
   "outputs": [],
   "source": [
    "'''\n",
    "https://thespacedevs.com/llapi\n",
    "https://ll.thespacedevs.com/2.2.0/swagger\n",
    "'''\n",
    "space_url = \"http://ll.thespacedevs.com/2.2.0\"\n",
    "\n",
    "path = \"/astronaut\"\n",
    "\n",
    "url_total = space_url + path\n",
    "\n",
    "response = requests.get(url_total)"
   ]
  },
  {
   "cell_type": "code",
   "execution_count": null,
   "metadata": {
    "collapsed": true,
    "jupyter": {
     "outputs_hidden": true
    },
    "tags": []
   },
   "outputs": [
    {
     "name": "stdout",
     "output_type": "stream",
     "text": [
      "200\n"
     ]
    },
    {
     "data": {
      "text/plain": [
       "{'count': 752,\n",
       " 'next': 'https://ll.thespacedevs.com/2.2.0/astronaut/?limit=10&offset=10',\n",
       " 'previous': None,\n",
       " 'results': [{'id': 1,\n",
       "   'url': 'https://ll.thespacedevs.com/2.2.0/astronaut/1/',\n",
       "   'name': 'Thomas Pesquet',\n",
       "   'status': {'id': 1, 'name': 'Active'},\n",
       "   'type': {'id': 2, 'name': 'Government'},\n",
       "   'in_space': False,\n",
       "   'time_in_space': 'P396DT11H33M45S',\n",
       "   'eva_time': 'P1DT15H54M',\n",
       "   'age': 45,\n",
       "   'date_of_birth': '1978-02-27',\n",
       "   'date_of_death': None,\n",
       "   'nationality': 'French',\n",
       "   'bio': 'Thomas Gautier Pesquet is a French aerospace engineer, pilot, and European Space Agency astronaut. Pesquet was selected by ESA as a candidate in May 2009, and he successfully completed his basic training in November 2010. From November 2016 to June 2017, Pesquet was part of Expeditions 50 and 51 on the International Space Station as a flight engineer.',\n",
       "   'twitter': 'https://twitter.com/Thom_astro',\n",
       "   'instagram': 'https://instagram.com/thom_astro',\n",
       "   'wiki': 'https://en.wikipedia.org/wiki/Thomas_Pesquet',\n",
       "   'agency': {'id': 27,\n",
       "    'url': 'https://ll.thespacedevs.com/2.2.0/agencies/27/',\n",
       "    'name': 'European Space Agency',\n",
       "    'featured': False,\n",
       "    'type': 'Multinational',\n",
       "    'country_code': 'AUT,BEL,CZE,DNK,FIN,FRA,DEU,GRC,IRE,ITA,LUZ,NLD,NOR,POL,PRT,ROU,ESP,SWE,CHE,GBR',\n",
       "    'abbrev': 'ESA',\n",
       "    'description': \"The European Space Agency is an intergovernmental organisation of 22 member states. Established in 1975 and headquartered in Paris, France, ESA has a worldwide staff of about 2,000 employees.\\r\\n\\r\\nESA's space flight programme includes human spaceflight (mainly through participation in the International Space Station program); the launch and operation of unmanned exploration missions to other planets and the Moon; Earth observation, science and telecommunication; designing launch vehicles; and maintaining a major spaceport, the Guiana Space Centre at Kourou, French Guiana.\",\n",
       "    'administrator': 'Director General: Josef Aschbacher',\n",
       "    'founding_year': '1975',\n",
       "    'launchers': '',\n",
       "    'spacecraft': '',\n",
       "    'parent': None,\n",
       "    'image_url': None,\n",
       "    'logo_url': 'https://spacelaunchnow-prod-east.nyc3.digitaloceanspaces.com/media/logo/european2520space2520agency_logo_20221130101442.png'},\n",
       "   'profile_image': 'https://spacelaunchnow-prod-east.nyc3.digitaloceanspaces.com/media/astronaut_images/thomas2520pesquet_image_20200102120546.jpeg',\n",
       "   'profile_image_thumbnail': 'https://spacelaunchnow-prod-east.nyc3.digitaloceanspaces.com/media/astronaut_images/thomas_pesquet_thumbnail_20220911033657.jpeg',\n",
       "   'flights_count': 2,\n",
       "   'landings_count': 2,\n",
       "   'spacewalks_count': 6,\n",
       "   'last_flight': '2021-04-23T09:49:02Z',\n",
       "   'first_flight': '2016-11-17T20:20:13Z'},\n",
       "  {'id': 2,\n",
       "   'url': 'https://ll.thespacedevs.com/2.2.0/astronaut/2/',\n",
       "   'name': 'Claude Nicollier',\n",
       "   'status': {'id': 2, 'name': 'Retired'},\n",
       "   'type': {'id': 2, 'name': 'Government'},\n",
       "   'in_space': False,\n",
       "   'time_in_space': 'P42DT12H3M12S',\n",
       "   'eva_time': 'PT8H10M',\n",
       "   'age': 79,\n",
       "   'date_of_birth': '1944-09-02',\n",
       "   'date_of_death': None,\n",
       "   'nationality': 'Swiss',\n",
       "   'bio': 'Claude Nicollier is the first astronaut from Switzerland. He has flown on four Space Shuttle missions. His first spaceflight (STS-46) was in 1992, and his final spaceflight (STS-103) was in 1999. He took part in two servicing missions to the Hubble Space Telescope (called STS-61 and STS-103). During his final spaceflight he participated in a spacewalk, becoming the first European Space Agency astronaut to do so during a Space Shuttle mission. In 2000 he was assigned to the Astronaut Office Extravehicular Activity Branch, while maintaining a position as Lead ESA Astronaut in Houston. Nicollier retired from ESA in April 2007.',\n",
       "   'twitter': 'https://twitter.com/Astroclaude',\n",
       "   'instagram': None,\n",
       "   'wiki': 'https://en.wikipedia.org/wiki/Claude_Nicollier',\n",
       "   'agency': {'id': 27,\n",
       "    'url': 'https://ll.thespacedevs.com/2.2.0/agencies/27/',\n",
       "    'name': 'European Space Agency',\n",
       "    'featured': False,\n",
       "    'type': 'Multinational',\n",
       "    'country_code': 'AUT,BEL,CZE,DNK,FIN,FRA,DEU,GRC,IRE,ITA,LUZ,NLD,NOR,POL,PRT,ROU,ESP,SWE,CHE,GBR',\n",
       "    'abbrev': 'ESA',\n",
       "    'description': \"The European Space Agency is an intergovernmental organisation of 22 member states. Established in 1975 and headquartered in Paris, France, ESA has a worldwide staff of about 2,000 employees.\\r\\n\\r\\nESA's space flight programme includes human spaceflight (mainly through participation in the International Space Station program); the launch and operation of unmanned exploration missions to other planets and the Moon; Earth observation, science and telecommunication; designing launch vehicles; and maintaining a major spaceport, the Guiana Space Centre at Kourou, French Guiana.\",\n",
       "    'administrator': 'Director General: Josef Aschbacher',\n",
       "    'founding_year': '1975',\n",
       "    'launchers': '',\n",
       "    'spacecraft': '',\n",
       "    'parent': None,\n",
       "    'image_url': None,\n",
       "    'logo_url': 'https://spacelaunchnow-prod-east.nyc3.digitaloceanspaces.com/media/logo/european2520space2520agency_logo_20221130101442.png'},\n",
       "   'profile_image': 'https://spacelaunchnow-prod-east.nyc3.digitaloceanspaces.com/media/astronaut_images/claude2520nicollier_image_20181127203218.jpg',\n",
       "   'profile_image_thumbnail': 'https://spacelaunchnow-prod-east.nyc3.digitaloceanspaces.com/media/astronaut_images/claude_nicollie_thumbnail_20220911033747.jpeg',\n",
       "   'flights_count': 4,\n",
       "   'landings_count': 4,\n",
       "   'spacewalks_count': 1,\n",
       "   'last_flight': '1999-12-20T00:50:00Z',\n",
       "   'first_flight': '1992-07-31T13:56:48Z'},\n",
       "  {'id': 3,\n",
       "   'url': 'https://ll.thespacedevs.com/2.2.0/astronaut/3/',\n",
       "   'name': 'Tim Peake',\n",
       "   'status': {'id': 2, 'name': 'Retired'},\n",
       "   'type': {'id': 2, 'name': 'Government'},\n",
       "   'in_space': False,\n",
       "   'time_in_space': 'P185DT22H11M51S',\n",
       "   'eva_time': 'PT4H43M',\n",
       "   'age': 51,\n",
       "   'date_of_birth': '1972-04-07',\n",
       "   'date_of_death': None,\n",
       "   'nationality': 'British',\n",
       "   'bio': \"Major Timothy Nigel Peake CMG is a British Army Air Corps officer, former European Space Agency astronaut and International Space Station (ISS) crew member.  He is the first British ESA astronaut, the second astronaut to bear a flag of the United Kingdom patch, the sixth person born in the United Kingdom to go on board the International Space Station and the seventh UK-born person in space. He began the ESA's intensive astronaut basic training course in September 2009 and graduated on 22 November 2010\",\n",
       "   'twitter': 'https://twitter.com/astro_timpeake',\n",
       "   'instagram': 'https://www.instagram.com/astro_timpeake/',\n",
       "   'wiki': 'https://en.wikipedia.org/wiki/Tim_Peake',\n",
       "   'agency': {'id': 27,\n",
       "    'url': 'https://ll.thespacedevs.com/2.2.0/agencies/27/',\n",
       "    'name': 'European Space Agency',\n",
       "    'featured': False,\n",
       "    'type': 'Multinational',\n",
       "    'country_code': 'AUT,BEL,CZE,DNK,FIN,FRA,DEU,GRC,IRE,ITA,LUZ,NLD,NOR,POL,PRT,ROU,ESP,SWE,CHE,GBR',\n",
       "    'abbrev': 'ESA',\n",
       "    'description': \"The European Space Agency is an intergovernmental organisation of 22 member states. Established in 1975 and headquartered in Paris, France, ESA has a worldwide staff of about 2,000 employees.\\r\\n\\r\\nESA's space flight programme includes human spaceflight (mainly through participation in the International Space Station program); the launch and operation of unmanned exploration missions to other planets and the Moon; Earth observation, science and telecommunication; designing launch vehicles; and maintaining a major spaceport, the Guiana Space Centre at Kourou, French Guiana.\",\n",
       "    'administrator': 'Director General: Josef Aschbacher',\n",
       "    'founding_year': '1975',\n",
       "    'launchers': '',\n",
       "    'spacecraft': '',\n",
       "    'parent': None,\n",
       "    'image_url': None,\n",
       "    'logo_url': 'https://spacelaunchnow-prod-east.nyc3.digitaloceanspaces.com/media/logo/european2520space2520agency_logo_20221130101442.png'},\n",
       "   'profile_image': 'https://spacelaunchnow-prod-east.nyc3.digitaloceanspaces.com/media/astronaut_images/tim_peake_image_20230120154350.jpg',\n",
       "   'profile_image_thumbnail': 'https://spacelaunchnow-prod-east.nyc3.digitaloceanspaces.com/media/astronaut_images/tim_peake_thumbnail_20230120154351.jpeg',\n",
       "   'flights_count': 1,\n",
       "   'landings_count': 1,\n",
       "   'spacewalks_count': 1,\n",
       "   'last_flight': '2015-12-15T11:03:09Z',\n",
       "   'first_flight': '2015-12-15T11:03:09Z'},\n",
       "  {'id': 4,\n",
       "   'url': 'https://ll.thespacedevs.com/2.2.0/astronaut/4/',\n",
       "   'name': 'Buzz Aldrin',\n",
       "   'status': {'id': 2, 'name': 'Retired'},\n",
       "   'type': {'id': 2, 'name': 'Government'},\n",
       "   'in_space': False,\n",
       "   'time_in_space': 'P12DT1H52M27S',\n",
       "   'eva_time': 'PT8H1M40S',\n",
       "   'age': 93,\n",
       "   'date_of_birth': '1930-01-20',\n",
       "   'date_of_death': None,\n",
       "   'nationality': 'American',\n",
       "   'bio': 'Buzz Aldrin; born Edwin Eugene Aldrin Jr.; is an American engineer, former astronaut, and fighter pilot.\\r\\nAs Lunar Module Pilot on the Apollo 11 mission, he and mission commander Neil Armstrong were the first two humans to land on the Moon.',\n",
       "   'twitter': 'https://twitter.com/TheRealBuzz',\n",
       "   'instagram': 'https://www.instagram.com/drbuzzaldrin/',\n",
       "   'wiki': 'https://en.wikipedia.org/wiki/Buzz_Aldrin',\n",
       "   'agency': {'id': 44,\n",
       "    'url': 'https://ll.thespacedevs.com/2.2.0/agencies/44/',\n",
       "    'name': 'National Aeronautics and Space Administration',\n",
       "    'featured': True,\n",
       "    'type': 'Government',\n",
       "    'country_code': 'USA',\n",
       "    'abbrev': 'NASA',\n",
       "    'description': 'The National Aeronautics and Space Administration is an independent agency of the executive branch of the United States federal government responsible for the civilian space program, as well as aeronautics and aerospace research. NASA have many launch facilities but most are inactive. The most commonly used pad will be LC-39B at Kennedy Space Center in Florida.',\n",
       "    'administrator': 'Administrator: Bill Nelson',\n",
       "    'founding_year': '1958',\n",
       "    'launchers': 'Space Shuttle | SLS',\n",
       "    'spacecraft': 'Orion',\n",
       "    'parent': None,\n",
       "    'image_url': 'https://spacelaunchnow-prod-east.nyc3.digitaloceanspaces.com/media/agency_images/national2520aeronautics2520and2520space2520administration_image_20190207032448.jpeg',\n",
       "    'logo_url': 'https://spacelaunchnow-prod-east.nyc3.digitaloceanspaces.com/media/logo/national2520aeronautics2520and2520space2520administration_logo_20190207032448.png'},\n",
       "   'profile_image': 'https://spacelaunchnow-prod-east.nyc3.digitaloceanspaces.com/media/astronaut_images/buzz_aldrin_image_20220911034547.jpeg',\n",
       "   'profile_image_thumbnail': 'https://spacelaunchnow-prod-east.nyc3.digitaloceanspaces.com/media/astronaut_images/buzz_aldrin_thumbnail_20220911034547.jpeg',\n",
       "   'flights_count': 2,\n",
       "   'landings_count': 2,\n",
       "   'spacewalks_count': 4,\n",
       "   'last_flight': '1969-07-16T13:32:00Z',\n",
       "   'first_flight': '1966-11-11T20:46:33Z'},\n",
       "  {'id': 5,\n",
       "   'url': 'https://ll.thespacedevs.com/2.2.0/astronaut/5/',\n",
       "   'name': 'Chris Hadfield',\n",
       "   'status': {'id': 2, 'name': 'Retired'},\n",
       "   'type': {'id': 2, 'name': 'Government'},\n",
       "   'in_space': False,\n",
       "   'time_in_space': 'P165DT16H19M',\n",
       "   'eva_time': 'PT14H50M',\n",
       "   'age': 64,\n",
       "   'date_of_birth': '1959-08-29',\n",
       "   'date_of_death': None,\n",
       "   'nationality': 'Canadian',\n",
       "   'bio': 'Chris Austin Hadfield is a Canadian retired astronaut, engineer, and former Royal Canadian Air Force fighter pilot.\\r\\nThe first Canadian to walk in space, Hadfield has flown two space shuttle missions and served as commander of the International Space Station.',\n",
       "   'twitter': 'https://twitter.com/Cmdr_Hadfield',\n",
       "   'instagram': 'https://www.instagram.com/colchrishadfield/',\n",
       "   'wiki': 'https://en.wikipedia.org/wiki/Chris_Hadfield',\n",
       "   'agency': {'id': 16,\n",
       "    'url': 'https://ll.thespacedevs.com/2.2.0/agencies/16/',\n",
       "    'name': 'Canadian Space Agency',\n",
       "    'featured': False,\n",
       "    'type': 'Government',\n",
       "    'country_code': 'CAN',\n",
       "    'abbrev': 'CSA',\n",
       "    'description': 'The Canadian Space Agency was established by the Canadian Space Agency Act which received Royal Assent on May 10, 1990. \\r\\n\\r\\nThe Canadian space program is administered by the Canadian Space Agency. Canada has contributed technology, expertise and personnel to the world space effort, especially in collaboration with ESA and NASA. In addition to its astronauts and satellites, some of the most notable Canadian technological contributions to space exploration include the Canadarm on the Space Shuttle and Canadarm2 on the International Space Station.',\n",
       "    'administrator': 'President: Lisa Campbell',\n",
       "    'founding_year': '1990',\n",
       "    'launchers': '',\n",
       "    'spacecraft': '',\n",
       "    'parent': None,\n",
       "    'image_url': None,\n",
       "    'logo_url': 'https://spacelaunchnow-prod-east.nyc3.digitaloceanspaces.com/media/logo/canadian2520space2520agency_logo_20231122160211.png'},\n",
       "   'profile_image': 'https://spacelaunchnow-prod-east.nyc3.digitaloceanspaces.com/media/astronaut_images/chris_hadfield_image_20220911034200.jpeg',\n",
       "   'profile_image_thumbnail': 'https://spacelaunchnow-prod-east.nyc3.digitaloceanspaces.com/media/astronaut_images/chris_hadfield_thumbnail_20220911034200.jpeg',\n",
       "   'flights_count': 3,\n",
       "   'landings_count': 3,\n",
       "   'spacewalks_count': 2,\n",
       "   'last_flight': '2012-12-19T12:12:35Z',\n",
       "   'first_flight': '1995-11-12T12:30:43Z'},\n",
       "  {'id': 6,\n",
       "   'url': 'https://ll.thespacedevs.com/2.2.0/astronaut/6/',\n",
       "   'name': 'David Saint-Jacques',\n",
       "   'status': {'id': 1, 'name': 'Active'},\n",
       "   'type': {'id': 2, 'name': 'Government'},\n",
       "   'in_space': False,\n",
       "   'time_in_space': 'P203DT12H28M8S',\n",
       "   'eva_time': 'PT6H29M',\n",
       "   'age': 54,\n",
       "   'date_of_birth': '1970-01-06',\n",
       "   'date_of_death': None,\n",
       "   'nationality': 'Canadian',\n",
       "   'bio': 'David Saint-Jacques is a Canadian astronaut with the Canadian Space Agency (CSA).\\r\\nHe was also an engineer, an astrophysicist, and a physician prior to joining the CSA.\\r\\nHe was selected to join the CSA in the 2009 CSA selection along with Jeremy Hansen.',\n",
       "   'twitter': 'https://twitter.com/Astro_DavidS',\n",
       "   'instagram': 'https://www.instagram.com/astrodavids/',\n",
       "   'wiki': 'https://en.wikipedia.org/wiki/David_Saint-Jacques',\n",
       "   'agency': {'id': 16,\n",
       "    'url': 'https://ll.thespacedevs.com/2.2.0/agencies/16/',\n",
       "    'name': 'Canadian Space Agency',\n",
       "    'featured': False,\n",
       "    'type': 'Government',\n",
       "    'country_code': 'CAN',\n",
       "    'abbrev': 'CSA',\n",
       "    'description': 'The Canadian Space Agency was established by the Canadian Space Agency Act which received Royal Assent on May 10, 1990. \\r\\n\\r\\nThe Canadian space program is administered by the Canadian Space Agency. Canada has contributed technology, expertise and personnel to the world space effort, especially in collaboration with ESA and NASA. In addition to its astronauts and satellites, some of the most notable Canadian technological contributions to space exploration include the Canadarm on the Space Shuttle and Canadarm2 on the International Space Station.',\n",
       "    'administrator': 'President: Lisa Campbell',\n",
       "    'founding_year': '1990',\n",
       "    'launchers': '',\n",
       "    'spacecraft': '',\n",
       "    'parent': None,\n",
       "    'image_url': None,\n",
       "    'logo_url': 'https://spacelaunchnow-prod-east.nyc3.digitaloceanspaces.com/media/logo/canadian2520space2520agency_logo_20231122160211.png'},\n",
       "   'profile_image': 'https://spacelaunchnow-prod-east.nyc3.digitaloceanspaces.com/media/astronaut_images/david_saint-jac_image_20220911034207.jpeg',\n",
       "   'profile_image_thumbnail': 'https://spacelaunchnow-prod-east.nyc3.digitaloceanspaces.com/media/astronaut_images/david_saint-jac_thumbnail_20220911034208.jpeg',\n",
       "   'flights_count': 1,\n",
       "   'landings_count': 1,\n",
       "   'spacewalks_count': 1,\n",
       "   'last_flight': '2018-12-03T11:31:52Z',\n",
       "   'first_flight': '2018-12-03T11:31:52Z'},\n",
       "  {'id': 7,\n",
       "   'url': 'https://ll.thespacedevs.com/2.2.0/astronaut/7/',\n",
       "   'name': 'Anne McClain',\n",
       "   'status': {'id': 1, 'name': 'Active'},\n",
       "   'type': {'id': 2, 'name': 'Government'},\n",
       "   'in_space': False,\n",
       "   'time_in_space': 'P203DT12H28M8S',\n",
       "   'eva_time': 'PT13H8M',\n",
       "   'age': 44,\n",
       "   'date_of_birth': '1979-06-07',\n",
       "   'date_of_death': None,\n",
       "   'nationality': 'American',\n",
       "   'bio': 'Anne Charlotte McClain is a lieutenant colonel in the U.S. Army currently assigned to NASA Astronaut Group 21.',\n",
       "   'twitter': 'https://twitter.com/AstroAnnimal',\n",
       "   'instagram': None,\n",
       "   'wiki': 'https://en.wikipedia.org/wiki/Anne_McClain',\n",
       "   'agency': {'id': 44,\n",
       "    'url': 'https://ll.thespacedevs.com/2.2.0/agencies/44/',\n",
       "    'name': 'National Aeronautics and Space Administration',\n",
       "    'featured': True,\n",
       "    'type': 'Government',\n",
       "    'country_code': 'USA',\n",
       "    'abbrev': 'NASA',\n",
       "    'description': 'The National Aeronautics and Space Administration is an independent agency of the executive branch of the United States federal government responsible for the civilian space program, as well as aeronautics and aerospace research. NASA have many launch facilities but most are inactive. The most commonly used pad will be LC-39B at Kennedy Space Center in Florida.',\n",
       "    'administrator': 'Administrator: Bill Nelson',\n",
       "    'founding_year': '1958',\n",
       "    'launchers': 'Space Shuttle | SLS',\n",
       "    'spacecraft': 'Orion',\n",
       "    'parent': None,\n",
       "    'image_url': 'https://spacelaunchnow-prod-east.nyc3.digitaloceanspaces.com/media/agency_images/national2520aeronautics2520and2520space2520administration_image_20190207032448.jpeg',\n",
       "    'logo_url': 'https://spacelaunchnow-prod-east.nyc3.digitaloceanspaces.com/media/logo/national2520aeronautics2520and2520space2520administration_logo_20190207032448.png'},\n",
       "   'profile_image': 'https://spacelaunchnow-prod-east.nyc3.digitaloceanspaces.com/media/astronaut_images/anne2520mcclain_image_20181127210625.jpg',\n",
       "   'profile_image_thumbnail': 'https://spacelaunchnow-prod-east.nyc3.digitaloceanspaces.com/media/astronaut_images/anne_mcclain_thumbnail_20220911034153.jpeg',\n",
       "   'flights_count': 1,\n",
       "   'landings_count': 1,\n",
       "   'spacewalks_count': 2,\n",
       "   'last_flight': '2018-12-03T11:31:52Z',\n",
       "   'first_flight': '2018-12-03T11:31:52Z'},\n",
       "  {'id': 8,\n",
       "   'url': 'https://ll.thespacedevs.com/2.2.0/astronaut/8/',\n",
       "   'name': 'Andrew R. Morgan',\n",
       "   'status': {'id': 1, 'name': 'Active'},\n",
       "   'type': {'id': 2, 'name': 'Government'},\n",
       "   'in_space': False,\n",
       "   'time_in_space': 'P271DT12H48M22S',\n",
       "   'eva_time': 'P1DT21H48M',\n",
       "   'age': 47,\n",
       "   'date_of_birth': '1976-02-05',\n",
       "   'date_of_death': None,\n",
       "   'nationality': 'American',\n",
       "   'bio': 'Andrew Richard \"Drew\" Morgan is a NASA astronaut from the class of 2013.',\n",
       "   'twitter': 'https://twitter.com/AstroDrewMorgan',\n",
       "   'instagram': 'https://www.instagram.com/astrodrewmorgan/',\n",
       "   'wiki': 'https://en.wikipedia.org/wiki/Andrew_R._Morgan',\n",
       "   'agency': {'id': 44,\n",
       "    'url': 'https://ll.thespacedevs.com/2.2.0/agencies/44/',\n",
       "    'name': 'National Aeronautics and Space Administration',\n",
       "    'featured': True,\n",
       "    'type': 'Government',\n",
       "    'country_code': 'USA',\n",
       "    'abbrev': 'NASA',\n",
       "    'description': 'The National Aeronautics and Space Administration is an independent agency of the executive branch of the United States federal government responsible for the civilian space program, as well as aeronautics and aerospace research. NASA have many launch facilities but most are inactive. The most commonly used pad will be LC-39B at Kennedy Space Center in Florida.',\n",
       "    'administrator': 'Administrator: Bill Nelson',\n",
       "    'founding_year': '1958',\n",
       "    'launchers': 'Space Shuttle | SLS',\n",
       "    'spacecraft': 'Orion',\n",
       "    'parent': None,\n",
       "    'image_url': 'https://spacelaunchnow-prod-east.nyc3.digitaloceanspaces.com/media/agency_images/national2520aeronautics2520and2520space2520administration_image_20190207032448.jpeg',\n",
       "    'logo_url': 'https://spacelaunchnow-prod-east.nyc3.digitaloceanspaces.com/media/logo/national2520aeronautics2520and2520space2520administration_logo_20190207032448.png'},\n",
       "   'profile_image': 'https://spacelaunchnow-prod-east.nyc3.digitaloceanspaces.com/media/astronaut_images/andrew_r._morga_image_20220911034204.jpeg',\n",
       "   'profile_image_thumbnail': 'https://spacelaunchnow-prod-east.nyc3.digitaloceanspaces.com/media/astronaut_images/andrew_r._morga_thumbnail_20220911034204.jpeg',\n",
       "   'flights_count': 1,\n",
       "   'landings_count': 1,\n",
       "   'spacewalks_count': 7,\n",
       "   'last_flight': '2019-07-20T16:28:21Z',\n",
       "   'first_flight': '2019-07-20T16:28:21Z'},\n",
       "  {'id': 9,\n",
       "   'url': 'https://ll.thespacedevs.com/2.2.0/astronaut/9/',\n",
       "   'name': 'Nick Hague',\n",
       "   'status': {'id': 1, 'name': 'Active'},\n",
       "   'type': {'id': 2, 'name': 'Government'},\n",
       "   'in_space': False,\n",
       "   'time_in_space': 'P202DT16H3M37S',\n",
       "   'eva_time': 'PT19H56M',\n",
       "   'age': 48,\n",
       "   'date_of_birth': '1975-09-24',\n",
       "   'date_of_death': None,\n",
       "   'nationality': 'American',\n",
       "   'bio': 'Tyler Nicklaus Hague is an American Flight Test Engineer and a NASA astronaut of the class of 2013.\\r\\nSelected to be a flight engineer of Expedition 57 / 58 to the International Space Station, he launched on board Soyuz MS-10, which aborted shortly after launch on October 11, 2018.',\n",
       "   'twitter': 'https://twitter.com/AstroHague',\n",
       "   'instagram': 'https://www.instagram.com/astrohague/',\n",
       "   'wiki': 'https://en.wikipedia.org/wiki/Nick_Hague',\n",
       "   'agency': {'id': 44,\n",
       "    'url': 'https://ll.thespacedevs.com/2.2.0/agencies/44/',\n",
       "    'name': 'National Aeronautics and Space Administration',\n",
       "    'featured': True,\n",
       "    'type': 'Government',\n",
       "    'country_code': 'USA',\n",
       "    'abbrev': 'NASA',\n",
       "    'description': 'The National Aeronautics and Space Administration is an independent agency of the executive branch of the United States federal government responsible for the civilian space program, as well as aeronautics and aerospace research. NASA have many launch facilities but most are inactive. The most commonly used pad will be LC-39B at Kennedy Space Center in Florida.',\n",
       "    'administrator': 'Administrator: Bill Nelson',\n",
       "    'founding_year': '1958',\n",
       "    'launchers': 'Space Shuttle | SLS',\n",
       "    'spacecraft': 'Orion',\n",
       "    'parent': None,\n",
       "    'image_url': 'https://spacelaunchnow-prod-east.nyc3.digitaloceanspaces.com/media/agency_images/national2520aeronautics2520and2520space2520administration_image_20190207032448.jpeg',\n",
       "    'logo_url': 'https://spacelaunchnow-prod-east.nyc3.digitaloceanspaces.com/media/logo/national2520aeronautics2520and2520space2520administration_logo_20190207032448.png'},\n",
       "   'profile_image': 'https://spacelaunchnow-prod-east.nyc3.digitaloceanspaces.com/media/astronaut_images/nick_hague_image_20220911034312.jpeg',\n",
       "   'profile_image_thumbnail': 'https://spacelaunchnow-prod-east.nyc3.digitaloceanspaces.com/media/astronaut_images/nick_hague_thumbnail_20220911034312.jpeg',\n",
       "   'flights_count': 2,\n",
       "   'landings_count': 2,\n",
       "   'spacewalks_count': 3,\n",
       "   'last_flight': '2019-03-14T19:14:08Z',\n",
       "   'first_flight': '2018-10-11T08:40:15Z'},\n",
       "  {'id': 10,\n",
       "   'url': 'https://ll.thespacedevs.com/2.2.0/astronaut/10/',\n",
       "   'name': 'Terry W. Virts',\n",
       "   'status': {'id': 2, 'name': 'Retired'},\n",
       "   'type': {'id': 2, 'name': 'Government'},\n",
       "   'in_space': False,\n",
       "   'time_in_space': 'P213DT10H50M46S',\n",
       "   'eva_time': 'PT19H2M',\n",
       "   'age': 56,\n",
       "   'date_of_birth': '1967-12-01',\n",
       "   'date_of_death': None,\n",
       "   'nationality': 'American',\n",
       "   'bio': 'Terry W. Virts Jr. is a former NASA astronaut, and Colonel in the United States Air Force.',\n",
       "   'twitter': 'https://twitter.com/AstroTerry',\n",
       "   'instagram': 'https://www.instagram.com/astro_terry/',\n",
       "   'wiki': 'https://en.wikipedia.org/wiki/Terry_W._Virts',\n",
       "   'agency': {'id': 44,\n",
       "    'url': 'https://ll.thespacedevs.com/2.2.0/agencies/44/',\n",
       "    'name': 'National Aeronautics and Space Administration',\n",
       "    'featured': True,\n",
       "    'type': 'Government',\n",
       "    'country_code': 'USA',\n",
       "    'abbrev': 'NASA',\n",
       "    'description': 'The National Aeronautics and Space Administration is an independent agency of the executive branch of the United States federal government responsible for the civilian space program, as well as aeronautics and aerospace research. NASA have many launch facilities but most are inactive. The most commonly used pad will be LC-39B at Kennedy Space Center in Florida.',\n",
       "    'administrator': 'Administrator: Bill Nelson',\n",
       "    'founding_year': '1958',\n",
       "    'launchers': 'Space Shuttle | SLS',\n",
       "    'spacecraft': 'Orion',\n",
       "    'parent': None,\n",
       "    'image_url': 'https://spacelaunchnow-prod-east.nyc3.digitaloceanspaces.com/media/agency_images/national2520aeronautics2520and2520space2520administration_image_20190207032448.jpeg',\n",
       "    'logo_url': 'https://spacelaunchnow-prod-east.nyc3.digitaloceanspaces.com/media/logo/national2520aeronautics2520and2520space2520administration_logo_20190207032448.png'},\n",
       "   'profile_image': 'https://spacelaunchnow-prod-east.nyc3.digitaloceanspaces.com/media/astronaut_images/terry_w._virts_image_20220911033815.jpeg',\n",
       "   'profile_image_thumbnail': 'https://spacelaunchnow-prod-east.nyc3.digitaloceanspaces.com/media/astronaut_images/terry_w._virts_thumbnail_20220911033815.jpeg',\n",
       "   'flights_count': 2,\n",
       "   'landings_count': 2,\n",
       "   'spacewalks_count': 3,\n",
       "   'last_flight': '2014-11-23T21:01:14Z',\n",
       "   'first_flight': '2010-02-08T09:14:00Z'}]}"
      ]
     },
     "execution_count": 29,
     "metadata": {},
     "output_type": "execute_result"
    }
   ],
   "source": [
    "print(response.status_code)\n",
    "type(response.content)\n",
    "response.json()"
   ]
  },
  {
   "cell_type": "code",
   "execution_count": null,
   "metadata": {},
   "outputs": [],
   "source": [
    "url_total = space_url + path + \"/?nationality=Cuban\"\n",
    "\n",
    "response = requests.get(url_total)"
   ]
  },
  {
   "cell_type": "code",
   "execution_count": null,
   "metadata": {},
   "outputs": [
    {
     "data": {
      "text/plain": [
       "'http://ll.thespacedevs.com/2.2.0/astronaut/?nationality=Cuban'"
      ]
     },
     "execution_count": 31,
     "metadata": {},
     "output_type": "execute_result"
    }
   ],
   "source": [
    "url_total"
   ]
  },
  {
   "cell_type": "code",
   "execution_count": null,
   "metadata": {
    "tags": []
   },
   "outputs": [
    {
     "data": {
      "text/plain": [
       "{'count': 1,\n",
       " 'next': None,\n",
       " 'previous': None,\n",
       " 'results': [{'id': 261,\n",
       "   'url': 'https://ll.thespacedevs.com/2.2.0/astronaut/261/',\n",
       "   'name': 'Arnaldo Tamayo Méndez',\n",
       "   'status': {'id': 2, 'name': 'Retired'},\n",
       "   'type': {'id': 2, 'name': 'Government'},\n",
       "   'in_space': False,\n",
       "   'time_in_space': 'P7DT20H43M24S',\n",
       "   'eva_time': 'P0D',\n",
       "   'age': 81,\n",
       "   'date_of_birth': '1942-01-29',\n",
       "   'date_of_death': None,\n",
       "   'nationality': 'Cuban',\n",
       "   'bio': 'Arnaldo Tamayo Méndez (born January 29, 1942) is a Cuban military officer, legislator, and former cosmonaut and the first person of African heritage in space. As a member of the crew of Soyuz 38, he became the first Cuban citizen and the first person from a country in the Western Hemisphere other than the United States to travel into Earth orbit.',\n",
       "   'twitter': None,\n",
       "   'instagram': None,\n",
       "   'wiki': 'https://en.wikipedia.org/wiki/Arnaldo_Tamayo_M%C3%A9ndez',\n",
       "   'agency': {'id': 63,\n",
       "    'url': 'https://ll.thespacedevs.com/2.2.0/agencies/63/',\n",
       "    'name': 'Russian Federal Space Agency (ROSCOSMOS)',\n",
       "    'featured': True,\n",
       "    'type': 'Government',\n",
       "    'country_code': 'RUS',\n",
       "    'abbrev': 'RFSA',\n",
       "    'description': 'The Roscosmos State Corporation for Space Activities, commonly known as Roscosmos, is the governmental body responsible for the space science program of the Russian Federation and general aerospace research. Soyuz has many launch locations the Russian sites are Baikonur, Plesetsk and Vostochny however Ariane also purchases the vehicle and launches it from French Guiana.',\n",
       "    'administrator': 'Administrator: Yuri Borisov',\n",
       "    'founding_year': '1992',\n",
       "    'launchers': 'Soyuz',\n",
       "    'spacecraft': 'Soyuz',\n",
       "    'parent': None,\n",
       "    'image_url': 'https://spacelaunchnow-prod-east.nyc3.digitaloceanspaces.com/media/agency_images/russian2520federal2520space2520agency25202528roscosmos2529_image_20190207032459.jpeg',\n",
       "    'logo_url': 'https://spacelaunchnow-prod-east.nyc3.digitaloceanspaces.com/media/logo/russian2520federal2520space2520agency25202528roscosmos2529_logo_20190207032459.png'},\n",
       "   'profile_image': 'https://spacelaunchnow-prod-east.nyc3.digitaloceanspaces.com/media/astronaut_images/arnaldo2520tamayo2520m25c325a9ndez_image_20181201221921.jpg',\n",
       "   'profile_image_thumbnail': 'https://spacelaunchnow-prod-east.nyc3.digitaloceanspaces.com/media/astronaut_images/arnaldo_tamayo__thumbnail_20220911034351.jpeg',\n",
       "   'flights_count': 1,\n",
       "   'landings_count': 1,\n",
       "   'spacewalks_count': 0,\n",
       "   'last_flight': '1980-09-18T19:11:03Z',\n",
       "   'first_flight': '1980-09-18T19:11:03Z'}]}"
      ]
     },
     "execution_count": 32,
     "metadata": {},
     "output_type": "execute_result"
    }
   ],
   "source": [
    "response.json()"
   ]
  },
  {
   "cell_type": "code",
   "execution_count": null,
   "metadata": {},
   "outputs": [],
   "source": []
  }
 ],
 "metadata": {
  "colab": {
   "name": "1-DataAccess.ipynb",
   "provenance": []
  },
  "interpreter": {
   "hash": "7c77fdb427e7cbc9bc1367dd530fc2b36aacdbbde1ac83c85833b10dfa8b831c"
  },
  "kernelspec": {
   "display_name": "Python 3.7.4 64-bit",
   "name": "python3"
  },
  "language_info": {
   "codemirror_mode": {
    "name": "ipython",
    "version": 3
   },
   "file_extension": ".py",
   "mimetype": "text/x-python",
   "name": "python",
   "nbconvert_exporter": "python",
   "pygments_lexer": "ipython3",
   "version": "3.11.4"
  }
 },
 "nbformat": 4,
 "nbformat_minor": 4
}
